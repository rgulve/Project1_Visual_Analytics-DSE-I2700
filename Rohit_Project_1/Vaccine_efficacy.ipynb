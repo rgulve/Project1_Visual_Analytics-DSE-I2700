{
 "cells": [
  {
   "cell_type": "code",
   "execution_count": null,
   "id": "11861380",
   "metadata": {},
   "outputs": [],
   "source": [
    "import pandas as pd\n",
    "import seaborn as sns\n",
    "import datetime\n",
    "import warnings\n",
    "from matplotlib import pyplot as plt\n",
    "import numpy as np\n",
    "from plotly.subplots import make_subplots\n",
    "\n",
    "warnings.filterwarnings(\"ignore\")\n"
   ]
  },
  {
   "cell_type": "code",
   "execution_count": null,
   "id": "a7eebbcc",
   "metadata": {},
   "outputs": [],
   "source": [
    "#data = pd.read_csv(\"vaccinations-by-manufacturer-up.csv\")\n",
    "data = pd.read_excel(\"PreprocessingVaccine.xlsx\")\n"
   ]
  },
  {
   "cell_type": "code",
   "execution_count": null,
   "id": "5108eebb",
   "metadata": {},
   "outputs": [],
   "source": [
    "data['Vaccine_Manufacturer'].unique()"
   ]
  },
  {
   "cell_type": "code",
   "execution_count": null,
   "id": "dfbd4af7",
   "metadata": {},
   "outputs": [],
   "source": [
    "len(data['Country'].unique())"
   ]
  },
  {
   "cell_type": "code",
   "execution_count": null,
   "id": "edf6ae3e",
   "metadata": {},
   "outputs": [],
   "source": [
    "data.head()"
   ]
  },
  {
   "cell_type": "code",
   "execution_count": null,
   "id": "5d0ae47c",
   "metadata": {},
   "outputs": [],
   "source": [
    "data.info()"
   ]
  },
  {
   "cell_type": "code",
   "execution_count": null,
   "id": "a2e01462",
   "metadata": {},
   "outputs": [],
   "source": [
    "# data['Total_Vaccinations'] = data['Total_Vaccinations'].astype(int)"
   ]
  },
  {
   "cell_type": "code",
   "execution_count": null,
   "id": "326c1746",
   "metadata": {},
   "outputs": [],
   "source": [
    "# data['Infection_Omicron_var'] = data['Infection_Omicron_var'].astype(int)\n"
   ]
  },
  {
   "cell_type": "code",
   "execution_count": null,
   "id": "86b8f99e",
   "metadata": {},
   "outputs": [],
   "source": [
    "data = data.drop(columns = \"Unnamed: 0\", axis = 1)"
   ]
  },
  {
   "cell_type": "code",
   "execution_count": null,
   "id": "41a6ae5c",
   "metadata": {},
   "outputs": [],
   "source": [
    "# data['Infection_Beta_var_Gamma_var_Delta_var'] = data['Infection_Beta_var_Gamma_var_Delta_var'].astype(int)"
   ]
  },
  {
   "cell_type": "code",
   "execution_count": null,
   "id": "5c7b48ee",
   "metadata": {},
   "outputs": [],
   "source": [
    "data.info()"
   ]
  },
  {
   "cell_type": "code",
   "execution_count": null,
   "id": "0a13e451",
   "metadata": {},
   "outputs": [],
   "source": [
    "# data.to_excel(\"PreprocessingVaccine.xlsx\") "
   ]
  },
  {
   "cell_type": "code",
   "execution_count": null,
   "id": "b58e1e13",
   "metadata": {},
   "outputs": [],
   "source": [
    "data['year'] = pd.DatetimeIndex(data['Date']).year\n",
    "data['Date'] = pd.to_datetime(data['Date'])\n",
    "data = data.sort_values('Date', ascending = True)"
   ]
  },
  {
   "cell_type": "code",
   "execution_count": null,
   "id": "2da6169b",
   "metadata": {},
   "outputs": [],
   "source": [
    "data.reset_index(drop=True, inplace=True)"
   ]
  },
  {
   "cell_type": "code",
   "execution_count": null,
   "id": "ba464ee0",
   "metadata": {},
   "outputs": [],
   "source": [
    "data"
   ]
  },
  {
   "cell_type": "code",
   "execution_count": null,
   "id": "b9bba07e",
   "metadata": {},
   "outputs": [],
   "source": [
    "data.shape"
   ]
  },
  {
   "cell_type": "code",
   "execution_count": null,
   "id": "a2b74956",
   "metadata": {},
   "outputs": [],
   "source": [
    "# data['Date'] = pd.to_datetime(data['Date'], errors='coerce')"
   ]
  },
  {
   "cell_type": "code",
   "execution_count": null,
   "id": "9a427d0d",
   "metadata": {},
   "outputs": [],
   "source": [
    "# df['Date'] = df['Date'].dt.strftime('%m-%Y')"
   ]
  },
  {
   "cell_type": "code",
   "execution_count": null,
   "id": "c52c1714",
   "metadata": {},
   "outputs": [],
   "source": []
  },
  {
   "cell_type": "code",
   "execution_count": null,
   "id": "9e057ec8",
   "metadata": {},
   "outputs": [],
   "source": [
    "# df['month_year'] = pd.to_datetime(df['Date']).dt.to_period('M')"
   ]
  },
  {
   "cell_type": "code",
   "execution_count": null,
   "id": "5905d0dd",
   "metadata": {},
   "outputs": [],
   "source": [
    "gk = data.groupby('Vaccine_Manufacturer')\n",
    "Moderna = gk.get_group('Moderna')\n",
    "Moderna.head()"
   ]
  },
  {
   "cell_type": "code",
   "execution_count": null,
   "id": "10d8d822",
   "metadata": {},
   "outputs": [],
   "source": [
    "Moderna.shape"
   ]
  },
  {
   "cell_type": "code",
   "execution_count": null,
   "id": "c7866a15",
   "metadata": {},
   "outputs": [],
   "source": [
    "len(Moderna['Country'].unique())"
   ]
  },
  {
   "cell_type": "code",
   "execution_count": null,
   "id": "df7e139d",
   "metadata": {},
   "outputs": [],
   "source": [
    "data['Vaccine_Manufacturer'].unique()"
   ]
  },
  {
   "cell_type": "code",
   "execution_count": null,
   "id": "ff59a3fb",
   "metadata": {},
   "outputs": [],
   "source": [
    "import pycountry\n",
    "import plotly.express as px\n",
    "import pandas as pd\n",
    "%matplotlib inline\n",
    "\n",
    "list_countries = Moderna['Country'].unique().tolist()\n",
    "gk = data.groupby('Vaccine_Manufacturer')\n",
    "Moderna = gk.get_group('Moderna')\n",
    "country_cnt = len(Moderna['Country'].unique())\n",
    "d_country_code = {}\n",
    "for country in list_countries:\n",
    "    try:\n",
    "        country_data = pycountry.countries.search_fuzzy(country)\n",
    "        country_code = country_data[0].alpha_3\n",
    "        d_country_code.update({country: country_code})\n",
    "    except:\n",
    "        print('could not add ISO 3 code for ->', country)\n",
    "        d_country_code.update({country: ' '})\n",
    "\n",
    "for k, v in d_country_code.items():\n",
    "    Moderna.loc[(Moderna.Country == k), 'iso_alpha'] = v\n",
    "\n",
    "fig = px.choropleth(data_frame = Moderna,\n",
    "                    locations= \"iso_alpha\",\n",
    "                    color = \"Country\",\n",
    "                    color_continuous_scale= 'RdYlGn',\n",
    "                    hover_name= \"Vaccine_Manufacturer\")\n",
    "fig.update_layout(\n",
    "    title_text = \"Countries {}\".format(country_cnt))\n",
    "\n",
    "\n",
    "fig.show()\n"
   ]
  },
  {
   "cell_type": "code",
   "execution_count": null,
   "id": "4aa3ba1b",
   "metadata": {},
   "outputs": [],
   "source": [
    "import pycountry\n",
    "import plotly.express as px\n",
    "import pandas as pd\n",
    "\n",
    "Pfizer = gk.get_group('Pfizer/BioNTech')\n",
    "list_countries = Pfizer['Country'].unique().tolist()\n",
    "country_cnt = len(Pfizer['Country'].unique())\n",
    "d_country_code = {}\n",
    "for country in list_countries:\n",
    "    try:\n",
    "        country_data = pycountry.countries.search_fuzzy(country)\n",
    "        country_code = country_data[0].alpha_3\n",
    "        d_country_code.update({country: country_code})\n",
    "    except:\n",
    "        print('could not add ISO 3 code for ->', country)\n",
    "        d_country_code.update({country: ' '})\n",
    "\n",
    "for k, v in d_country_code.items():\n",
    "    Pfizer.loc[(Pfizer.Country == k), 'iso_alpha'] = v\n",
    "\n",
    "fig = px.choropleth(data_frame = Pfizer,\n",
    "                    locations= \"iso_alpha\",\n",
    "                    color= \"Country\",\n",
    "                    color_continuous_scale= px.colors.sequential.Inferno,\n",
    "                    hover_name= \"Vaccine_Manufacturer\")\n",
    "fig.update_layout(\n",
    "    title_text = \"Countries {}\".format(country_cnt))\n",
    "\n",
    "\n",
    "fig.show()\n"
   ]
  },
  {
   "cell_type": "code",
   "execution_count": null,
   "id": "f12c8bdb",
   "metadata": {},
   "outputs": [],
   "source": [
    "df1_grouped = data.groupby('Vaccine_Manufacturer')\n",
    "for group_name, df_group in df1_grouped:\n",
    "    vaccine_group = df1_grouped.get_group(group_name)\n",
    "    \n",
    "    list_countries = vaccine_group['Country'].unique().tolist()\n",
    "    country_cnt = len(vaccine_group['Country'].unique())\n",
    "    d_country_code = {}\n",
    "    for country in list_countries:\n",
    "        try:\n",
    "            country_data = pycountry.countries.search_fuzzy(country)\n",
    "            country_code = country_data[0].alpha_3\n",
    "            d_country_code.update({country: country_code})\n",
    "        except:\n",
    "            print('could not add ISO 3 code for ->', country)\n",
    "            d_country_code.update({country: ' '})\n",
    "\n",
    "    for k, v in d_country_code.items():\n",
    "        vaccine_group.loc[(vaccine_group.Country == k), 'iso_alpha'] = v\n",
    "        \n",
    "    fig = make_subplots(rows=3, cols=4, start_cell=\"bottom-left\")\n",
    "\n",
    "        \n",
    "    fig = px.choropleth(data_frame = vaccine_group,\n",
    "                    locations= \"iso_alpha\",\n",
    "                    color= \"Country\",\n",
    "                    color_continuous_scale= px.colors.sequential.Inferno,\n",
    "                    hover_name= \"Vaccine_Manufacturer\")\n",
    "    fig.update_layout(\n",
    "        title_text = \"Countries {}\".format(country_cnt))\n",
    "\n",
    "\n",
    "    fig.show()\n",
    "\n",
    "    \n"
   ]
  },
  {
   "cell_type": "code",
   "execution_count": null,
   "id": "b487d718",
   "metadata": {},
   "outputs": [],
   "source": [
    "vaccine_count = data.groupby(\"Vaccine_Manufacturer\")[\"Country\"].nunique()\n",
    "Vaccine_Manufacturer_count = pd.DataFrame({'Vaccine_Manufacturer':vaccine_count.index, 'Count':vaccine_count.values})"
   ]
  },
  {
   "cell_type": "code",
   "execution_count": null,
   "id": "480f3ea6",
   "metadata": {},
   "outputs": [],
   "source": [
    "import plotly.express as px\n",
    "fig = px.treemap(\n",
    "    Vaccine_Manufacturer_count, path = [\"Vaccine_Manufacturer\", \"Count\"], values = \"Count\"\n",
    "    \n",
    ")\n",
    "fig.update_traces(root_color=\"lightgrey\")\n",
    "fig.show()\n"
   ]
  },
  {
   "cell_type": "code",
   "execution_count": null,
   "id": "b964ff72",
   "metadata": {},
   "outputs": [],
   "source": [
    "# gk = df.groupby(['Country','Total_Vaccinations','Vaccine_Manufacturer'],as_index=False)['Total_Vaccinations'].sum()\n",
    "# gk"
   ]
  },
  {
   "cell_type": "code",
   "execution_count": null,
   "id": "60526203",
   "metadata": {},
   "outputs": [],
   "source": []
  },
  {
   "cell_type": "code",
   "execution_count": null,
   "id": "54e7dfc6",
   "metadata": {},
   "outputs": [],
   "source": [
    "# new_data = data.groupby(['Country','Vaccine_Manufacturer'])['Total_Vaccinations']. == data['Total_Vaccinations']\n",
    "# new_data"
   ]
  },
  {
   "cell_type": "code",
   "execution_count": null,
   "id": "efac0997",
   "metadata": {},
   "outputs": [],
   "source": [
    "# test.groupby(['Country', 'Total_Vaccinations'], as_index=False)['Total_Vaccinations'].sum()\n"
   ]
  },
  {
   "cell_type": "code",
   "execution_count": null,
   "id": "7d313702",
   "metadata": {},
   "outputs": [],
   "source": [
    "OxfordAstraZeneca = data[data[\"Vaccine_Manufacturer\"]==\"Oxford/AstraZeneca\"]\n",
    "OxfordAstraZeneca"
   ]
  },
  {
   "cell_type": "code",
   "execution_count": null,
   "id": "16877d08",
   "metadata": {},
   "outputs": [],
   "source": [
    "total = data.groupby(['Country','Vaccine_Manufacturer'])[\"Total_Vaccinations\"].sum().rename(\"Total_sum\").reset_index()\n",
    "df_1 = data.merge(total)\n",
    "\n",
    "df_1"
   ]
  },
  {
   "cell_type": "code",
   "execution_count": null,
   "id": "8649b7ec",
   "metadata": {},
   "outputs": [],
   "source": [
    "gk = df_1.groupby('Vaccine_Manufacturer')\n"
   ]
  },
  {
   "cell_type": "code",
   "execution_count": null,
   "id": "3cbc87ef",
   "metadata": {},
   "outputs": [],
   "source": [
    "Moderna"
   ]
  },
  {
   "cell_type": "code",
   "execution_count": null,
   "id": "95e3366d",
   "metadata": {},
   "outputs": [],
   "source": [
    "import plotly.express as px\n",
    "\n",
    "total = data.groupby(['Country','Vaccine_Manufacturer'])[\"Total_Vaccinations\"].sum().rename(\"Total_sum\").reset_index()\n",
    "df_1 = data.merge(total)\n",
    "gk_1 = df_1.groupby('Vaccine_Manufacturer')\n",
    "for group_name, df_group in df1_grouped:\n",
    "    Oxford = gk_1.get_group(group_name)\n",
    "    fig = px.scatter(Oxford, x = 'Country', y = 'Total_sum', size = 'Total_sum', color = \"Country\",\n",
    "                hover_name=\"Vaccine_Manufacturer\",size_max=70)\n",
    "\n",
    "    fig.show()\n"
   ]
  },
  {
   "cell_type": "code",
   "execution_count": null,
   "id": "432d57fc",
   "metadata": {},
   "outputs": [],
   "source": [
    "import plotly.express as px\n",
    "Johnson = gk.get_group('Johnson&Johnson')\n",
    "fig = px.scatter(Johnson, x = 'Country', y = 'Total_sum', size = 'Total_sum', color = \"Country\",\n",
    "                hover_name=\"Vaccine_Manufacturer\",size_max=70)\n",
    "\n",
    "fig.show()\n"
   ]
  },
  {
   "cell_type": "code",
   "execution_count": null,
   "id": "a5434670",
   "metadata": {},
   "outputs": [],
   "source": [
    "import plotly.express as px\n",
    "Covaxin = gk.get_group('Covaxin')\n",
    "fig = px.scatter(Covaxin, x = 'Country', y = 'Total_sum', size = 'Total_sum', color = \"Country\",\n",
    "                hover_name=\"Vaccine_Manufacturer\",size_max=70)\n",
    "\n",
    "fig.show()\n"
   ]
  },
  {
   "cell_type": "code",
   "execution_count": null,
   "id": "35020adb",
   "metadata": {},
   "outputs": [],
   "source": [
    "import plotly.express as px\n",
    "Moderna = gk.get_group('Moderna')\n",
    "fig = px.scatter(Moderna, x = 'Country', y = 'Total_sum', size = 'Total_sum', color = \"Country\",\n",
    "                hover_name=\"Vaccine_Manufacturer\",size_max=70)\n",
    "\n",
    "fig.show()\n"
   ]
  },
  {
   "cell_type": "code",
   "execution_count": null,
   "id": "e3f74c9a",
   "metadata": {},
   "outputs": [],
   "source": [
    "cvy_group = data.groupby(['Country', 'Vaccine_Manufacturer', 'year'])\n",
    "cvy_group.first()"
   ]
  },
  {
   "cell_type": "code",
   "execution_count": null,
   "id": "2c49010c",
   "metadata": {},
   "outputs": [],
   "source": [
    "cy = data.groupby(['Country', 'year'])"
   ]
  },
  {
   "cell_type": "code",
   "execution_count": null,
   "id": "6ee3ebc6",
   "metadata": {},
   "outputs": [],
   "source": [
    "data"
   ]
  },
  {
   "cell_type": "code",
   "execution_count": null,
   "id": "417de624",
   "metadata": {},
   "outputs": [],
   "source": [
    "total = data.groupby(['Country','year'])[\"Total_Vaccinations\"].max()\n",
    "df_1 = data.merge(total)\n"
   ]
  },
  {
   "cell_type": "code",
   "execution_count": null,
   "id": "aeec828f",
   "metadata": {},
   "outputs": [],
   "source": [
    "data.head()"
   ]
  },
  {
   "cell_type": "code",
   "execution_count": null,
   "id": "99b7cb3e",
   "metadata": {},
   "outputs": [],
   "source": []
  }
 ],
 "metadata": {
  "kernelspec": {
   "display_name": "Python 3 (ipykernel)",
   "language": "python",
   "name": "python3"
  },
  "language_info": {
   "codemirror_mode": {
    "name": "ipython",
    "version": 3
   },
   "file_extension": ".py",
   "mimetype": "text/x-python",
   "name": "python",
   "nbconvert_exporter": "python",
   "pygments_lexer": "ipython3",
   "version": "3.9.12"
  }
 },
 "nbformat": 4,
 "nbformat_minor": 5
}
