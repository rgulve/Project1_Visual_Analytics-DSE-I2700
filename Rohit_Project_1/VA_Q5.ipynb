{
 "cells": [
  {
   "cell_type": "code",
   "execution_count": 1,
   "id": "f88c1d84",
   "metadata": {},
   "outputs": [],
   "source": [
    "import pandas as pd\n",
    "import seaborn as sns\n",
    "import datetime\n",
    "import warnings\n",
    "from matplotlib import pyplot as plt\n",
    "import numpy as np\n",
    "from plotly.subplots import make_subplots\n",
    "\n",
    "warnings.filterwarnings(\"ignore\")\n"
   ]
  },
  {
   "cell_type": "code",
   "execution_count": 2,
   "id": "b212982d",
   "metadata": {},
   "outputs": [],
   "source": [
    "data = pd.read_excel(\"PreprocessingVaccine.xlsx\")\n"
   ]
  },
  {
   "cell_type": "code",
   "execution_count": 3,
   "id": "68d4c9e5",
   "metadata": {},
   "outputs": [
    {
     "data": {
      "text/html": [
       "<div>\n",
       "<style scoped>\n",
       "    .dataframe tbody tr th:only-of-type {\n",
       "        vertical-align: middle;\n",
       "    }\n",
       "\n",
       "    .dataframe tbody tr th {\n",
       "        vertical-align: top;\n",
       "    }\n",
       "\n",
       "    .dataframe thead th {\n",
       "        text-align: right;\n",
       "    }\n",
       "</style>\n",
       "<table border=\"1\" class=\"dataframe\">\n",
       "  <thead>\n",
       "    <tr style=\"text-align: right;\">\n",
       "      <th></th>\n",
       "      <th>Unnamed: 0</th>\n",
       "      <th>Country</th>\n",
       "      <th>Date</th>\n",
       "      <th>Vaccine_Manufacturer</th>\n",
       "      <th>Total_Vaccinations</th>\n",
       "      <th>Severe_disease_Beta_var_Gamma_var_Delta_var</th>\n",
       "      <th>Infection_Beta_var_Gamma_var_Delta_var</th>\n",
       "      <th>Infection_Omicron_var</th>\n",
       "      <th>SevereDisease_Ancestral_var_Alpha_var</th>\n",
       "      <th>Infection_Ancestral_var_Alpha_var</th>\n",
       "      <th>Severe_disease_Omicron_var</th>\n",
       "    </tr>\n",
       "  </thead>\n",
       "  <tbody>\n",
       "    <tr>\n",
       "      <th>0</th>\n",
       "      <td>0</td>\n",
       "      <td>Argentina</td>\n",
       "      <td>12/29/20</td>\n",
       "      <td>Oxford/AstraZeneca</td>\n",
       "      <td>1</td>\n",
       "      <td>0</td>\n",
       "      <td>0</td>\n",
       "      <td>0</td>\n",
       "      <td>0</td>\n",
       "      <td>0</td>\n",
       "      <td>0</td>\n",
       "    </tr>\n",
       "    <tr>\n",
       "      <th>1</th>\n",
       "      <td>1</td>\n",
       "      <td>Argentina</td>\n",
       "      <td>12/29/20</td>\n",
       "      <td>Sinopharm/Beijing</td>\n",
       "      <td>1</td>\n",
       "      <td>0</td>\n",
       "      <td>0</td>\n",
       "      <td>0</td>\n",
       "      <td>0</td>\n",
       "      <td>0</td>\n",
       "      <td>0</td>\n",
       "    </tr>\n",
       "    <tr>\n",
       "      <th>2</th>\n",
       "      <td>2</td>\n",
       "      <td>Argentina</td>\n",
       "      <td>12/29/20</td>\n",
       "      <td>Sputnik V</td>\n",
       "      <td>20488</td>\n",
       "      <td>18234</td>\n",
       "      <td>17414</td>\n",
       "      <td>7375</td>\n",
       "      <td>18848</td>\n",
       "      <td>17619</td>\n",
       "      <td>11268</td>\n",
       "    </tr>\n",
       "    <tr>\n",
       "      <th>3</th>\n",
       "      <td>3</td>\n",
       "      <td>Argentina</td>\n",
       "      <td>12/30/20</td>\n",
       "      <td>Sputnik V</td>\n",
       "      <td>40590</td>\n",
       "      <td>36125</td>\n",
       "      <td>34501</td>\n",
       "      <td>14612</td>\n",
       "      <td>37342</td>\n",
       "      <td>34907</td>\n",
       "      <td>22324</td>\n",
       "    </tr>\n",
       "    <tr>\n",
       "      <th>4</th>\n",
       "      <td>4</td>\n",
       "      <td>Argentina</td>\n",
       "      <td>12/31/20</td>\n",
       "      <td>Sputnik V</td>\n",
       "      <td>43396</td>\n",
       "      <td>38622</td>\n",
       "      <td>36886</td>\n",
       "      <td>15622</td>\n",
       "      <td>39924</td>\n",
       "      <td>37320</td>\n",
       "      <td>23867</td>\n",
       "    </tr>\n",
       "  </tbody>\n",
       "</table>\n",
       "</div>"
      ],
      "text/plain": [
       "   Unnamed: 0    Country      Date Vaccine_Manufacturer  Total_Vaccinations  \\\n",
       "0           0  Argentina  12/29/20   Oxford/AstraZeneca                   1   \n",
       "1           1  Argentina  12/29/20    Sinopharm/Beijing                   1   \n",
       "2           2  Argentina  12/29/20            Sputnik V               20488   \n",
       "3           3  Argentina  12/30/20            Sputnik V               40590   \n",
       "4           4  Argentina  12/31/20            Sputnik V               43396   \n",
       "\n",
       "   Severe_disease_Beta_var_Gamma_var_Delta_var  \\\n",
       "0                                            0   \n",
       "1                                            0   \n",
       "2                                        18234   \n",
       "3                                        36125   \n",
       "4                                        38622   \n",
       "\n",
       "   Infection_Beta_var_Gamma_var_Delta_var  Infection_Omicron_var  \\\n",
       "0                                       0                      0   \n",
       "1                                       0                      0   \n",
       "2                                   17414                   7375   \n",
       "3                                   34501                  14612   \n",
       "4                                   36886                  15622   \n",
       "\n",
       "   SevereDisease_Ancestral_var_Alpha_var  Infection_Ancestral_var_Alpha_var  \\\n",
       "0                                      0                                  0   \n",
       "1                                      0                                  0   \n",
       "2                                  18848                              17619   \n",
       "3                                  37342                              34907   \n",
       "4                                  39924                              37320   \n",
       "\n",
       "   Severe_disease_Omicron_var  \n",
       "0                           0  \n",
       "1                           0  \n",
       "2                       11268  \n",
       "3                       22324  \n",
       "4                       23867  "
      ]
     },
     "execution_count": 3,
     "metadata": {},
     "output_type": "execute_result"
    }
   ],
   "source": [
    "data.head()"
   ]
  },
  {
   "cell_type": "code",
   "execution_count": 4,
   "id": "eba6fde6",
   "metadata": {},
   "outputs": [
    {
     "data": {
      "text/plain": [
       "Index(['Unnamed: 0', 'Country', 'Date', 'Vaccine_Manufacturer',\n",
       "       'Total_Vaccinations', 'Severe_disease_Beta_var_Gamma_var_Delta_var',\n",
       "       'Infection_Beta_var_Gamma_var_Delta_var', 'Infection_Omicron_var',\n",
       "       'SevereDisease_Ancestral_var_Alpha_var',\n",
       "       'Infection_Ancestral_var_Alpha_var', 'Severe_disease_Omicron_var'],\n",
       "      dtype='object')"
      ]
     },
     "execution_count": 4,
     "metadata": {},
     "output_type": "execute_result"
    }
   ],
   "source": [
    "data.columns"
   ]
  },
  {
   "cell_type": "code",
   "execution_count": 5,
   "id": "b53acb41",
   "metadata": {},
   "outputs": [],
   "source": [
    "data = data.drop(columns = \"Unnamed: 0\", axis = 1)"
   ]
  },
  {
   "cell_type": "code",
   "execution_count": 6,
   "id": "d707ffba",
   "metadata": {},
   "outputs": [],
   "source": [
    "data = data.drop(columns = [\"Severe_disease_Beta_var_Gamma_var_Delta_var\", \"Infection_Beta_var_Gamma_var_Delta_var\",\"Infection_Omicron_var\", \"SevereDisease_Ancestral_var_Alpha_var\", \"Infection_Ancestral_var_Alpha_var\", \"Severe_disease_Omicron_var\"], axis = 1)\n",
    "\n",
    "\n"
   ]
  },
  {
   "cell_type": "code",
   "execution_count": 7,
   "id": "a5ddd0f3",
   "metadata": {},
   "outputs": [
    {
     "data": {
      "text/html": [
       "<div>\n",
       "<style scoped>\n",
       "    .dataframe tbody tr th:only-of-type {\n",
       "        vertical-align: middle;\n",
       "    }\n",
       "\n",
       "    .dataframe tbody tr th {\n",
       "        vertical-align: top;\n",
       "    }\n",
       "\n",
       "    .dataframe thead th {\n",
       "        text-align: right;\n",
       "    }\n",
       "</style>\n",
       "<table border=\"1\" class=\"dataframe\">\n",
       "  <thead>\n",
       "    <tr style=\"text-align: right;\">\n",
       "      <th></th>\n",
       "      <th>Country</th>\n",
       "      <th>Date</th>\n",
       "      <th>Vaccine_Manufacturer</th>\n",
       "      <th>Total_Vaccinations</th>\n",
       "    </tr>\n",
       "  </thead>\n",
       "  <tbody>\n",
       "    <tr>\n",
       "      <th>0</th>\n",
       "      <td>Argentina</td>\n",
       "      <td>12/29/20</td>\n",
       "      <td>Oxford/AstraZeneca</td>\n",
       "      <td>1</td>\n",
       "    </tr>\n",
       "    <tr>\n",
       "      <th>1</th>\n",
       "      <td>Argentina</td>\n",
       "      <td>12/29/20</td>\n",
       "      <td>Sinopharm/Beijing</td>\n",
       "      <td>1</td>\n",
       "    </tr>\n",
       "    <tr>\n",
       "      <th>2</th>\n",
       "      <td>Argentina</td>\n",
       "      <td>12/29/20</td>\n",
       "      <td>Sputnik V</td>\n",
       "      <td>20488</td>\n",
       "    </tr>\n",
       "    <tr>\n",
       "      <th>3</th>\n",
       "      <td>Argentina</td>\n",
       "      <td>12/30/20</td>\n",
       "      <td>Sputnik V</td>\n",
       "      <td>40590</td>\n",
       "    </tr>\n",
       "    <tr>\n",
       "      <th>4</th>\n",
       "      <td>Argentina</td>\n",
       "      <td>12/31/20</td>\n",
       "      <td>Sputnik V</td>\n",
       "      <td>43396</td>\n",
       "    </tr>\n",
       "    <tr>\n",
       "      <th>...</th>\n",
       "      <td>...</td>\n",
       "      <td>...</td>\n",
       "      <td>...</td>\n",
       "      <td>...</td>\n",
       "    </tr>\n",
       "    <tr>\n",
       "      <th>41545</th>\n",
       "      <td>Uruguay</td>\n",
       "      <td>10/12/22</td>\n",
       "      <td>Pfizer/BioNTech</td>\n",
       "      <td>2556144</td>\n",
       "    </tr>\n",
       "    <tr>\n",
       "      <th>41546</th>\n",
       "      <td>Uruguay</td>\n",
       "      <td>10/13/22</td>\n",
       "      <td>Pfizer/BioNTech</td>\n",
       "      <td>2556166</td>\n",
       "    </tr>\n",
       "    <tr>\n",
       "      <th>41547</th>\n",
       "      <td>Uruguay</td>\n",
       "      <td>10/14/22</td>\n",
       "      <td>Pfizer/BioNTech</td>\n",
       "      <td>2556194</td>\n",
       "    </tr>\n",
       "    <tr>\n",
       "      <th>41548</th>\n",
       "      <td>Uruguay</td>\n",
       "      <td>10/15/22</td>\n",
       "      <td>Pfizer/BioNTech</td>\n",
       "      <td>2556197</td>\n",
       "    </tr>\n",
       "    <tr>\n",
       "      <th>41549</th>\n",
       "      <td>Uruguay</td>\n",
       "      <td>10/17/22</td>\n",
       "      <td>Pfizer/BioNTech</td>\n",
       "      <td>2556226</td>\n",
       "    </tr>\n",
       "  </tbody>\n",
       "</table>\n",
       "<p>41550 rows × 4 columns</p>\n",
       "</div>"
      ],
      "text/plain": [
       "         Country      Date Vaccine_Manufacturer  Total_Vaccinations\n",
       "0      Argentina  12/29/20   Oxford/AstraZeneca                   1\n",
       "1      Argentina  12/29/20    Sinopharm/Beijing                   1\n",
       "2      Argentina  12/29/20            Sputnik V               20488\n",
       "3      Argentina  12/30/20            Sputnik V               40590\n",
       "4      Argentina  12/31/20            Sputnik V               43396\n",
       "...          ...       ...                  ...                 ...\n",
       "41545    Uruguay  10/12/22      Pfizer/BioNTech             2556144\n",
       "41546    Uruguay  10/13/22      Pfizer/BioNTech             2556166\n",
       "41547    Uruguay  10/14/22      Pfizer/BioNTech             2556194\n",
       "41548    Uruguay  10/15/22      Pfizer/BioNTech             2556197\n",
       "41549    Uruguay  10/17/22      Pfizer/BioNTech             2556226\n",
       "\n",
       "[41550 rows x 4 columns]"
      ]
     },
     "execution_count": 7,
     "metadata": {},
     "output_type": "execute_result"
    }
   ],
   "source": [
    "data"
   ]
  },
  {
   "cell_type": "code",
   "execution_count": 8,
   "id": "3da93f50",
   "metadata": {},
   "outputs": [
    {
     "data": {
      "text/html": [
       "<div>\n",
       "<style scoped>\n",
       "    .dataframe tbody tr th:only-of-type {\n",
       "        vertical-align: middle;\n",
       "    }\n",
       "\n",
       "    .dataframe tbody tr th {\n",
       "        vertical-align: top;\n",
       "    }\n",
       "\n",
       "    .dataframe thead th {\n",
       "        text-align: right;\n",
       "    }\n",
       "</style>\n",
       "<table border=\"1\" class=\"dataframe\">\n",
       "  <thead>\n",
       "    <tr style=\"text-align: right;\">\n",
       "      <th></th>\n",
       "      <th>Vaccine_Manufacturer</th>\n",
       "      <th>Protection from Severe Disease</th>\n",
       "      <th>Protection from Infection</th>\n",
       "      <th>Protection from Severe Disease.1</th>\n",
       "      <th>Protection from Infection.1</th>\n",
       "      <th>Protection from Severe Disease.2</th>\n",
       "      <th>Protection from Infection.2</th>\n",
       "      <th>Protection from Severe Disease.3</th>\n",
       "      <th>Protection from Infection.3</th>\n",
       "      <th>Protection from Severe Disease.4</th>\n",
       "      <th>Protection from Infection.4</th>\n",
       "      <th>Protection from Severe Disease.5</th>\n",
       "      <th>Protection from Infection.5</th>\n",
       "    </tr>\n",
       "  </thead>\n",
       "  <tbody>\n",
       "    <tr>\n",
       "      <th>0</th>\n",
       "      <td>NaN</td>\n",
       "      <td>Ancestral</td>\n",
       "      <td>Ancestral</td>\n",
       "      <td>Alpha</td>\n",
       "      <td>Alpha</td>\n",
       "      <td>Beta</td>\n",
       "      <td>Beta</td>\n",
       "      <td>Gamma</td>\n",
       "      <td>Gamma</td>\n",
       "      <td>delta</td>\n",
       "      <td>Delta</td>\n",
       "      <td>Omicron</td>\n",
       "      <td>Omicron</td>\n",
       "    </tr>\n",
       "    <tr>\n",
       "      <th>1</th>\n",
       "      <td>CanSino</td>\n",
       "      <td>66</td>\n",
       "      <td>62</td>\n",
       "      <td>66</td>\n",
       "      <td>62</td>\n",
       "      <td>64</td>\n",
       "      <td>61</td>\n",
       "      <td>64</td>\n",
       "      <td>61</td>\n",
       "      <td>64</td>\n",
       "      <td>61</td>\n",
       "      <td>48</td>\n",
       "      <td>32</td>\n",
       "    </tr>\n",
       "    <tr>\n",
       "      <th>2</th>\n",
       "      <td>Covaxin</td>\n",
       "      <td>78</td>\n",
       "      <td>73</td>\n",
       "      <td>78</td>\n",
       "      <td>73</td>\n",
       "      <td>76</td>\n",
       "      <td>72</td>\n",
       "      <td>76</td>\n",
       "      <td>72</td>\n",
       "      <td>76</td>\n",
       "      <td>72</td>\n",
       "      <td>57</td>\n",
       "      <td>38</td>\n",
       "    </tr>\n",
       "    <tr>\n",
       "      <th>3</th>\n",
       "      <td>Johnson&amp;Johnson</td>\n",
       "      <td>86</td>\n",
       "      <td>72</td>\n",
       "      <td>86</td>\n",
       "      <td>72</td>\n",
       "      <td>76</td>\n",
       "      <td>64</td>\n",
       "      <td>76</td>\n",
       "      <td>64</td>\n",
       "      <td>76</td>\n",
       "      <td>64</td>\n",
       "      <td>57</td>\n",
       "      <td>33</td>\n",
       "    </tr>\n",
       "    <tr>\n",
       "      <th>4</th>\n",
       "      <td>Medicago***</td>\n",
       "      <td>89</td>\n",
       "      <td>75</td>\n",
       "      <td>89</td>\n",
       "      <td>75</td>\n",
       "      <td>89</td>\n",
       "      <td>75</td>\n",
       "      <td>89</td>\n",
       "      <td>75</td>\n",
       "      <td>89</td>\n",
       "      <td>75</td>\n",
       "      <td>65</td>\n",
       "      <td>43</td>\n",
       "    </tr>\n",
       "    <tr>\n",
       "      <th>...</th>\n",
       "      <td>...</td>\n",
       "      <td>...</td>\n",
       "      <td>...</td>\n",
       "      <td>...</td>\n",
       "      <td>...</td>\n",
       "      <td>...</td>\n",
       "      <td>...</td>\n",
       "      <td>...</td>\n",
       "      <td>...</td>\n",
       "      <td>...</td>\n",
       "      <td>...</td>\n",
       "      <td>...</td>\n",
       "      <td>...</td>\n",
       "    </tr>\n",
       "    <tr>\n",
       "      <th>3206</th>\n",
       "      <td>NaN</td>\n",
       "      <td>NaN</td>\n",
       "      <td>NaN</td>\n",
       "      <td>NaN</td>\n",
       "      <td>NaN</td>\n",
       "      <td>NaN</td>\n",
       "      <td>NaN</td>\n",
       "      <td>NaN</td>\n",
       "      <td>NaN</td>\n",
       "      <td>NaN</td>\n",
       "      <td>NaN</td>\n",
       "      <td>NaN</td>\n",
       "      <td>NaN</td>\n",
       "    </tr>\n",
       "    <tr>\n",
       "      <th>3207</th>\n",
       "      <td>NaN</td>\n",
       "      <td>NaN</td>\n",
       "      <td>NaN</td>\n",
       "      <td>NaN</td>\n",
       "      <td>NaN</td>\n",
       "      <td>NaN</td>\n",
       "      <td>NaN</td>\n",
       "      <td>NaN</td>\n",
       "      <td>NaN</td>\n",
       "      <td>NaN</td>\n",
       "      <td>NaN</td>\n",
       "      <td>NaN</td>\n",
       "      <td>NaN</td>\n",
       "    </tr>\n",
       "    <tr>\n",
       "      <th>3208</th>\n",
       "      <td>NaN</td>\n",
       "      <td>NaN</td>\n",
       "      <td>NaN</td>\n",
       "      <td>NaN</td>\n",
       "      <td>NaN</td>\n",
       "      <td>NaN</td>\n",
       "      <td>NaN</td>\n",
       "      <td>NaN</td>\n",
       "      <td>NaN</td>\n",
       "      <td>NaN</td>\n",
       "      <td>NaN</td>\n",
       "      <td>NaN</td>\n",
       "      <td>NaN</td>\n",
       "    </tr>\n",
       "    <tr>\n",
       "      <th>3209</th>\n",
       "      <td>NaN</td>\n",
       "      <td>NaN</td>\n",
       "      <td>NaN</td>\n",
       "      <td>NaN</td>\n",
       "      <td>NaN</td>\n",
       "      <td>NaN</td>\n",
       "      <td>NaN</td>\n",
       "      <td>NaN</td>\n",
       "      <td>NaN</td>\n",
       "      <td>NaN</td>\n",
       "      <td>NaN</td>\n",
       "      <td>NaN</td>\n",
       "      <td>NaN</td>\n",
       "    </tr>\n",
       "    <tr>\n",
       "      <th>3210</th>\n",
       "      <td>NaN</td>\n",
       "      <td>NaN</td>\n",
       "      <td>NaN</td>\n",
       "      <td>NaN</td>\n",
       "      <td>0</td>\n",
       "      <td>NaN</td>\n",
       "      <td>NaN</td>\n",
       "      <td>NaN</td>\n",
       "      <td>NaN</td>\n",
       "      <td>NaN</td>\n",
       "      <td>NaN</td>\n",
       "      <td>NaN</td>\n",
       "      <td>NaN</td>\n",
       "    </tr>\n",
       "  </tbody>\n",
       "</table>\n",
       "<p>3211 rows × 13 columns</p>\n",
       "</div>"
      ],
      "text/plain": [
       "     Vaccine_Manufacturer Protection from Severe Disease  \\\n",
       "0                     NaN                      Ancestral   \n",
       "1                 CanSino                             66   \n",
       "2                 Covaxin                             78   \n",
       "3         Johnson&Johnson                             86   \n",
       "4             Medicago***                             89   \n",
       "...                   ...                            ...   \n",
       "3206                  NaN                            NaN   \n",
       "3207                  NaN                            NaN   \n",
       "3208                  NaN                            NaN   \n",
       "3209                  NaN                            NaN   \n",
       "3210                  NaN                            NaN   \n",
       "\n",
       "     Protection from Infection Protection from Severe Disease.1  \\\n",
       "0                    Ancestral                            Alpha   \n",
       "1                           62                               66   \n",
       "2                           73                               78   \n",
       "3                           72                               86   \n",
       "4                           75                               89   \n",
       "...                        ...                              ...   \n",
       "3206                       NaN                              NaN   \n",
       "3207                       NaN                              NaN   \n",
       "3208                       NaN                              NaN   \n",
       "3209                       NaN                              NaN   \n",
       "3210                       NaN                              NaN   \n",
       "\n",
       "     Protection from Infection.1 Protection from Severe Disease.2  \\\n",
       "0                          Alpha                             Beta   \n",
       "1                             62                               64   \n",
       "2                             73                               76   \n",
       "3                             72                               76   \n",
       "4                             75                               89   \n",
       "...                          ...                              ...   \n",
       "3206                         NaN                              NaN   \n",
       "3207                         NaN                              NaN   \n",
       "3208                         NaN                              NaN   \n",
       "3209                         NaN                              NaN   \n",
       "3210                           0                              NaN   \n",
       "\n",
       "     Protection from Infection.2 Protection from Severe Disease.3  \\\n",
       "0                           Beta                            Gamma   \n",
       "1                             61                               64   \n",
       "2                             72                               76   \n",
       "3                             64                               76   \n",
       "4                             75                               89   \n",
       "...                          ...                              ...   \n",
       "3206                         NaN                              NaN   \n",
       "3207                         NaN                              NaN   \n",
       "3208                         NaN                              NaN   \n",
       "3209                         NaN                              NaN   \n",
       "3210                         NaN                              NaN   \n",
       "\n",
       "     Protection from Infection.3 Protection from Severe Disease.4  \\\n",
       "0                          Gamma                            delta   \n",
       "1                             61                               64   \n",
       "2                             72                               76   \n",
       "3                             64                               76   \n",
       "4                             75                               89   \n",
       "...                          ...                              ...   \n",
       "3206                         NaN                              NaN   \n",
       "3207                         NaN                              NaN   \n",
       "3208                         NaN                              NaN   \n",
       "3209                         NaN                              NaN   \n",
       "3210                         NaN                              NaN   \n",
       "\n",
       "     Protection from Infection.4 Protection from Severe Disease.5  \\\n",
       "0                          Delta                          Omicron   \n",
       "1                             61                               48   \n",
       "2                             72                               57   \n",
       "3                             64                               57   \n",
       "4                             75                               65   \n",
       "...                          ...                              ...   \n",
       "3206                         NaN                              NaN   \n",
       "3207                         NaN                              NaN   \n",
       "3208                         NaN                              NaN   \n",
       "3209                         NaN                              NaN   \n",
       "3210                         NaN                              NaN   \n",
       "\n",
       "     Protection from Infection.5  \n",
       "0                        Omicron  \n",
       "1                             32  \n",
       "2                             38  \n",
       "3                             33  \n",
       "4                             43  \n",
       "...                          ...  \n",
       "3206                         NaN  \n",
       "3207                         NaN  \n",
       "3208                         NaN  \n",
       "3209                         NaN  \n",
       "3210                         NaN  \n",
       "\n",
       "[3211 rows x 13 columns]"
      ]
     },
     "execution_count": 8,
     "metadata": {},
     "output_type": "execute_result"
    }
   ],
   "source": [
    "data_1 = pd.read_excel(\"Vaccine_efficacy.xlsx\", sheet_name=2)\n",
    "data_1"
   ]
  },
  {
   "cell_type": "code",
   "execution_count": 9,
   "id": "90d07d31",
   "metadata": {},
   "outputs": [],
   "source": [
    "data_1 = data_1.drop(columns = [\"Protection from Severe Disease.1\", \"Protection from Infection.1\"], axis = 1)\n"
   ]
  },
  {
   "cell_type": "code",
   "execution_count": 10,
   "id": "c1072e72",
   "metadata": {},
   "outputs": [],
   "source": [
    "data_1 = data_1.drop(columns = [\"Protection from Severe Disease.3\", \"Protection from Infection.3\", \"Protection from Severe Disease.4\", \"Protection from Infection.4\"], axis = 1)\n"
   ]
  },
  {
   "cell_type": "code",
   "execution_count": 11,
   "id": "7f2d6765",
   "metadata": {},
   "outputs": [],
   "source": [
    "data_1 = data_1.rename(columns={'Protection from Severe Disease': 'Protection_from_Severe_Disease_Alpha_Ancestral', 'Protection from Infection': 'Protection_from_Infection_Alpha_Ancestral'})\n"
   ]
  },
  {
   "cell_type": "code",
   "execution_count": 12,
   "id": "dc658c91",
   "metadata": {},
   "outputs": [],
   "source": [
    "data_1 = data_1.rename(columns={'Protection from Severe Disease.2': 'Protection_from_Severe_Disease_Beta_Gamma_Delta', 'Protection from Infection.2': 'Protection_from_Infection_Beta_Gamma_Delta'})\n"
   ]
  },
  {
   "cell_type": "code",
   "execution_count": 13,
   "id": "faaa660b",
   "metadata": {},
   "outputs": [],
   "source": [
    "# data_1 = data_1.rename(columns={'Protection_from Severe_Disease_Beta_Gamma_Delta': 'Protection_from_Severe_Disease_Beta_Gamma_Delta'})\n",
    "\n"
   ]
  },
  {
   "cell_type": "code",
   "execution_count": 14,
   "id": "967e4bd3",
   "metadata": {},
   "outputs": [],
   "source": [
    "data_1 = data_1.rename(columns={'Protection from Severe Disease.5': 'Protection_from_Severe_Disease_Omicron', 'Protection from Infection.5': 'Protection_from_Infection_Omicron'})\n",
    "\n"
   ]
  },
  {
   "cell_type": "code",
   "execution_count": 15,
   "id": "71ee9270",
   "metadata": {},
   "outputs": [
    {
     "data": {
      "text/plain": [
       "Vaccine_Manufacturer                               3196\n",
       "Protection_from_Severe_Disease_Alpha_Ancestral     3197\n",
       "Protection_from_Infection_Alpha_Ancestral          3197\n",
       "Protection_from_Severe_Disease_Beta_Gamma_Delta    3197\n",
       "Protection_from_Infection_Beta_Gamma_Delta         3197\n",
       "Protection_from_Severe_Disease_Omicron             3197\n",
       "Protection_from_Infection_Omicron                  3197\n",
       "dtype: int64"
      ]
     },
     "execution_count": 15,
     "metadata": {},
     "output_type": "execute_result"
    }
   ],
   "source": [
    "data_1.isnull().sum()\n"
   ]
  },
  {
   "cell_type": "code",
   "execution_count": 16,
   "id": "290d65f8",
   "metadata": {},
   "outputs": [
    {
     "data": {
      "text/plain": [
       "array([nan, 'CanSino', 'Covaxin', 'Johnson&Johnson', 'Medicago***',\n",
       "       'Moderna', 'Novavax', 'Oxford/AstraZeneca', 'Pfizer/BioNTech',\n",
       "       'Sinopharm/Beijing', 'Sinovac/Coronavac', 'SKYCovione',\n",
       "       'Sputnik V', 'Valneva**',\n",
       "       '** Exact effciacy data not readily available. Data for other vaccine category was used for this analysis.',\n",
       "       '*** For Medicago no Omicron data is available. For completion purposes, we used Novavx data since the severe disease protection is similar to Novavax vaccine.'],\n",
       "      dtype=object)"
      ]
     },
     "execution_count": 16,
     "metadata": {},
     "output_type": "execute_result"
    }
   ],
   "source": [
    "data_1[\"Vaccine_Manufacturer\"].unique()"
   ]
  },
  {
   "cell_type": "code",
   "execution_count": 17,
   "id": "0eb84104",
   "metadata": {},
   "outputs": [],
   "source": [
    "data_1 = data_1.dropna()"
   ]
  },
  {
   "cell_type": "code",
   "execution_count": 18,
   "id": "5f6c58a0",
   "metadata": {},
   "outputs": [
    {
     "data": {
      "text/plain": [
       "array(['CanSino', 'Covaxin', 'Johnson&Johnson', 'Medicago***', 'Moderna',\n",
       "       'Novavax', 'Oxford/AstraZeneca', 'Pfizer/BioNTech',\n",
       "       'Sinopharm/Beijing', 'Sinovac/Coronavac', 'SKYCovione',\n",
       "       'Sputnik V', 'Valneva**'], dtype=object)"
      ]
     },
     "execution_count": 18,
     "metadata": {},
     "output_type": "execute_result"
    }
   ],
   "source": [
    "data_1[\"Vaccine_Manufacturer\"].unique()"
   ]
  },
  {
   "cell_type": "code",
   "execution_count": 19,
   "id": "04f70474",
   "metadata": {},
   "outputs": [
    {
     "data": {
      "text/plain": [
       "array(['Oxford/AstraZeneca', 'Sinopharm/Beijing', 'Sputnik V',\n",
       "       'Pfizer/BioNTech', 'CanSino', 'Moderna', 'Johnson&Johnson',\n",
       "       'Novavax', 'Valneva', 'Medicago', 'Sinovac', 'Covaxin',\n",
       "       'SKYCovione'], dtype=object)"
      ]
     },
     "execution_count": 19,
     "metadata": {},
     "output_type": "execute_result"
    }
   ],
   "source": [
    "data[\"Vaccine_Manufacturer\"].unique()"
   ]
  },
  {
   "cell_type": "code",
   "execution_count": 20,
   "id": "e6caa6d4",
   "metadata": {},
   "outputs": [],
   "source": [
    "data_1['Vaccine_Manufacturer'] = data_1['Vaccine_Manufacturer'].replace(['Medicago***'], 'Medicago')"
   ]
  },
  {
   "cell_type": "code",
   "execution_count": 21,
   "id": "9d711fd7",
   "metadata": {},
   "outputs": [],
   "source": [
    "data_1['Vaccine_Manufacturer'] = data_1['Vaccine_Manufacturer'].replace(['Valneva**'], 'Valneva')"
   ]
  },
  {
   "cell_type": "code",
   "execution_count": 22,
   "id": "38441178",
   "metadata": {},
   "outputs": [],
   "source": [
    "data_1['Vaccine_Manufacturer'] = data_1['Vaccine_Manufacturer'].replace(['Sinovac/Coronavac'], 'Sinovac')"
   ]
  },
  {
   "cell_type": "code",
   "execution_count": 23,
   "id": "070fcf18",
   "metadata": {},
   "outputs": [
    {
     "data": {
      "text/plain": [
       "array(['CanSino', 'Covaxin', 'Johnson&Johnson', 'Medicago', 'Moderna',\n",
       "       'Novavax', 'Oxford/AstraZeneca', 'Pfizer/BioNTech',\n",
       "       'Sinopharm/Beijing', 'Sinovac', 'SKYCovione', 'Sputnik V',\n",
       "       'Valneva'], dtype=object)"
      ]
     },
     "execution_count": 23,
     "metadata": {},
     "output_type": "execute_result"
    }
   ],
   "source": [
    "data_1[\"Vaccine_Manufacturer\"].unique()"
   ]
  },
  {
   "cell_type": "code",
   "execution_count": null,
   "id": "71c86682",
   "metadata": {},
   "outputs": [],
   "source": [
    "# merged_data = pd.merge(data, data_1, on = 'Vaccine_Manufacturer', how='inner')"
   ]
  },
  {
   "cell_type": "code",
   "execution_count": null,
   "id": "42495fa1",
   "metadata": {},
   "outputs": [],
   "source": [
    "# merged_data[\"Vaccine_Manufacturer\"].unique()"
   ]
  },
  {
   "cell_type": "code",
   "execution_count": null,
   "id": "b97a89b2",
   "metadata": {},
   "outputs": [],
   "source": [
    "# merged_data"
   ]
  },
  {
   "cell_type": "code",
   "execution_count": 24,
   "id": "56571749",
   "metadata": {},
   "outputs": [],
   "source": [
    "# data['year'] = pd.DatetimeIndex(data['Date']).year\n",
    "data['Date'] = pd.to_datetime(data['Date'])"
   ]
  },
  {
   "cell_type": "code",
   "execution_count": null,
   "id": "19430e6b",
   "metadata": {},
   "outputs": [],
   "source": [
    "# merged_data"
   ]
  },
  {
   "cell_type": "code",
   "execution_count": 25,
   "id": "299115b5",
   "metadata": {},
   "outputs": [],
   "source": [
    "data.reset_index(drop=True, inplace=True)"
   ]
  },
  {
   "cell_type": "code",
   "execution_count": 26,
   "id": "d82b1361",
   "metadata": {},
   "outputs": [],
   "source": [
    "order_total = data.groupby(['Country','Vaccine_Manufacturer'])[\"Total_Vaccinations\"].transform(max) == data[\"Total_Vaccinations\"]\n",
    "df_1 = data[order_total]\n"
   ]
  },
  {
   "cell_type": "code",
   "execution_count": 27,
   "id": "8f0a1362",
   "metadata": {},
   "outputs": [
    {
     "data": {
      "text/html": [
       "<div>\n",
       "<style scoped>\n",
       "    .dataframe tbody tr th:only-of-type {\n",
       "        vertical-align: middle;\n",
       "    }\n",
       "\n",
       "    .dataframe tbody tr th {\n",
       "        vertical-align: top;\n",
       "    }\n",
       "\n",
       "    .dataframe thead th {\n",
       "        text-align: right;\n",
       "    }\n",
       "</style>\n",
       "<table border=\"1\" class=\"dataframe\">\n",
       "  <thead>\n",
       "    <tr style=\"text-align: right;\">\n",
       "      <th></th>\n",
       "      <th>Country</th>\n",
       "      <th>Date</th>\n",
       "      <th>Vaccine_Manufacturer</th>\n",
       "      <th>Total_Vaccinations</th>\n",
       "    </tr>\n",
       "  </thead>\n",
       "  <tbody>\n",
       "    <tr>\n",
       "      <th>3188</th>\n",
       "      <td>Argentina</td>\n",
       "      <td>2022-10-13</td>\n",
       "      <td>Oxford/AstraZeneca</td>\n",
       "      <td>26759220</td>\n",
       "    </tr>\n",
       "    <tr>\n",
       "      <th>3196</th>\n",
       "      <td>Argentina</td>\n",
       "      <td>2022-10-14</td>\n",
       "      <td>Sputnik V</td>\n",
       "      <td>20742641</td>\n",
       "    </tr>\n",
       "    <tr>\n",
       "      <th>3197</th>\n",
       "      <td>Argentina</td>\n",
       "      <td>2022-10-15</td>\n",
       "      <td>CanSino</td>\n",
       "      <td>979735</td>\n",
       "    </tr>\n",
       "    <tr>\n",
       "      <th>3201</th>\n",
       "      <td>Argentina</td>\n",
       "      <td>2022-10-16</td>\n",
       "      <td>Moderna</td>\n",
       "      <td>13252207</td>\n",
       "    </tr>\n",
       "    <tr>\n",
       "      <th>3202</th>\n",
       "      <td>Argentina</td>\n",
       "      <td>2022-10-16</td>\n",
       "      <td>Pfizer/BioNTech</td>\n",
       "      <td>19136214</td>\n",
       "    </tr>\n",
       "    <tr>\n",
       "      <th>...</th>\n",
       "      <td>...</td>\n",
       "      <td>...</td>\n",
       "      <td>...</td>\n",
       "      <td>...</td>\n",
       "    </tr>\n",
       "    <tr>\n",
       "      <th>40362</th>\n",
       "      <td>United States</td>\n",
       "      <td>2022-10-12</td>\n",
       "      <td>Moderna</td>\n",
       "      <td>235757021</td>\n",
       "    </tr>\n",
       "    <tr>\n",
       "      <th>40363</th>\n",
       "      <td>United States</td>\n",
       "      <td>2022-10-12</td>\n",
       "      <td>Pfizer/BioNTech</td>\n",
       "      <td>372455530</td>\n",
       "    </tr>\n",
       "    <tr>\n",
       "      <th>41524</th>\n",
       "      <td>Uruguay</td>\n",
       "      <td>2022-09-16</td>\n",
       "      <td>Sinovac</td>\n",
       "      <td>3248161</td>\n",
       "    </tr>\n",
       "    <tr>\n",
       "      <th>41544</th>\n",
       "      <td>Uruguay</td>\n",
       "      <td>2022-10-12</td>\n",
       "      <td>Oxford/AstraZeneca</td>\n",
       "      <td>91141</td>\n",
       "    </tr>\n",
       "    <tr>\n",
       "      <th>41549</th>\n",
       "      <td>Uruguay</td>\n",
       "      <td>2022-10-17</td>\n",
       "      <td>Pfizer/BioNTech</td>\n",
       "      <td>2556226</td>\n",
       "    </tr>\n",
       "  </tbody>\n",
       "</table>\n",
       "<p>363 rows × 4 columns</p>\n",
       "</div>"
      ],
      "text/plain": [
       "             Country       Date Vaccine_Manufacturer  Total_Vaccinations\n",
       "3188       Argentina 2022-10-13   Oxford/AstraZeneca            26759220\n",
       "3196       Argentina 2022-10-14            Sputnik V            20742641\n",
       "3197       Argentina 2022-10-15              CanSino              979735\n",
       "3201       Argentina 2022-10-16              Moderna            13252207\n",
       "3202       Argentina 2022-10-16      Pfizer/BioNTech            19136214\n",
       "...              ...        ...                  ...                 ...\n",
       "40362  United States 2022-10-12              Moderna           235757021\n",
       "40363  United States 2022-10-12      Pfizer/BioNTech           372455530\n",
       "41524        Uruguay 2022-09-16              Sinovac             3248161\n",
       "41544        Uruguay 2022-10-12   Oxford/AstraZeneca               91141\n",
       "41549        Uruguay 2022-10-17      Pfizer/BioNTech             2556226\n",
       "\n",
       "[363 rows x 4 columns]"
      ]
     },
     "execution_count": 27,
     "metadata": {},
     "output_type": "execute_result"
    }
   ],
   "source": [
    "df_1"
   ]
  },
  {
   "cell_type": "code",
   "execution_count": 28,
   "id": "27903efd",
   "metadata": {},
   "outputs": [
    {
     "data": {
      "text/plain": [
       "(363, 4)"
      ]
     },
     "execution_count": 28,
     "metadata": {},
     "output_type": "execute_result"
    }
   ],
   "source": [
    "df_1.shape"
   ]
  },
  {
   "cell_type": "code",
   "execution_count": 29,
   "id": "63f7e456",
   "metadata": {},
   "outputs": [],
   "source": [
    "df_1.reset_index(drop=True, inplace=True)"
   ]
  },
  {
   "cell_type": "code",
   "execution_count": 30,
   "id": "c74e537e",
   "metadata": {},
   "outputs": [
    {
     "data": {
      "text/plain": [
       "Index(['Country', 'Date', 'Vaccine_Manufacturer', 'Total_Vaccinations'], dtype='object')"
      ]
     },
     "execution_count": 30,
     "metadata": {},
     "output_type": "execute_result"
    }
   ],
   "source": [
    "df_1.columns"
   ]
  },
  {
   "cell_type": "code",
   "execution_count": 31,
   "id": "e06c57f7",
   "metadata": {},
   "outputs": [
    {
     "data": {
      "text/html": [
       "<div>\n",
       "<style scoped>\n",
       "    .dataframe tbody tr th:only-of-type {\n",
       "        vertical-align: middle;\n",
       "    }\n",
       "\n",
       "    .dataframe tbody tr th {\n",
       "        vertical-align: top;\n",
       "    }\n",
       "\n",
       "    .dataframe thead th {\n",
       "        text-align: right;\n",
       "    }\n",
       "</style>\n",
       "<table border=\"1\" class=\"dataframe\">\n",
       "  <thead>\n",
       "    <tr style=\"text-align: right;\">\n",
       "      <th></th>\n",
       "      <th>Country</th>\n",
       "      <th>Date</th>\n",
       "      <th>Vaccine_Manufacturer</th>\n",
       "      <th>Total_Vaccinations</th>\n",
       "    </tr>\n",
       "  </thead>\n",
       "  <tbody>\n",
       "    <tr>\n",
       "      <th>0</th>\n",
       "      <td>Argentina</td>\n",
       "      <td>2022-10-13</td>\n",
       "      <td>Oxford/AstraZeneca</td>\n",
       "      <td>26759220</td>\n",
       "    </tr>\n",
       "    <tr>\n",
       "      <th>1</th>\n",
       "      <td>Argentina</td>\n",
       "      <td>2022-10-14</td>\n",
       "      <td>Sputnik V</td>\n",
       "      <td>20742641</td>\n",
       "    </tr>\n",
       "    <tr>\n",
       "      <th>2</th>\n",
       "      <td>Argentina</td>\n",
       "      <td>2022-10-15</td>\n",
       "      <td>CanSino</td>\n",
       "      <td>979735</td>\n",
       "    </tr>\n",
       "    <tr>\n",
       "      <th>3</th>\n",
       "      <td>Argentina</td>\n",
       "      <td>2022-10-16</td>\n",
       "      <td>Moderna</td>\n",
       "      <td>13252207</td>\n",
       "    </tr>\n",
       "    <tr>\n",
       "      <th>4</th>\n",
       "      <td>Argentina</td>\n",
       "      <td>2022-10-16</td>\n",
       "      <td>Pfizer/BioNTech</td>\n",
       "      <td>19136214</td>\n",
       "    </tr>\n",
       "    <tr>\n",
       "      <th>...</th>\n",
       "      <td>...</td>\n",
       "      <td>...</td>\n",
       "      <td>...</td>\n",
       "      <td>...</td>\n",
       "    </tr>\n",
       "    <tr>\n",
       "      <th>358</th>\n",
       "      <td>United States</td>\n",
       "      <td>2022-10-12</td>\n",
       "      <td>Moderna</td>\n",
       "      <td>235757021</td>\n",
       "    </tr>\n",
       "    <tr>\n",
       "      <th>359</th>\n",
       "      <td>United States</td>\n",
       "      <td>2022-10-12</td>\n",
       "      <td>Pfizer/BioNTech</td>\n",
       "      <td>372455530</td>\n",
       "    </tr>\n",
       "    <tr>\n",
       "      <th>360</th>\n",
       "      <td>Uruguay</td>\n",
       "      <td>2022-09-16</td>\n",
       "      <td>Sinovac</td>\n",
       "      <td>3248161</td>\n",
       "    </tr>\n",
       "    <tr>\n",
       "      <th>361</th>\n",
       "      <td>Uruguay</td>\n",
       "      <td>2022-10-12</td>\n",
       "      <td>Oxford/AstraZeneca</td>\n",
       "      <td>91141</td>\n",
       "    </tr>\n",
       "    <tr>\n",
       "      <th>362</th>\n",
       "      <td>Uruguay</td>\n",
       "      <td>2022-10-17</td>\n",
       "      <td>Pfizer/BioNTech</td>\n",
       "      <td>2556226</td>\n",
       "    </tr>\n",
       "  </tbody>\n",
       "</table>\n",
       "<p>363 rows × 4 columns</p>\n",
       "</div>"
      ],
      "text/plain": [
       "           Country       Date Vaccine_Manufacturer  Total_Vaccinations\n",
       "0        Argentina 2022-10-13   Oxford/AstraZeneca            26759220\n",
       "1        Argentina 2022-10-14            Sputnik V            20742641\n",
       "2        Argentina 2022-10-15              CanSino              979735\n",
       "3        Argentina 2022-10-16              Moderna            13252207\n",
       "4        Argentina 2022-10-16      Pfizer/BioNTech            19136214\n",
       "..             ...        ...                  ...                 ...\n",
       "358  United States 2022-10-12              Moderna           235757021\n",
       "359  United States 2022-10-12      Pfizer/BioNTech           372455530\n",
       "360        Uruguay 2022-09-16              Sinovac             3248161\n",
       "361        Uruguay 2022-10-12   Oxford/AstraZeneca               91141\n",
       "362        Uruguay 2022-10-17      Pfizer/BioNTech             2556226\n",
       "\n",
       "[363 rows x 4 columns]"
      ]
     },
     "execution_count": 31,
     "metadata": {},
     "output_type": "execute_result"
    }
   ],
   "source": [
    "df_1"
   ]
  },
  {
   "cell_type": "code",
   "execution_count": 32,
   "id": "853b72b3",
   "metadata": {},
   "outputs": [],
   "source": [
    "df_1['CountrywiseTotalVaccination'] = df_1.groupby(['Country'])['Total_Vaccinations'].transform('sum')"
   ]
  },
  {
   "cell_type": "code",
   "execution_count": 33,
   "id": "684fbe17",
   "metadata": {},
   "outputs": [],
   "source": [
    "# pd.DataFrame(df_1.groupby(['Country'])['Total_Vaccinations'].transform('sum'))"
   ]
  },
  {
   "cell_type": "code",
   "execution_count": 34,
   "id": "4bf9ada3",
   "metadata": {},
   "outputs": [
    {
     "data": {
      "text/html": [
       "<div>\n",
       "<style scoped>\n",
       "    .dataframe tbody tr th:only-of-type {\n",
       "        vertical-align: middle;\n",
       "    }\n",
       "\n",
       "    .dataframe tbody tr th {\n",
       "        vertical-align: top;\n",
       "    }\n",
       "\n",
       "    .dataframe thead th {\n",
       "        text-align: right;\n",
       "    }\n",
       "</style>\n",
       "<table border=\"1\" class=\"dataframe\">\n",
       "  <thead>\n",
       "    <tr style=\"text-align: right;\">\n",
       "      <th></th>\n",
       "      <th>Country</th>\n",
       "      <th>Date</th>\n",
       "      <th>Vaccine_Manufacturer</th>\n",
       "      <th>Total_Vaccinations</th>\n",
       "      <th>CountrywiseTotalVaccination</th>\n",
       "    </tr>\n",
       "  </thead>\n",
       "  <tbody>\n",
       "    <tr>\n",
       "      <th>0</th>\n",
       "      <td>Argentina</td>\n",
       "      <td>2022-10-13</td>\n",
       "      <td>Oxford/AstraZeneca</td>\n",
       "      <td>26759220</td>\n",
       "      <td>109748183</td>\n",
       "    </tr>\n",
       "    <tr>\n",
       "      <th>1</th>\n",
       "      <td>Argentina</td>\n",
       "      <td>2022-10-14</td>\n",
       "      <td>Sputnik V</td>\n",
       "      <td>20742641</td>\n",
       "      <td>109748183</td>\n",
       "    </tr>\n",
       "    <tr>\n",
       "      <th>2</th>\n",
       "      <td>Argentina</td>\n",
       "      <td>2022-10-15</td>\n",
       "      <td>CanSino</td>\n",
       "      <td>979735</td>\n",
       "      <td>109748183</td>\n",
       "    </tr>\n",
       "    <tr>\n",
       "      <th>3</th>\n",
       "      <td>Argentina</td>\n",
       "      <td>2022-10-16</td>\n",
       "      <td>Moderna</td>\n",
       "      <td>13252207</td>\n",
       "      <td>109748183</td>\n",
       "    </tr>\n",
       "    <tr>\n",
       "      <th>4</th>\n",
       "      <td>Argentina</td>\n",
       "      <td>2022-10-16</td>\n",
       "      <td>Pfizer/BioNTech</td>\n",
       "      <td>19136214</td>\n",
       "      <td>109748183</td>\n",
       "    </tr>\n",
       "    <tr>\n",
       "      <th>...</th>\n",
       "      <td>...</td>\n",
       "      <td>...</td>\n",
       "      <td>...</td>\n",
       "      <td>...</td>\n",
       "      <td>...</td>\n",
       "    </tr>\n",
       "    <tr>\n",
       "      <th>358</th>\n",
       "      <td>United States</td>\n",
       "      <td>2022-10-12</td>\n",
       "      <td>Moderna</td>\n",
       "      <td>235757021</td>\n",
       "      <td>627128998</td>\n",
       "    </tr>\n",
       "    <tr>\n",
       "      <th>359</th>\n",
       "      <td>United States</td>\n",
       "      <td>2022-10-12</td>\n",
       "      <td>Pfizer/BioNTech</td>\n",
       "      <td>372455530</td>\n",
       "      <td>627128998</td>\n",
       "    </tr>\n",
       "    <tr>\n",
       "      <th>360</th>\n",
       "      <td>Uruguay</td>\n",
       "      <td>2022-09-16</td>\n",
       "      <td>Sinovac</td>\n",
       "      <td>3248161</td>\n",
       "      <td>5895528</td>\n",
       "    </tr>\n",
       "    <tr>\n",
       "      <th>361</th>\n",
       "      <td>Uruguay</td>\n",
       "      <td>2022-10-12</td>\n",
       "      <td>Oxford/AstraZeneca</td>\n",
       "      <td>91141</td>\n",
       "      <td>5895528</td>\n",
       "    </tr>\n",
       "    <tr>\n",
       "      <th>362</th>\n",
       "      <td>Uruguay</td>\n",
       "      <td>2022-10-17</td>\n",
       "      <td>Pfizer/BioNTech</td>\n",
       "      <td>2556226</td>\n",
       "      <td>5895528</td>\n",
       "    </tr>\n",
       "  </tbody>\n",
       "</table>\n",
       "<p>363 rows × 5 columns</p>\n",
       "</div>"
      ],
      "text/plain": [
       "           Country       Date Vaccine_Manufacturer  Total_Vaccinations  \\\n",
       "0        Argentina 2022-10-13   Oxford/AstraZeneca            26759220   \n",
       "1        Argentina 2022-10-14            Sputnik V            20742641   \n",
       "2        Argentina 2022-10-15              CanSino              979735   \n",
       "3        Argentina 2022-10-16              Moderna            13252207   \n",
       "4        Argentina 2022-10-16      Pfizer/BioNTech            19136214   \n",
       "..             ...        ...                  ...                 ...   \n",
       "358  United States 2022-10-12              Moderna           235757021   \n",
       "359  United States 2022-10-12      Pfizer/BioNTech           372455530   \n",
       "360        Uruguay 2022-09-16              Sinovac             3248161   \n",
       "361        Uruguay 2022-10-12   Oxford/AstraZeneca               91141   \n",
       "362        Uruguay 2022-10-17      Pfizer/BioNTech             2556226   \n",
       "\n",
       "     CountrywiseTotalVaccination  \n",
       "0                      109748183  \n",
       "1                      109748183  \n",
       "2                      109748183  \n",
       "3                      109748183  \n",
       "4                      109748183  \n",
       "..                           ...  \n",
       "358                    627128998  \n",
       "359                    627128998  \n",
       "360                      5895528  \n",
       "361                      5895528  \n",
       "362                      5895528  \n",
       "\n",
       "[363 rows x 5 columns]"
      ]
     },
     "execution_count": 34,
     "metadata": {},
     "output_type": "execute_result"
    }
   ],
   "source": [
    "df_1"
   ]
  },
  {
   "cell_type": "code",
   "execution_count": null,
   "id": "06bb0672",
   "metadata": {},
   "outputs": [],
   "source": [
    "# order_total_1 = data.groupby('Country')[\"Total_Vaccinations\"].sum().rename(\"Country_Total_Vaccinations\").reset_index()\n",
    "# df_1 = data.merge(order_total_1)\n"
   ]
  },
  {
   "cell_type": "code",
   "execution_count": null,
   "id": "c4a30c8d",
   "metadata": {},
   "outputs": [],
   "source": [
    "# df_1[\"Percentage_of_Vaccination\"] = df_1[\"Total_Vaccinations\"] / df_1[\"CountrywiseTotalVaccination\"]"
   ]
  },
  {
   "cell_type": "code",
   "execution_count": 35,
   "id": "89932693",
   "metadata": {},
   "outputs": [],
   "source": [
    "df_1[\"Percentage_of_Vaccination_2\"]  = df_1['Total_Vaccinations'] / df_1[\"CountrywiseTotalVaccination\"]\n",
    "\n"
   ]
  },
  {
   "cell_type": "code",
   "execution_count": 36,
   "id": "b4aaac17",
   "metadata": {},
   "outputs": [
    {
     "data": {
      "text/html": [
       "<div>\n",
       "<style scoped>\n",
       "    .dataframe tbody tr th:only-of-type {\n",
       "        vertical-align: middle;\n",
       "    }\n",
       "\n",
       "    .dataframe tbody tr th {\n",
       "        vertical-align: top;\n",
       "    }\n",
       "\n",
       "    .dataframe thead th {\n",
       "        text-align: right;\n",
       "    }\n",
       "</style>\n",
       "<table border=\"1\" class=\"dataframe\">\n",
       "  <thead>\n",
       "    <tr style=\"text-align: right;\">\n",
       "      <th></th>\n",
       "      <th>Country</th>\n",
       "      <th>Date</th>\n",
       "      <th>Vaccine_Manufacturer</th>\n",
       "      <th>Total_Vaccinations</th>\n",
       "      <th>CountrywiseTotalVaccination</th>\n",
       "      <th>Percentage_of_Vaccination_2</th>\n",
       "    </tr>\n",
       "  </thead>\n",
       "  <tbody>\n",
       "    <tr>\n",
       "      <th>0</th>\n",
       "      <td>Argentina</td>\n",
       "      <td>2022-10-13</td>\n",
       "      <td>Oxford/AstraZeneca</td>\n",
       "      <td>26759220</td>\n",
       "      <td>109748183</td>\n",
       "      <td>0.243824</td>\n",
       "    </tr>\n",
       "    <tr>\n",
       "      <th>1</th>\n",
       "      <td>Argentina</td>\n",
       "      <td>2022-10-14</td>\n",
       "      <td>Sputnik V</td>\n",
       "      <td>20742641</td>\n",
       "      <td>109748183</td>\n",
       "      <td>0.189002</td>\n",
       "    </tr>\n",
       "    <tr>\n",
       "      <th>2</th>\n",
       "      <td>Argentina</td>\n",
       "      <td>2022-10-15</td>\n",
       "      <td>CanSino</td>\n",
       "      <td>979735</td>\n",
       "      <td>109748183</td>\n",
       "      <td>0.008927</td>\n",
       "    </tr>\n",
       "    <tr>\n",
       "      <th>3</th>\n",
       "      <td>Argentina</td>\n",
       "      <td>2022-10-16</td>\n",
       "      <td>Moderna</td>\n",
       "      <td>13252207</td>\n",
       "      <td>109748183</td>\n",
       "      <td>0.120751</td>\n",
       "    </tr>\n",
       "    <tr>\n",
       "      <th>4</th>\n",
       "      <td>Argentina</td>\n",
       "      <td>2022-10-16</td>\n",
       "      <td>Pfizer/BioNTech</td>\n",
       "      <td>19136214</td>\n",
       "      <td>109748183</td>\n",
       "      <td>0.174365</td>\n",
       "    </tr>\n",
       "    <tr>\n",
       "      <th>...</th>\n",
       "      <td>...</td>\n",
       "      <td>...</td>\n",
       "      <td>...</td>\n",
       "      <td>...</td>\n",
       "      <td>...</td>\n",
       "      <td>...</td>\n",
       "    </tr>\n",
       "    <tr>\n",
       "      <th>358</th>\n",
       "      <td>United States</td>\n",
       "      <td>2022-10-12</td>\n",
       "      <td>Moderna</td>\n",
       "      <td>235757021</td>\n",
       "      <td>627128998</td>\n",
       "      <td>0.375931</td>\n",
       "    </tr>\n",
       "    <tr>\n",
       "      <th>359</th>\n",
       "      <td>United States</td>\n",
       "      <td>2022-10-12</td>\n",
       "      <td>Pfizer/BioNTech</td>\n",
       "      <td>372455530</td>\n",
       "      <td>627128998</td>\n",
       "      <td>0.593906</td>\n",
       "    </tr>\n",
       "    <tr>\n",
       "      <th>360</th>\n",
       "      <td>Uruguay</td>\n",
       "      <td>2022-09-16</td>\n",
       "      <td>Sinovac</td>\n",
       "      <td>3248161</td>\n",
       "      <td>5895528</td>\n",
       "      <td>0.550953</td>\n",
       "    </tr>\n",
       "    <tr>\n",
       "      <th>361</th>\n",
       "      <td>Uruguay</td>\n",
       "      <td>2022-10-12</td>\n",
       "      <td>Oxford/AstraZeneca</td>\n",
       "      <td>91141</td>\n",
       "      <td>5895528</td>\n",
       "      <td>0.015459</td>\n",
       "    </tr>\n",
       "    <tr>\n",
       "      <th>362</th>\n",
       "      <td>Uruguay</td>\n",
       "      <td>2022-10-17</td>\n",
       "      <td>Pfizer/BioNTech</td>\n",
       "      <td>2556226</td>\n",
       "      <td>5895528</td>\n",
       "      <td>0.433587</td>\n",
       "    </tr>\n",
       "  </tbody>\n",
       "</table>\n",
       "<p>363 rows × 6 columns</p>\n",
       "</div>"
      ],
      "text/plain": [
       "           Country       Date Vaccine_Manufacturer  Total_Vaccinations  \\\n",
       "0        Argentina 2022-10-13   Oxford/AstraZeneca            26759220   \n",
       "1        Argentina 2022-10-14            Sputnik V            20742641   \n",
       "2        Argentina 2022-10-15              CanSino              979735   \n",
       "3        Argentina 2022-10-16              Moderna            13252207   \n",
       "4        Argentina 2022-10-16      Pfizer/BioNTech            19136214   \n",
       "..             ...        ...                  ...                 ...   \n",
       "358  United States 2022-10-12              Moderna           235757021   \n",
       "359  United States 2022-10-12      Pfizer/BioNTech           372455530   \n",
       "360        Uruguay 2022-09-16              Sinovac             3248161   \n",
       "361        Uruguay 2022-10-12   Oxford/AstraZeneca               91141   \n",
       "362        Uruguay 2022-10-17      Pfizer/BioNTech             2556226   \n",
       "\n",
       "     CountrywiseTotalVaccination  Percentage_of_Vaccination_2  \n",
       "0                      109748183                     0.243824  \n",
       "1                      109748183                     0.189002  \n",
       "2                      109748183                     0.008927  \n",
       "3                      109748183                     0.120751  \n",
       "4                      109748183                     0.174365  \n",
       "..                           ...                          ...  \n",
       "358                    627128998                     0.375931  \n",
       "359                    627128998                     0.593906  \n",
       "360                      5895528                     0.550953  \n",
       "361                      5895528                     0.015459  \n",
       "362                      5895528                     0.433587  \n",
       "\n",
       "[363 rows x 6 columns]"
      ]
     },
     "execution_count": 36,
     "metadata": {},
     "output_type": "execute_result"
    }
   ],
   "source": [
    "df_1"
   ]
  },
  {
   "cell_type": "code",
   "execution_count": 37,
   "id": "2ad1ea4e",
   "metadata": {},
   "outputs": [],
   "source": [
    "df_1['Total_Percentage_of_Vaccination_2'] = (df_1.groupby(['Country'])['Percentage_of_Vaccination_2'].transform('sum'))*100\n",
    "\n",
    "\n"
   ]
  },
  {
   "cell_type": "code",
   "execution_count": null,
   "id": "6ee28eb7",
   "metadata": {},
   "outputs": [],
   "source": [
    "df_1.to_csv('df_1.csv', encoding='utf-8', index=False)"
   ]
  },
  {
   "cell_type": "code",
   "execution_count": 38,
   "id": "e8099026",
   "metadata": {},
   "outputs": [
    {
     "name": "stdout",
     "output_type": "stream",
     "text": [
      "<class 'pandas.core.frame.DataFrame'>\n",
      "RangeIndex: 363 entries, 0 to 362\n",
      "Data columns (total 7 columns):\n",
      " #   Column                             Non-Null Count  Dtype         \n",
      "---  ------                             --------------  -----         \n",
      " 0   Country                            363 non-null    object        \n",
      " 1   Date                               363 non-null    datetime64[ns]\n",
      " 2   Vaccine_Manufacturer               363 non-null    object        \n",
      " 3   Total_Vaccinations                 363 non-null    int64         \n",
      " 4   CountrywiseTotalVaccination        363 non-null    int64         \n",
      " 5   Percentage_of_Vaccination_2        363 non-null    float64       \n",
      " 6   Total_Percentage_of_Vaccination_2  363 non-null    float64       \n",
      "dtypes: datetime64[ns](1), float64(2), int64(2), object(2)\n",
      "memory usage: 20.0+ KB\n"
     ]
    }
   ],
   "source": [
    "df_1.info()"
   ]
  },
  {
   "cell_type": "code",
   "execution_count": 39,
   "id": "a2fb3134",
   "metadata": {},
   "outputs": [
    {
     "data": {
      "text/html": [
       "<div>\n",
       "<style scoped>\n",
       "    .dataframe tbody tr th:only-of-type {\n",
       "        vertical-align: middle;\n",
       "    }\n",
       "\n",
       "    .dataframe tbody tr th {\n",
       "        vertical-align: top;\n",
       "    }\n",
       "\n",
       "    .dataframe thead th {\n",
       "        text-align: right;\n",
       "    }\n",
       "</style>\n",
       "<table border=\"1\" class=\"dataframe\">\n",
       "  <thead>\n",
       "    <tr style=\"text-align: right;\">\n",
       "      <th></th>\n",
       "      <th>Country</th>\n",
       "      <th>Date</th>\n",
       "      <th>Vaccine_Manufacturer</th>\n",
       "      <th>Total_Vaccinations</th>\n",
       "      <th>CountrywiseTotalVaccination</th>\n",
       "      <th>Percentage_of_Vaccination_2</th>\n",
       "      <th>Total_Percentage_of_Vaccination_2</th>\n",
       "    </tr>\n",
       "  </thead>\n",
       "  <tbody>\n",
       "    <tr>\n",
       "      <th>0</th>\n",
       "      <td>Argentina</td>\n",
       "      <td>2022-10-13</td>\n",
       "      <td>Oxford/AstraZeneca</td>\n",
       "      <td>26759220</td>\n",
       "      <td>109748183</td>\n",
       "      <td>0.243824</td>\n",
       "      <td>100.0</td>\n",
       "    </tr>\n",
       "    <tr>\n",
       "      <th>1</th>\n",
       "      <td>Argentina</td>\n",
       "      <td>2022-10-14</td>\n",
       "      <td>Sputnik V</td>\n",
       "      <td>20742641</td>\n",
       "      <td>109748183</td>\n",
       "      <td>0.189002</td>\n",
       "      <td>100.0</td>\n",
       "    </tr>\n",
       "    <tr>\n",
       "      <th>2</th>\n",
       "      <td>Argentina</td>\n",
       "      <td>2022-10-15</td>\n",
       "      <td>CanSino</td>\n",
       "      <td>979735</td>\n",
       "      <td>109748183</td>\n",
       "      <td>0.008927</td>\n",
       "      <td>100.0</td>\n",
       "    </tr>\n",
       "    <tr>\n",
       "      <th>3</th>\n",
       "      <td>Argentina</td>\n",
       "      <td>2022-10-16</td>\n",
       "      <td>Moderna</td>\n",
       "      <td>13252207</td>\n",
       "      <td>109748183</td>\n",
       "      <td>0.120751</td>\n",
       "      <td>100.0</td>\n",
       "    </tr>\n",
       "    <tr>\n",
       "      <th>4</th>\n",
       "      <td>Argentina</td>\n",
       "      <td>2022-10-16</td>\n",
       "      <td>Pfizer/BioNTech</td>\n",
       "      <td>19136214</td>\n",
       "      <td>109748183</td>\n",
       "      <td>0.174365</td>\n",
       "      <td>100.0</td>\n",
       "    </tr>\n",
       "    <tr>\n",
       "      <th>...</th>\n",
       "      <td>...</td>\n",
       "      <td>...</td>\n",
       "      <td>...</td>\n",
       "      <td>...</td>\n",
       "      <td>...</td>\n",
       "      <td>...</td>\n",
       "      <td>...</td>\n",
       "    </tr>\n",
       "    <tr>\n",
       "      <th>358</th>\n",
       "      <td>United States</td>\n",
       "      <td>2022-10-12</td>\n",
       "      <td>Moderna</td>\n",
       "      <td>235757021</td>\n",
       "      <td>627128998</td>\n",
       "      <td>0.375931</td>\n",
       "      <td>100.0</td>\n",
       "    </tr>\n",
       "    <tr>\n",
       "      <th>359</th>\n",
       "      <td>United States</td>\n",
       "      <td>2022-10-12</td>\n",
       "      <td>Pfizer/BioNTech</td>\n",
       "      <td>372455530</td>\n",
       "      <td>627128998</td>\n",
       "      <td>0.593906</td>\n",
       "      <td>100.0</td>\n",
       "    </tr>\n",
       "    <tr>\n",
       "      <th>360</th>\n",
       "      <td>Uruguay</td>\n",
       "      <td>2022-09-16</td>\n",
       "      <td>Sinovac</td>\n",
       "      <td>3248161</td>\n",
       "      <td>5895528</td>\n",
       "      <td>0.550953</td>\n",
       "      <td>100.0</td>\n",
       "    </tr>\n",
       "    <tr>\n",
       "      <th>361</th>\n",
       "      <td>Uruguay</td>\n",
       "      <td>2022-10-12</td>\n",
       "      <td>Oxford/AstraZeneca</td>\n",
       "      <td>91141</td>\n",
       "      <td>5895528</td>\n",
       "      <td>0.015459</td>\n",
       "      <td>100.0</td>\n",
       "    </tr>\n",
       "    <tr>\n",
       "      <th>362</th>\n",
       "      <td>Uruguay</td>\n",
       "      <td>2022-10-17</td>\n",
       "      <td>Pfizer/BioNTech</td>\n",
       "      <td>2556226</td>\n",
       "      <td>5895528</td>\n",
       "      <td>0.433587</td>\n",
       "      <td>100.0</td>\n",
       "    </tr>\n",
       "  </tbody>\n",
       "</table>\n",
       "<p>363 rows × 7 columns</p>\n",
       "</div>"
      ],
      "text/plain": [
       "           Country       Date Vaccine_Manufacturer  Total_Vaccinations  \\\n",
       "0        Argentina 2022-10-13   Oxford/AstraZeneca            26759220   \n",
       "1        Argentina 2022-10-14            Sputnik V            20742641   \n",
       "2        Argentina 2022-10-15              CanSino              979735   \n",
       "3        Argentina 2022-10-16              Moderna            13252207   \n",
       "4        Argentina 2022-10-16      Pfizer/BioNTech            19136214   \n",
       "..             ...        ...                  ...                 ...   \n",
       "358  United States 2022-10-12              Moderna           235757021   \n",
       "359  United States 2022-10-12      Pfizer/BioNTech           372455530   \n",
       "360        Uruguay 2022-09-16              Sinovac             3248161   \n",
       "361        Uruguay 2022-10-12   Oxford/AstraZeneca               91141   \n",
       "362        Uruguay 2022-10-17      Pfizer/BioNTech             2556226   \n",
       "\n",
       "     CountrywiseTotalVaccination  Percentage_of_Vaccination_2  \\\n",
       "0                      109748183                     0.243824   \n",
       "1                      109748183                     0.189002   \n",
       "2                      109748183                     0.008927   \n",
       "3                      109748183                     0.120751   \n",
       "4                      109748183                     0.174365   \n",
       "..                           ...                          ...   \n",
       "358                    627128998                     0.375931   \n",
       "359                    627128998                     0.593906   \n",
       "360                      5895528                     0.550953   \n",
       "361                      5895528                     0.015459   \n",
       "362                      5895528                     0.433587   \n",
       "\n",
       "     Total_Percentage_of_Vaccination_2  \n",
       "0                                100.0  \n",
       "1                                100.0  \n",
       "2                                100.0  \n",
       "3                                100.0  \n",
       "4                                100.0  \n",
       "..                                 ...  \n",
       "358                              100.0  \n",
       "359                              100.0  \n",
       "360                              100.0  \n",
       "361                              100.0  \n",
       "362                              100.0  \n",
       "\n",
       "[363 rows x 7 columns]"
      ]
     },
     "execution_count": 39,
     "metadata": {},
     "output_type": "execute_result"
    }
   ],
   "source": [
    "df_1"
   ]
  },
  {
   "cell_type": "code",
   "execution_count": 40,
   "id": "d7227611",
   "metadata": {},
   "outputs": [
    {
     "data": {
      "text/html": [
       "<div>\n",
       "<style scoped>\n",
       "    .dataframe tbody tr th:only-of-type {\n",
       "        vertical-align: middle;\n",
       "    }\n",
       "\n",
       "    .dataframe tbody tr th {\n",
       "        vertical-align: top;\n",
       "    }\n",
       "\n",
       "    .dataframe thead th {\n",
       "        text-align: right;\n",
       "    }\n",
       "</style>\n",
       "<table border=\"1\" class=\"dataframe\">\n",
       "  <thead>\n",
       "    <tr style=\"text-align: right;\">\n",
       "      <th></th>\n",
       "      <th>Vaccine_Manufacturer</th>\n",
       "      <th>Protection_from_Severe_Disease_Alpha_Ancestral</th>\n",
       "      <th>Protection_from_Infection_Alpha_Ancestral</th>\n",
       "      <th>Protection_from_Severe_Disease_Beta_Gamma_Delta</th>\n",
       "      <th>Protection_from_Infection_Beta_Gamma_Delta</th>\n",
       "      <th>Protection_from_Severe_Disease_Omicron</th>\n",
       "      <th>Protection_from_Infection_Omicron</th>\n",
       "    </tr>\n",
       "  </thead>\n",
       "  <tbody>\n",
       "    <tr>\n",
       "      <th>1</th>\n",
       "      <td>CanSino</td>\n",
       "      <td>66</td>\n",
       "      <td>62</td>\n",
       "      <td>64</td>\n",
       "      <td>61</td>\n",
       "      <td>48</td>\n",
       "      <td>32</td>\n",
       "    </tr>\n",
       "    <tr>\n",
       "      <th>2</th>\n",
       "      <td>Covaxin</td>\n",
       "      <td>78</td>\n",
       "      <td>73</td>\n",
       "      <td>76</td>\n",
       "      <td>72</td>\n",
       "      <td>57</td>\n",
       "      <td>38</td>\n",
       "    </tr>\n",
       "    <tr>\n",
       "      <th>3</th>\n",
       "      <td>Johnson&amp;Johnson</td>\n",
       "      <td>86</td>\n",
       "      <td>72</td>\n",
       "      <td>76</td>\n",
       "      <td>64</td>\n",
       "      <td>57</td>\n",
       "      <td>33</td>\n",
       "    </tr>\n",
       "    <tr>\n",
       "      <th>4</th>\n",
       "      <td>Medicago</td>\n",
       "      <td>89</td>\n",
       "      <td>75</td>\n",
       "      <td>89</td>\n",
       "      <td>75</td>\n",
       "      <td>65</td>\n",
       "      <td>43</td>\n",
       "    </tr>\n",
       "    <tr>\n",
       "      <th>5</th>\n",
       "      <td>Moderna</td>\n",
       "      <td>97</td>\n",
       "      <td>92</td>\n",
       "      <td>97</td>\n",
       "      <td>91</td>\n",
       "      <td>73</td>\n",
       "      <td>48</td>\n",
       "    </tr>\n",
       "    <tr>\n",
       "      <th>6</th>\n",
       "      <td>Novavax</td>\n",
       "      <td>89</td>\n",
       "      <td>83</td>\n",
       "      <td>86</td>\n",
       "      <td>82</td>\n",
       "      <td>65</td>\n",
       "      <td>43</td>\n",
       "    </tr>\n",
       "    <tr>\n",
       "      <th>7</th>\n",
       "      <td>Oxford/AstraZeneca</td>\n",
       "      <td>94</td>\n",
       "      <td>63</td>\n",
       "      <td>94</td>\n",
       "      <td>69</td>\n",
       "      <td>71</td>\n",
       "      <td>36</td>\n",
       "    </tr>\n",
       "    <tr>\n",
       "      <th>8</th>\n",
       "      <td>Pfizer/BioNTech</td>\n",
       "      <td>95</td>\n",
       "      <td>86</td>\n",
       "      <td>95</td>\n",
       "      <td>84</td>\n",
       "      <td>72</td>\n",
       "      <td>44</td>\n",
       "    </tr>\n",
       "    <tr>\n",
       "      <th>9</th>\n",
       "      <td>Sinopharm/Beijing</td>\n",
       "      <td>73</td>\n",
       "      <td>68</td>\n",
       "      <td>71</td>\n",
       "      <td>67</td>\n",
       "      <td>53</td>\n",
       "      <td>35</td>\n",
       "    </tr>\n",
       "    <tr>\n",
       "      <th>10</th>\n",
       "      <td>Sinovac</td>\n",
       "      <td>50</td>\n",
       "      <td>47</td>\n",
       "      <td>49</td>\n",
       "      <td>46</td>\n",
       "      <td>37</td>\n",
       "      <td>24</td>\n",
       "    </tr>\n",
       "    <tr>\n",
       "      <th>11</th>\n",
       "      <td>SKYCovione</td>\n",
       "      <td>75</td>\n",
       "      <td>70</td>\n",
       "      <td>73</td>\n",
       "      <td>69</td>\n",
       "      <td>55</td>\n",
       "      <td>36</td>\n",
       "    </tr>\n",
       "    <tr>\n",
       "      <th>12</th>\n",
       "      <td>Sputnik V</td>\n",
       "      <td>92</td>\n",
       "      <td>86</td>\n",
       "      <td>89</td>\n",
       "      <td>85</td>\n",
       "      <td>67</td>\n",
       "      <td>44</td>\n",
       "    </tr>\n",
       "    <tr>\n",
       "      <th>13</th>\n",
       "      <td>Valneva</td>\n",
       "      <td>75</td>\n",
       "      <td>70</td>\n",
       "      <td>73</td>\n",
       "      <td>69</td>\n",
       "      <td>55</td>\n",
       "      <td>36</td>\n",
       "    </tr>\n",
       "  </tbody>\n",
       "</table>\n",
       "</div>"
      ],
      "text/plain": [
       "   Vaccine_Manufacturer Protection_from_Severe_Disease_Alpha_Ancestral  \\\n",
       "1               CanSino                                             66   \n",
       "2               Covaxin                                             78   \n",
       "3       Johnson&Johnson                                             86   \n",
       "4              Medicago                                             89   \n",
       "5               Moderna                                             97   \n",
       "6               Novavax                                             89   \n",
       "7    Oxford/AstraZeneca                                             94   \n",
       "8       Pfizer/BioNTech                                             95   \n",
       "9     Sinopharm/Beijing                                             73   \n",
       "10              Sinovac                                             50   \n",
       "11           SKYCovione                                             75   \n",
       "12            Sputnik V                                             92   \n",
       "13              Valneva                                             75   \n",
       "\n",
       "   Protection_from_Infection_Alpha_Ancestral  \\\n",
       "1                                         62   \n",
       "2                                         73   \n",
       "3                                         72   \n",
       "4                                         75   \n",
       "5                                         92   \n",
       "6                                         83   \n",
       "7                                         63   \n",
       "8                                         86   \n",
       "9                                         68   \n",
       "10                                        47   \n",
       "11                                        70   \n",
       "12                                        86   \n",
       "13                                        70   \n",
       "\n",
       "   Protection_from_Severe_Disease_Beta_Gamma_Delta  \\\n",
       "1                                               64   \n",
       "2                                               76   \n",
       "3                                               76   \n",
       "4                                               89   \n",
       "5                                               97   \n",
       "6                                               86   \n",
       "7                                               94   \n",
       "8                                               95   \n",
       "9                                               71   \n",
       "10                                              49   \n",
       "11                                              73   \n",
       "12                                              89   \n",
       "13                                              73   \n",
       "\n",
       "   Protection_from_Infection_Beta_Gamma_Delta  \\\n",
       "1                                          61   \n",
       "2                                          72   \n",
       "3                                          64   \n",
       "4                                          75   \n",
       "5                                          91   \n",
       "6                                          82   \n",
       "7                                          69   \n",
       "8                                          84   \n",
       "9                                          67   \n",
       "10                                         46   \n",
       "11                                         69   \n",
       "12                                         85   \n",
       "13                                         69   \n",
       "\n",
       "   Protection_from_Severe_Disease_Omicron Protection_from_Infection_Omicron  \n",
       "1                                      48                                32  \n",
       "2                                      57                                38  \n",
       "3                                      57                                33  \n",
       "4                                      65                                43  \n",
       "5                                      73                                48  \n",
       "6                                      65                                43  \n",
       "7                                      71                                36  \n",
       "8                                      72                                44  \n",
       "9                                      53                                35  \n",
       "10                                     37                                24  \n",
       "11                                     55                                36  \n",
       "12                                     67                                44  \n",
       "13                                     55                                36  "
      ]
     },
     "execution_count": 40,
     "metadata": {},
     "output_type": "execute_result"
    }
   ],
   "source": [
    "data_1"
   ]
  },
  {
   "cell_type": "code",
   "execution_count": 117,
   "id": "6b01e29b",
   "metadata": {},
   "outputs": [],
   "source": [
    "merged_data = pd.merge(df_1,data_1,on = 'Vaccine_Manufacturer', how='left')"
   ]
  },
  {
   "cell_type": "code",
   "execution_count": 118,
   "id": "a739506b",
   "metadata": {},
   "outputs": [
    {
     "data": {
      "text/html": [
       "<div>\n",
       "<style scoped>\n",
       "    .dataframe tbody tr th:only-of-type {\n",
       "        vertical-align: middle;\n",
       "    }\n",
       "\n",
       "    .dataframe tbody tr th {\n",
       "        vertical-align: top;\n",
       "    }\n",
       "\n",
       "    .dataframe thead th {\n",
       "        text-align: right;\n",
       "    }\n",
       "</style>\n",
       "<table border=\"1\" class=\"dataframe\">\n",
       "  <thead>\n",
       "    <tr style=\"text-align: right;\">\n",
       "      <th></th>\n",
       "      <th>Country</th>\n",
       "      <th>Date</th>\n",
       "      <th>Vaccine_Manufacturer</th>\n",
       "      <th>Total_Vaccinations</th>\n",
       "      <th>CountrywiseTotalVaccination</th>\n",
       "      <th>Percentage_of_Vaccination_2</th>\n",
       "      <th>Total_Percentage_of_Vaccination_2</th>\n",
       "      <th>Protection_from_Severe_Disease_Alpha_Ancestral</th>\n",
       "      <th>Protection_from_Infection_Alpha_Ancestral</th>\n",
       "      <th>Protection_from_Severe_Disease_Beta_Gamma_Delta</th>\n",
       "      <th>Protection_from_Infection_Beta_Gamma_Delta</th>\n",
       "      <th>Protection_from_Severe_Disease_Omicron</th>\n",
       "      <th>Protection_from_Infection_Omicron</th>\n",
       "    </tr>\n",
       "  </thead>\n",
       "  <tbody>\n",
       "    <tr>\n",
       "      <th>0</th>\n",
       "      <td>Argentina</td>\n",
       "      <td>2022-10-13</td>\n",
       "      <td>Oxford/AstraZeneca</td>\n",
       "      <td>26759220</td>\n",
       "      <td>109748183</td>\n",
       "      <td>0.243824</td>\n",
       "      <td>100.0</td>\n",
       "      <td>94</td>\n",
       "      <td>63</td>\n",
       "      <td>94</td>\n",
       "      <td>69</td>\n",
       "      <td>71</td>\n",
       "      <td>36</td>\n",
       "    </tr>\n",
       "    <tr>\n",
       "      <th>1</th>\n",
       "      <td>Argentina</td>\n",
       "      <td>2022-10-14</td>\n",
       "      <td>Sputnik V</td>\n",
       "      <td>20742641</td>\n",
       "      <td>109748183</td>\n",
       "      <td>0.189002</td>\n",
       "      <td>100.0</td>\n",
       "      <td>92</td>\n",
       "      <td>86</td>\n",
       "      <td>89</td>\n",
       "      <td>85</td>\n",
       "      <td>67</td>\n",
       "      <td>44</td>\n",
       "    </tr>\n",
       "    <tr>\n",
       "      <th>2</th>\n",
       "      <td>Argentina</td>\n",
       "      <td>2022-10-15</td>\n",
       "      <td>CanSino</td>\n",
       "      <td>979735</td>\n",
       "      <td>109748183</td>\n",
       "      <td>0.008927</td>\n",
       "      <td>100.0</td>\n",
       "      <td>66</td>\n",
       "      <td>62</td>\n",
       "      <td>64</td>\n",
       "      <td>61</td>\n",
       "      <td>48</td>\n",
       "      <td>32</td>\n",
       "    </tr>\n",
       "    <tr>\n",
       "      <th>3</th>\n",
       "      <td>Argentina</td>\n",
       "      <td>2022-10-16</td>\n",
       "      <td>Moderna</td>\n",
       "      <td>13252207</td>\n",
       "      <td>109748183</td>\n",
       "      <td>0.120751</td>\n",
       "      <td>100.0</td>\n",
       "      <td>97</td>\n",
       "      <td>92</td>\n",
       "      <td>97</td>\n",
       "      <td>91</td>\n",
       "      <td>73</td>\n",
       "      <td>48</td>\n",
       "    </tr>\n",
       "    <tr>\n",
       "      <th>4</th>\n",
       "      <td>Argentina</td>\n",
       "      <td>2022-10-16</td>\n",
       "      <td>Pfizer/BioNTech</td>\n",
       "      <td>19136214</td>\n",
       "      <td>109748183</td>\n",
       "      <td>0.174365</td>\n",
       "      <td>100.0</td>\n",
       "      <td>95</td>\n",
       "      <td>86</td>\n",
       "      <td>95</td>\n",
       "      <td>84</td>\n",
       "      <td>72</td>\n",
       "      <td>44</td>\n",
       "    </tr>\n",
       "    <tr>\n",
       "      <th>...</th>\n",
       "      <td>...</td>\n",
       "      <td>...</td>\n",
       "      <td>...</td>\n",
       "      <td>...</td>\n",
       "      <td>...</td>\n",
       "      <td>...</td>\n",
       "      <td>...</td>\n",
       "      <td>...</td>\n",
       "      <td>...</td>\n",
       "      <td>...</td>\n",
       "      <td>...</td>\n",
       "      <td>...</td>\n",
       "      <td>...</td>\n",
       "    </tr>\n",
       "    <tr>\n",
       "      <th>358</th>\n",
       "      <td>United States</td>\n",
       "      <td>2022-10-12</td>\n",
       "      <td>Moderna</td>\n",
       "      <td>235757021</td>\n",
       "      <td>627128998</td>\n",
       "      <td>0.375931</td>\n",
       "      <td>100.0</td>\n",
       "      <td>97</td>\n",
       "      <td>92</td>\n",
       "      <td>97</td>\n",
       "      <td>91</td>\n",
       "      <td>73</td>\n",
       "      <td>48</td>\n",
       "    </tr>\n",
       "    <tr>\n",
       "      <th>359</th>\n",
       "      <td>United States</td>\n",
       "      <td>2022-10-12</td>\n",
       "      <td>Pfizer/BioNTech</td>\n",
       "      <td>372455530</td>\n",
       "      <td>627128998</td>\n",
       "      <td>0.593906</td>\n",
       "      <td>100.0</td>\n",
       "      <td>95</td>\n",
       "      <td>86</td>\n",
       "      <td>95</td>\n",
       "      <td>84</td>\n",
       "      <td>72</td>\n",
       "      <td>44</td>\n",
       "    </tr>\n",
       "    <tr>\n",
       "      <th>360</th>\n",
       "      <td>Uruguay</td>\n",
       "      <td>2022-09-16</td>\n",
       "      <td>Sinovac</td>\n",
       "      <td>3248161</td>\n",
       "      <td>5895528</td>\n",
       "      <td>0.550953</td>\n",
       "      <td>100.0</td>\n",
       "      <td>50</td>\n",
       "      <td>47</td>\n",
       "      <td>49</td>\n",
       "      <td>46</td>\n",
       "      <td>37</td>\n",
       "      <td>24</td>\n",
       "    </tr>\n",
       "    <tr>\n",
       "      <th>361</th>\n",
       "      <td>Uruguay</td>\n",
       "      <td>2022-10-12</td>\n",
       "      <td>Oxford/AstraZeneca</td>\n",
       "      <td>91141</td>\n",
       "      <td>5895528</td>\n",
       "      <td>0.015459</td>\n",
       "      <td>100.0</td>\n",
       "      <td>94</td>\n",
       "      <td>63</td>\n",
       "      <td>94</td>\n",
       "      <td>69</td>\n",
       "      <td>71</td>\n",
       "      <td>36</td>\n",
       "    </tr>\n",
       "    <tr>\n",
       "      <th>362</th>\n",
       "      <td>Uruguay</td>\n",
       "      <td>2022-10-17</td>\n",
       "      <td>Pfizer/BioNTech</td>\n",
       "      <td>2556226</td>\n",
       "      <td>5895528</td>\n",
       "      <td>0.433587</td>\n",
       "      <td>100.0</td>\n",
       "      <td>95</td>\n",
       "      <td>86</td>\n",
       "      <td>95</td>\n",
       "      <td>84</td>\n",
       "      <td>72</td>\n",
       "      <td>44</td>\n",
       "    </tr>\n",
       "  </tbody>\n",
       "</table>\n",
       "<p>363 rows × 13 columns</p>\n",
       "</div>"
      ],
      "text/plain": [
       "           Country       Date Vaccine_Manufacturer  Total_Vaccinations  \\\n",
       "0        Argentina 2022-10-13   Oxford/AstraZeneca            26759220   \n",
       "1        Argentina 2022-10-14            Sputnik V            20742641   \n",
       "2        Argentina 2022-10-15              CanSino              979735   \n",
       "3        Argentina 2022-10-16              Moderna            13252207   \n",
       "4        Argentina 2022-10-16      Pfizer/BioNTech            19136214   \n",
       "..             ...        ...                  ...                 ...   \n",
       "358  United States 2022-10-12              Moderna           235757021   \n",
       "359  United States 2022-10-12      Pfizer/BioNTech           372455530   \n",
       "360        Uruguay 2022-09-16              Sinovac             3248161   \n",
       "361        Uruguay 2022-10-12   Oxford/AstraZeneca               91141   \n",
       "362        Uruguay 2022-10-17      Pfizer/BioNTech             2556226   \n",
       "\n",
       "     CountrywiseTotalVaccination  Percentage_of_Vaccination_2  \\\n",
       "0                      109748183                     0.243824   \n",
       "1                      109748183                     0.189002   \n",
       "2                      109748183                     0.008927   \n",
       "3                      109748183                     0.120751   \n",
       "4                      109748183                     0.174365   \n",
       "..                           ...                          ...   \n",
       "358                    627128998                     0.375931   \n",
       "359                    627128998                     0.593906   \n",
       "360                      5895528                     0.550953   \n",
       "361                      5895528                     0.015459   \n",
       "362                      5895528                     0.433587   \n",
       "\n",
       "     Total_Percentage_of_Vaccination_2  \\\n",
       "0                                100.0   \n",
       "1                                100.0   \n",
       "2                                100.0   \n",
       "3                                100.0   \n",
       "4                                100.0   \n",
       "..                                 ...   \n",
       "358                              100.0   \n",
       "359                              100.0   \n",
       "360                              100.0   \n",
       "361                              100.0   \n",
       "362                              100.0   \n",
       "\n",
       "    Protection_from_Severe_Disease_Alpha_Ancestral  \\\n",
       "0                                               94   \n",
       "1                                               92   \n",
       "2                                               66   \n",
       "3                                               97   \n",
       "4                                               95   \n",
       "..                                             ...   \n",
       "358                                             97   \n",
       "359                                             95   \n",
       "360                                             50   \n",
       "361                                             94   \n",
       "362                                             95   \n",
       "\n",
       "    Protection_from_Infection_Alpha_Ancestral  \\\n",
       "0                                          63   \n",
       "1                                          86   \n",
       "2                                          62   \n",
       "3                                          92   \n",
       "4                                          86   \n",
       "..                                        ...   \n",
       "358                                        92   \n",
       "359                                        86   \n",
       "360                                        47   \n",
       "361                                        63   \n",
       "362                                        86   \n",
       "\n",
       "    Protection_from_Severe_Disease_Beta_Gamma_Delta  \\\n",
       "0                                                94   \n",
       "1                                                89   \n",
       "2                                                64   \n",
       "3                                                97   \n",
       "4                                                95   \n",
       "..                                              ...   \n",
       "358                                              97   \n",
       "359                                              95   \n",
       "360                                              49   \n",
       "361                                              94   \n",
       "362                                              95   \n",
       "\n",
       "    Protection_from_Infection_Beta_Gamma_Delta  \\\n",
       "0                                           69   \n",
       "1                                           85   \n",
       "2                                           61   \n",
       "3                                           91   \n",
       "4                                           84   \n",
       "..                                         ...   \n",
       "358                                         91   \n",
       "359                                         84   \n",
       "360                                         46   \n",
       "361                                         69   \n",
       "362                                         84   \n",
       "\n",
       "    Protection_from_Severe_Disease_Omicron Protection_from_Infection_Omicron  \n",
       "0                                       71                                36  \n",
       "1                                       67                                44  \n",
       "2                                       48                                32  \n",
       "3                                       73                                48  \n",
       "4                                       72                                44  \n",
       "..                                     ...                               ...  \n",
       "358                                     73                                48  \n",
       "359                                     72                                44  \n",
       "360                                     37                                24  \n",
       "361                                     71                                36  \n",
       "362                                     72                                44  \n",
       "\n",
       "[363 rows x 13 columns]"
      ]
     },
     "execution_count": 118,
     "metadata": {},
     "output_type": "execute_result"
    }
   ],
   "source": [
    "merged_data"
   ]
  },
  {
   "cell_type": "code",
   "execution_count": 53,
   "id": "c93ed2e7",
   "metadata": {},
   "outputs": [],
   "source": [
    "merged_data['Omicorn_Severe_Disease_Efficacy'] = merged_data['Protection_from_Severe_Disease_Omicron'] * merged_data['Percentage_of_Vaccination_2']\n",
    "\n"
   ]
  },
  {
   "cell_type": "code",
   "execution_count": 56,
   "id": "7bf78633",
   "metadata": {},
   "outputs": [],
   "source": [
    "merged_data['Omicorn_Infection_Efficacy'] = merged_data['Protection_from_Infection_Omicron'] * merged_data['Percentage_of_Vaccination_2']\n",
    "\n"
   ]
  },
  {
   "cell_type": "code",
   "execution_count": 55,
   "id": "a2d06df7",
   "metadata": {},
   "outputs": [],
   "source": [
    "merged_data['Alpha_Ancestral_Severe_Disease_Efficacy'] = merged_data['Protection_from_Severe_Disease_Alpha_Ancestral'] * merged_data['Percentage_of_Vaccination_2']\n",
    "\n"
   ]
  },
  {
   "cell_type": "code",
   "execution_count": 57,
   "id": "cfb24015",
   "metadata": {},
   "outputs": [],
   "source": [
    "merged_data['Alpha_Ancestral_Infection_Efficacy'] = merged_data['Protection_from_Infection_Alpha_Ancestral'] * merged_data['Percentage_of_Vaccination_2']\n",
    "\n"
   ]
  },
  {
   "cell_type": "code",
   "execution_count": 58,
   "id": "6c768379",
   "metadata": {},
   "outputs": [],
   "source": [
    "merged_data['Beta_Gamma_Delta_Severe_Disease_Efficacy'] = merged_data['Protection_from_Severe_Disease_Beta_Gamma_Delta'] * merged_data['Percentage_of_Vaccination_2']\n",
    "\n"
   ]
  },
  {
   "cell_type": "code",
   "execution_count": 59,
   "id": "713af5a0",
   "metadata": {},
   "outputs": [],
   "source": [
    "merged_data['Beta_Gamma_Delta_Infection_Efficacy'] = merged_data['Protection_from_Infection_Beta_Gamma_Delta'] * merged_data['Percentage_of_Vaccination_2']\n",
    "\n"
   ]
  },
  {
   "cell_type": "code",
   "execution_count": 60,
   "id": "a93400d5",
   "metadata": {},
   "outputs": [
    {
     "data": {
      "text/html": [
       "<div>\n",
       "<style scoped>\n",
       "    .dataframe tbody tr th:only-of-type {\n",
       "        vertical-align: middle;\n",
       "    }\n",
       "\n",
       "    .dataframe tbody tr th {\n",
       "        vertical-align: top;\n",
       "    }\n",
       "\n",
       "    .dataframe thead th {\n",
       "        text-align: right;\n",
       "    }\n",
       "</style>\n",
       "<table border=\"1\" class=\"dataframe\">\n",
       "  <thead>\n",
       "    <tr style=\"text-align: right;\">\n",
       "      <th></th>\n",
       "      <th>Country</th>\n",
       "      <th>Date</th>\n",
       "      <th>Vaccine_Manufacturer</th>\n",
       "      <th>Total_Vaccinations</th>\n",
       "      <th>CountrywiseTotalVaccination</th>\n",
       "      <th>Percentage_of_Vaccination_2</th>\n",
       "      <th>Total_Percentage_of_Vaccination_2</th>\n",
       "      <th>Protection_from_Severe_Disease_Alpha_Ancestral</th>\n",
       "      <th>Protection_from_Infection_Alpha_Ancestral</th>\n",
       "      <th>Protection_from_Severe_Disease_Beta_Gamma_Delta</th>\n",
       "      <th>Protection_from_Infection_Beta_Gamma_Delta</th>\n",
       "      <th>Protection_from_Severe_Disease_Omicron</th>\n",
       "      <th>Protection_from_Infection_Omicron</th>\n",
       "      <th>Omicorn_Severe_Disease_Efficacy</th>\n",
       "      <th>Alpha_Ancestral_Severe_Disease_Efficacy</th>\n",
       "      <th>Omicorn_Infection_Efficacy</th>\n",
       "      <th>Alpha_Ancestral_Infection_Efficacy</th>\n",
       "      <th>Beta_Gamma_Delta_Severe_Disease_Efficacy</th>\n",
       "      <th>Beta_Gamma_Delta_Infection_Efficacy</th>\n",
       "    </tr>\n",
       "  </thead>\n",
       "  <tbody>\n",
       "    <tr>\n",
       "      <th>0</th>\n",
       "      <td>Argentina</td>\n",
       "      <td>2022-10-13</td>\n",
       "      <td>Oxford/AstraZeneca</td>\n",
       "      <td>26759220</td>\n",
       "      <td>109748183</td>\n",
       "      <td>0.243824</td>\n",
       "      <td>100.0</td>\n",
       "      <td>94</td>\n",
       "      <td>63</td>\n",
       "      <td>94</td>\n",
       "      <td>69</td>\n",
       "      <td>71</td>\n",
       "      <td>36</td>\n",
       "      <td>17.31149</td>\n",
       "      <td>22.919438</td>\n",
       "      <td>8.777657</td>\n",
       "      <td>15.3609</td>\n",
       "      <td>22.919438</td>\n",
       "      <td>16.823843</td>\n",
       "    </tr>\n",
       "    <tr>\n",
       "      <th>1</th>\n",
       "      <td>Argentina</td>\n",
       "      <td>2022-10-14</td>\n",
       "      <td>Sputnik V</td>\n",
       "      <td>20742641</td>\n",
       "      <td>109748183</td>\n",
       "      <td>0.189002</td>\n",
       "      <td>100.0</td>\n",
       "      <td>92</td>\n",
       "      <td>86</td>\n",
       "      <td>89</td>\n",
       "      <td>85</td>\n",
       "      <td>67</td>\n",
       "      <td>44</td>\n",
       "      <td>12.663143</td>\n",
       "      <td>17.388197</td>\n",
       "      <td>8.316094</td>\n",
       "      <td>16.254184</td>\n",
       "      <td>16.82119</td>\n",
       "      <td>16.065182</td>\n",
       "    </tr>\n",
       "    <tr>\n",
       "      <th>2</th>\n",
       "      <td>Argentina</td>\n",
       "      <td>2022-10-15</td>\n",
       "      <td>CanSino</td>\n",
       "      <td>979735</td>\n",
       "      <td>109748183</td>\n",
       "      <td>0.008927</td>\n",
       "      <td>100.0</td>\n",
       "      <td>66</td>\n",
       "      <td>62</td>\n",
       "      <td>64</td>\n",
       "      <td>61</td>\n",
       "      <td>48</td>\n",
       "      <td>32</td>\n",
       "      <td>0.428502</td>\n",
       "      <td>0.58919</td>\n",
       "      <td>0.285668</td>\n",
       "      <td>0.553481</td>\n",
       "      <td>0.571336</td>\n",
       "      <td>0.544554</td>\n",
       "    </tr>\n",
       "    <tr>\n",
       "      <th>3</th>\n",
       "      <td>Argentina</td>\n",
       "      <td>2022-10-16</td>\n",
       "      <td>Moderna</td>\n",
       "      <td>13252207</td>\n",
       "      <td>109748183</td>\n",
       "      <td>0.120751</td>\n",
       "      <td>100.0</td>\n",
       "      <td>97</td>\n",
       "      <td>92</td>\n",
       "      <td>97</td>\n",
       "      <td>91</td>\n",
       "      <td>73</td>\n",
       "      <td>48</td>\n",
       "      <td>8.814826</td>\n",
       "      <td>11.712851</td>\n",
       "      <td>5.79605</td>\n",
       "      <td>11.109095</td>\n",
       "      <td>11.712851</td>\n",
       "      <td>10.988344</td>\n",
       "    </tr>\n",
       "    <tr>\n",
       "      <th>4</th>\n",
       "      <td>Argentina</td>\n",
       "      <td>2022-10-16</td>\n",
       "      <td>Pfizer/BioNTech</td>\n",
       "      <td>19136214</td>\n",
       "      <td>109748183</td>\n",
       "      <td>0.174365</td>\n",
       "      <td>100.0</td>\n",
       "      <td>95</td>\n",
       "      <td>86</td>\n",
       "      <td>95</td>\n",
       "      <td>84</td>\n",
       "      <td>72</td>\n",
       "      <td>44</td>\n",
       "      <td>12.554262</td>\n",
       "      <td>16.564651</td>\n",
       "      <td>7.672049</td>\n",
       "      <td>14.995368</td>\n",
       "      <td>16.564651</td>\n",
       "      <td>14.646639</td>\n",
       "    </tr>\n",
       "    <tr>\n",
       "      <th>...</th>\n",
       "      <td>...</td>\n",
       "      <td>...</td>\n",
       "      <td>...</td>\n",
       "      <td>...</td>\n",
       "      <td>...</td>\n",
       "      <td>...</td>\n",
       "      <td>...</td>\n",
       "      <td>...</td>\n",
       "      <td>...</td>\n",
       "      <td>...</td>\n",
       "      <td>...</td>\n",
       "      <td>...</td>\n",
       "      <td>...</td>\n",
       "      <td>...</td>\n",
       "      <td>...</td>\n",
       "      <td>...</td>\n",
       "      <td>...</td>\n",
       "      <td>...</td>\n",
       "      <td>...</td>\n",
       "    </tr>\n",
       "    <tr>\n",
       "      <th>358</th>\n",
       "      <td>United States</td>\n",
       "      <td>2022-10-12</td>\n",
       "      <td>Moderna</td>\n",
       "      <td>235757021</td>\n",
       "      <td>627128998</td>\n",
       "      <td>0.375931</td>\n",
       "      <td>100.0</td>\n",
       "      <td>97</td>\n",
       "      <td>92</td>\n",
       "      <td>97</td>\n",
       "      <td>91</td>\n",
       "      <td>73</td>\n",
       "      <td>48</td>\n",
       "      <td>27.442939</td>\n",
       "      <td>36.465274</td>\n",
       "      <td>18.044672</td>\n",
       "      <td>34.585621</td>\n",
       "      <td>36.465274</td>\n",
       "      <td>34.20969</td>\n",
       "    </tr>\n",
       "    <tr>\n",
       "      <th>359</th>\n",
       "      <td>United States</td>\n",
       "      <td>2022-10-12</td>\n",
       "      <td>Pfizer/BioNTech</td>\n",
       "      <td>372455530</td>\n",
       "      <td>627128998</td>\n",
       "      <td>0.593906</td>\n",
       "      <td>100.0</td>\n",
       "      <td>95</td>\n",
       "      <td>86</td>\n",
       "      <td>95</td>\n",
       "      <td>84</td>\n",
       "      <td>72</td>\n",
       "      <td>44</td>\n",
       "      <td>42.761215</td>\n",
       "      <td>56.421048</td>\n",
       "      <td>26.131854</td>\n",
       "      <td>51.075896</td>\n",
       "      <td>56.421048</td>\n",
       "      <td>49.888085</td>\n",
       "    </tr>\n",
       "    <tr>\n",
       "      <th>360</th>\n",
       "      <td>Uruguay</td>\n",
       "      <td>2022-09-16</td>\n",
       "      <td>Sinovac</td>\n",
       "      <td>3248161</td>\n",
       "      <td>5895528</td>\n",
       "      <td>0.550953</td>\n",
       "      <td>100.0</td>\n",
       "      <td>50</td>\n",
       "      <td>47</td>\n",
       "      <td>49</td>\n",
       "      <td>46</td>\n",
       "      <td>37</td>\n",
       "      <td>24</td>\n",
       "      <td>20.385275</td>\n",
       "      <td>27.547668</td>\n",
       "      <td>13.222881</td>\n",
       "      <td>25.894808</td>\n",
       "      <td>26.996715</td>\n",
       "      <td>25.343855</td>\n",
       "    </tr>\n",
       "    <tr>\n",
       "      <th>361</th>\n",
       "      <td>Uruguay</td>\n",
       "      <td>2022-10-12</td>\n",
       "      <td>Oxford/AstraZeneca</td>\n",
       "      <td>91141</td>\n",
       "      <td>5895528</td>\n",
       "      <td>0.015459</td>\n",
       "      <td>100.0</td>\n",
       "      <td>94</td>\n",
       "      <td>63</td>\n",
       "      <td>94</td>\n",
       "      <td>69</td>\n",
       "      <td>71</td>\n",
       "      <td>36</td>\n",
       "      <td>1.097613</td>\n",
       "      <td>1.453178</td>\n",
       "      <td>0.556536</td>\n",
       "      <td>0.973939</td>\n",
       "      <td>1.453178</td>\n",
       "      <td>1.066695</td>\n",
       "    </tr>\n",
       "    <tr>\n",
       "      <th>362</th>\n",
       "      <td>Uruguay</td>\n",
       "      <td>2022-10-17</td>\n",
       "      <td>Pfizer/BioNTech</td>\n",
       "      <td>2556226</td>\n",
       "      <td>5895528</td>\n",
       "      <td>0.433587</td>\n",
       "      <td>100.0</td>\n",
       "      <td>95</td>\n",
       "      <td>86</td>\n",
       "      <td>95</td>\n",
       "      <td>84</td>\n",
       "      <td>72</td>\n",
       "      <td>44</td>\n",
       "      <td>31.218285</td>\n",
       "      <td>41.190792</td>\n",
       "      <td>19.077841</td>\n",
       "      <td>37.288507</td>\n",
       "      <td>41.190792</td>\n",
       "      <td>36.421332</td>\n",
       "    </tr>\n",
       "  </tbody>\n",
       "</table>\n",
       "<p>363 rows × 19 columns</p>\n",
       "</div>"
      ],
      "text/plain": [
       "           Country       Date Vaccine_Manufacturer  Total_Vaccinations  \\\n",
       "0        Argentina 2022-10-13   Oxford/AstraZeneca            26759220   \n",
       "1        Argentina 2022-10-14            Sputnik V            20742641   \n",
       "2        Argentina 2022-10-15              CanSino              979735   \n",
       "3        Argentina 2022-10-16              Moderna            13252207   \n",
       "4        Argentina 2022-10-16      Pfizer/BioNTech            19136214   \n",
       "..             ...        ...                  ...                 ...   \n",
       "358  United States 2022-10-12              Moderna           235757021   \n",
       "359  United States 2022-10-12      Pfizer/BioNTech           372455530   \n",
       "360        Uruguay 2022-09-16              Sinovac             3248161   \n",
       "361        Uruguay 2022-10-12   Oxford/AstraZeneca               91141   \n",
       "362        Uruguay 2022-10-17      Pfizer/BioNTech             2556226   \n",
       "\n",
       "     CountrywiseTotalVaccination  Percentage_of_Vaccination_2  \\\n",
       "0                      109748183                     0.243824   \n",
       "1                      109748183                     0.189002   \n",
       "2                      109748183                     0.008927   \n",
       "3                      109748183                     0.120751   \n",
       "4                      109748183                     0.174365   \n",
       "..                           ...                          ...   \n",
       "358                    627128998                     0.375931   \n",
       "359                    627128998                     0.593906   \n",
       "360                      5895528                     0.550953   \n",
       "361                      5895528                     0.015459   \n",
       "362                      5895528                     0.433587   \n",
       "\n",
       "     Total_Percentage_of_Vaccination_2  \\\n",
       "0                                100.0   \n",
       "1                                100.0   \n",
       "2                                100.0   \n",
       "3                                100.0   \n",
       "4                                100.0   \n",
       "..                                 ...   \n",
       "358                              100.0   \n",
       "359                              100.0   \n",
       "360                              100.0   \n",
       "361                              100.0   \n",
       "362                              100.0   \n",
       "\n",
       "    Protection_from_Severe_Disease_Alpha_Ancestral  \\\n",
       "0                                               94   \n",
       "1                                               92   \n",
       "2                                               66   \n",
       "3                                               97   \n",
       "4                                               95   \n",
       "..                                             ...   \n",
       "358                                             97   \n",
       "359                                             95   \n",
       "360                                             50   \n",
       "361                                             94   \n",
       "362                                             95   \n",
       "\n",
       "    Protection_from_Infection_Alpha_Ancestral  \\\n",
       "0                                          63   \n",
       "1                                          86   \n",
       "2                                          62   \n",
       "3                                          92   \n",
       "4                                          86   \n",
       "..                                        ...   \n",
       "358                                        92   \n",
       "359                                        86   \n",
       "360                                        47   \n",
       "361                                        63   \n",
       "362                                        86   \n",
       "\n",
       "    Protection_from_Severe_Disease_Beta_Gamma_Delta  \\\n",
       "0                                                94   \n",
       "1                                                89   \n",
       "2                                                64   \n",
       "3                                                97   \n",
       "4                                                95   \n",
       "..                                              ...   \n",
       "358                                              97   \n",
       "359                                              95   \n",
       "360                                              49   \n",
       "361                                              94   \n",
       "362                                              95   \n",
       "\n",
       "    Protection_from_Infection_Beta_Gamma_Delta  \\\n",
       "0                                           69   \n",
       "1                                           85   \n",
       "2                                           61   \n",
       "3                                           91   \n",
       "4                                           84   \n",
       "..                                         ...   \n",
       "358                                         91   \n",
       "359                                         84   \n",
       "360                                         46   \n",
       "361                                         69   \n",
       "362                                         84   \n",
       "\n",
       "    Protection_from_Severe_Disease_Omicron Protection_from_Infection_Omicron  \\\n",
       "0                                       71                                36   \n",
       "1                                       67                                44   \n",
       "2                                       48                                32   \n",
       "3                                       73                                48   \n",
       "4                                       72                                44   \n",
       "..                                     ...                               ...   \n",
       "358                                     73                                48   \n",
       "359                                     72                                44   \n",
       "360                                     37                                24   \n",
       "361                                     71                                36   \n",
       "362                                     72                                44   \n",
       "\n",
       "    Omicorn_Severe_Disease_Efficacy Alpha_Ancestral_Severe_Disease_Efficacy  \\\n",
       "0                          17.31149                               22.919438   \n",
       "1                         12.663143                               17.388197   \n",
       "2                          0.428502                                 0.58919   \n",
       "3                          8.814826                               11.712851   \n",
       "4                         12.554262                               16.564651   \n",
       "..                              ...                                     ...   \n",
       "358                       27.442939                               36.465274   \n",
       "359                       42.761215                               56.421048   \n",
       "360                       20.385275                               27.547668   \n",
       "361                        1.097613                                1.453178   \n",
       "362                       31.218285                               41.190792   \n",
       "\n",
       "    Omicorn_Infection_Efficacy Alpha_Ancestral_Infection_Efficacy  \\\n",
       "0                     8.777657                            15.3609   \n",
       "1                     8.316094                          16.254184   \n",
       "2                     0.285668                           0.553481   \n",
       "3                      5.79605                          11.109095   \n",
       "4                     7.672049                          14.995368   \n",
       "..                         ...                                ...   \n",
       "358                  18.044672                          34.585621   \n",
       "359                  26.131854                          51.075896   \n",
       "360                  13.222881                          25.894808   \n",
       "361                   0.556536                           0.973939   \n",
       "362                  19.077841                          37.288507   \n",
       "\n",
       "    Beta_Gamma_Delta_Severe_Disease_Efficacy  \\\n",
       "0                                  22.919438   \n",
       "1                                   16.82119   \n",
       "2                                   0.571336   \n",
       "3                                  11.712851   \n",
       "4                                  16.564651   \n",
       "..                                       ...   \n",
       "358                                36.465274   \n",
       "359                                56.421048   \n",
       "360                                26.996715   \n",
       "361                                 1.453178   \n",
       "362                                41.190792   \n",
       "\n",
       "    Beta_Gamma_Delta_Infection_Efficacy  \n",
       "0                             16.823843  \n",
       "1                             16.065182  \n",
       "2                              0.544554  \n",
       "3                             10.988344  \n",
       "4                             14.646639  \n",
       "..                                  ...  \n",
       "358                            34.20969  \n",
       "359                           49.888085  \n",
       "360                           25.343855  \n",
       "361                            1.066695  \n",
       "362                           36.421332  \n",
       "\n",
       "[363 rows x 19 columns]"
      ]
     },
     "execution_count": 60,
     "metadata": {},
     "output_type": "execute_result"
    }
   ],
   "source": [
    "merged_data"
   ]
  },
  {
   "cell_type": "code",
   "execution_count": 61,
   "id": "5924f84f",
   "metadata": {},
   "outputs": [],
   "source": [
    "merged_data['Total_Omicorn_Severe_Disease_Efficacy'] = merged_data.groupby(['Country'])['Omicorn_Severe_Disease_Efficacy'].transform('sum')\n",
    "\n",
    "\n"
   ]
  },
  {
   "cell_type": "code",
   "execution_count": 63,
   "id": "16c2e006",
   "metadata": {},
   "outputs": [],
   "source": [
    "merged_data['Total_Omicorn_Infection_Efficacy'] = merged_data.groupby(['Country'])['Omicorn_Infection_Efficacy'].transform('sum')\n"
   ]
  },
  {
   "cell_type": "code",
   "execution_count": 64,
   "id": "5d3090fe",
   "metadata": {},
   "outputs": [],
   "source": [
    "merged_data['Total_Alpha_Ancestral_Severe_Disease_Efficacy'] = merged_data.groupby(['Country'])['Alpha_Ancestral_Severe_Disease_Efficacy'].transform('sum')\n",
    "\n"
   ]
  },
  {
   "cell_type": "code",
   "execution_count": 65,
   "id": "114eb947",
   "metadata": {},
   "outputs": [],
   "source": [
    "merged_data['Total_Alpha_Ancestral_Infection_Efficacy'] = merged_data.groupby(['Country'])['Alpha_Ancestral_Infection_Efficacy'].transform('sum')\n",
    "\n"
   ]
  },
  {
   "cell_type": "code",
   "execution_count": 66,
   "id": "c16a5e55",
   "metadata": {},
   "outputs": [],
   "source": [
    "merged_data['Total_Beta_Gamma_Delta_Severe_Disease_Efficacy'] = merged_data.groupby(['Country'])['Beta_Gamma_Delta_Severe_Disease_Efficacy'].transform('sum')\n",
    "\n",
    "\n"
   ]
  },
  {
   "cell_type": "code",
   "execution_count": 67,
   "id": "cde55758",
   "metadata": {},
   "outputs": [],
   "source": [
    "merged_data['Total_Beta_Gamma_Delta_Infection_Efficacy'] = merged_data.groupby(['Country'])['Beta_Gamma_Delta_Infection_Efficacy'].transform('sum')\n",
    "\n"
   ]
  },
  {
   "cell_type": "code",
   "execution_count": 68,
   "id": "071f69d1",
   "metadata": {},
   "outputs": [
    {
     "data": {
      "text/html": [
       "<div>\n",
       "<style scoped>\n",
       "    .dataframe tbody tr th:only-of-type {\n",
       "        vertical-align: middle;\n",
       "    }\n",
       "\n",
       "    .dataframe tbody tr th {\n",
       "        vertical-align: top;\n",
       "    }\n",
       "\n",
       "    .dataframe thead th {\n",
       "        text-align: right;\n",
       "    }\n",
       "</style>\n",
       "<table border=\"1\" class=\"dataframe\">\n",
       "  <thead>\n",
       "    <tr style=\"text-align: right;\">\n",
       "      <th></th>\n",
       "      <th>Country</th>\n",
       "      <th>Date</th>\n",
       "      <th>Vaccine_Manufacturer</th>\n",
       "      <th>Total_Vaccinations</th>\n",
       "      <th>CountrywiseTotalVaccination</th>\n",
       "      <th>Percentage_of_Vaccination_2</th>\n",
       "      <th>Total_Percentage_of_Vaccination_2</th>\n",
       "      <th>Protection_from_Severe_Disease_Alpha_Ancestral</th>\n",
       "      <th>Protection_from_Infection_Alpha_Ancestral</th>\n",
       "      <th>Protection_from_Severe_Disease_Beta_Gamma_Delta</th>\n",
       "      <th>...</th>\n",
       "      <th>Omicorn_Infection_Efficacy</th>\n",
       "      <th>Alpha_Ancestral_Infection_Efficacy</th>\n",
       "      <th>Beta_Gamma_Delta_Severe_Disease_Efficacy</th>\n",
       "      <th>Beta_Gamma_Delta_Infection_Efficacy</th>\n",
       "      <th>Total_Omicorn_Severe_Disease_Efficacy</th>\n",
       "      <th>Total_Omicorn_Infection_Efficacy</th>\n",
       "      <th>Total_Alpha_Ancestral_Severe_Disease_Efficacy</th>\n",
       "      <th>Total_Alpha_Ancestral_Infection_Efficacy</th>\n",
       "      <th>Total_Beta_Gamma_Delta_Severe_Disease_Efficacy</th>\n",
       "      <th>Total_Beta_Gamma_Delta_Infection_Efficacy</th>\n",
       "    </tr>\n",
       "  </thead>\n",
       "  <tbody>\n",
       "    <tr>\n",
       "      <th>0</th>\n",
       "      <td>Argentina</td>\n",
       "      <td>2022-10-13</td>\n",
       "      <td>Oxford/AstraZeneca</td>\n",
       "      <td>26759220</td>\n",
       "      <td>109748183</td>\n",
       "      <td>0.243824</td>\n",
       "      <td>100.0</td>\n",
       "      <td>94</td>\n",
       "      <td>63</td>\n",
       "      <td>94</td>\n",
       "      <td>...</td>\n",
       "      <td>8.777657</td>\n",
       "      <td>15.3609</td>\n",
       "      <td>22.919438</td>\n",
       "      <td>16.823843</td>\n",
       "      <td>65.718174</td>\n",
       "      <td>40.057108</td>\n",
       "      <td>88.3829</td>\n",
       "      <td>76.165947</td>\n",
       "      <td>87.271777</td>\n",
       "      <td>76.698349</td>\n",
       "    </tr>\n",
       "    <tr>\n",
       "      <th>1</th>\n",
       "      <td>Argentina</td>\n",
       "      <td>2022-10-14</td>\n",
       "      <td>Sputnik V</td>\n",
       "      <td>20742641</td>\n",
       "      <td>109748183</td>\n",
       "      <td>0.189002</td>\n",
       "      <td>100.0</td>\n",
       "      <td>92</td>\n",
       "      <td>86</td>\n",
       "      <td>89</td>\n",
       "      <td>...</td>\n",
       "      <td>8.316094</td>\n",
       "      <td>16.254184</td>\n",
       "      <td>16.82119</td>\n",
       "      <td>16.065182</td>\n",
       "      <td>65.718174</td>\n",
       "      <td>40.057108</td>\n",
       "      <td>88.3829</td>\n",
       "      <td>76.165947</td>\n",
       "      <td>87.271777</td>\n",
       "      <td>76.698349</td>\n",
       "    </tr>\n",
       "    <tr>\n",
       "      <th>2</th>\n",
       "      <td>Argentina</td>\n",
       "      <td>2022-10-15</td>\n",
       "      <td>CanSino</td>\n",
       "      <td>979735</td>\n",
       "      <td>109748183</td>\n",
       "      <td>0.008927</td>\n",
       "      <td>100.0</td>\n",
       "      <td>66</td>\n",
       "      <td>62</td>\n",
       "      <td>64</td>\n",
       "      <td>...</td>\n",
       "      <td>0.285668</td>\n",
       "      <td>0.553481</td>\n",
       "      <td>0.571336</td>\n",
       "      <td>0.544554</td>\n",
       "      <td>65.718174</td>\n",
       "      <td>40.057108</td>\n",
       "      <td>88.3829</td>\n",
       "      <td>76.165947</td>\n",
       "      <td>87.271777</td>\n",
       "      <td>76.698349</td>\n",
       "    </tr>\n",
       "    <tr>\n",
       "      <th>3</th>\n",
       "      <td>Argentina</td>\n",
       "      <td>2022-10-16</td>\n",
       "      <td>Moderna</td>\n",
       "      <td>13252207</td>\n",
       "      <td>109748183</td>\n",
       "      <td>0.120751</td>\n",
       "      <td>100.0</td>\n",
       "      <td>97</td>\n",
       "      <td>92</td>\n",
       "      <td>97</td>\n",
       "      <td>...</td>\n",
       "      <td>5.79605</td>\n",
       "      <td>11.109095</td>\n",
       "      <td>11.712851</td>\n",
       "      <td>10.988344</td>\n",
       "      <td>65.718174</td>\n",
       "      <td>40.057108</td>\n",
       "      <td>88.3829</td>\n",
       "      <td>76.165947</td>\n",
       "      <td>87.271777</td>\n",
       "      <td>76.698349</td>\n",
       "    </tr>\n",
       "    <tr>\n",
       "      <th>4</th>\n",
       "      <td>Argentina</td>\n",
       "      <td>2022-10-16</td>\n",
       "      <td>Pfizer/BioNTech</td>\n",
       "      <td>19136214</td>\n",
       "      <td>109748183</td>\n",
       "      <td>0.174365</td>\n",
       "      <td>100.0</td>\n",
       "      <td>95</td>\n",
       "      <td>86</td>\n",
       "      <td>95</td>\n",
       "      <td>...</td>\n",
       "      <td>7.672049</td>\n",
       "      <td>14.995368</td>\n",
       "      <td>16.564651</td>\n",
       "      <td>14.646639</td>\n",
       "      <td>65.718174</td>\n",
       "      <td>40.057108</td>\n",
       "      <td>88.3829</td>\n",
       "      <td>76.165947</td>\n",
       "      <td>87.271777</td>\n",
       "      <td>76.698349</td>\n",
       "    </tr>\n",
       "    <tr>\n",
       "      <th>...</th>\n",
       "      <td>...</td>\n",
       "      <td>...</td>\n",
       "      <td>...</td>\n",
       "      <td>...</td>\n",
       "      <td>...</td>\n",
       "      <td>...</td>\n",
       "      <td>...</td>\n",
       "      <td>...</td>\n",
       "      <td>...</td>\n",
       "      <td>...</td>\n",
       "      <td>...</td>\n",
       "      <td>...</td>\n",
       "      <td>...</td>\n",
       "      <td>...</td>\n",
       "      <td>...</td>\n",
       "      <td>...</td>\n",
       "      <td>...</td>\n",
       "      <td>...</td>\n",
       "      <td>...</td>\n",
       "      <td>...</td>\n",
       "      <td>...</td>\n",
       "    </tr>\n",
       "    <tr>\n",
       "      <th>358</th>\n",
       "      <td>United States</td>\n",
       "      <td>2022-10-12</td>\n",
       "      <td>Moderna</td>\n",
       "      <td>235757021</td>\n",
       "      <td>627128998</td>\n",
       "      <td>0.375931</td>\n",
       "      <td>100.0</td>\n",
       "      <td>97</td>\n",
       "      <td>92</td>\n",
       "      <td>97</td>\n",
       "      <td>...</td>\n",
       "      <td>18.044672</td>\n",
       "      <td>34.585621</td>\n",
       "      <td>36.465274</td>\n",
       "      <td>34.20969</td>\n",
       "      <td>71.923477</td>\n",
       "      <td>45.171923</td>\n",
       "      <td>95.480389</td>\n",
       "      <td>87.833294</td>\n",
       "      <td>95.178754</td>\n",
       "      <td>86.028243</td>\n",
       "    </tr>\n",
       "    <tr>\n",
       "      <th>359</th>\n",
       "      <td>United States</td>\n",
       "      <td>2022-10-12</td>\n",
       "      <td>Pfizer/BioNTech</td>\n",
       "      <td>372455530</td>\n",
       "      <td>627128998</td>\n",
       "      <td>0.593906</td>\n",
       "      <td>100.0</td>\n",
       "      <td>95</td>\n",
       "      <td>86</td>\n",
       "      <td>95</td>\n",
       "      <td>...</td>\n",
       "      <td>26.131854</td>\n",
       "      <td>51.075896</td>\n",
       "      <td>56.421048</td>\n",
       "      <td>49.888085</td>\n",
       "      <td>71.923477</td>\n",
       "      <td>45.171923</td>\n",
       "      <td>95.480389</td>\n",
       "      <td>87.833294</td>\n",
       "      <td>95.178754</td>\n",
       "      <td>86.028243</td>\n",
       "    </tr>\n",
       "    <tr>\n",
       "      <th>360</th>\n",
       "      <td>Uruguay</td>\n",
       "      <td>2022-09-16</td>\n",
       "      <td>Sinovac</td>\n",
       "      <td>3248161</td>\n",
       "      <td>5895528</td>\n",
       "      <td>0.550953</td>\n",
       "      <td>100.0</td>\n",
       "      <td>50</td>\n",
       "      <td>47</td>\n",
       "      <td>49</td>\n",
       "      <td>...</td>\n",
       "      <td>13.222881</td>\n",
       "      <td>25.894808</td>\n",
       "      <td>26.996715</td>\n",
       "      <td>25.343855</td>\n",
       "      <td>52.701173</td>\n",
       "      <td>32.857258</td>\n",
       "      <td>70.191639</td>\n",
       "      <td>64.157254</td>\n",
       "      <td>69.640686</td>\n",
       "      <td>62.831882</td>\n",
       "    </tr>\n",
       "    <tr>\n",
       "      <th>361</th>\n",
       "      <td>Uruguay</td>\n",
       "      <td>2022-10-12</td>\n",
       "      <td>Oxford/AstraZeneca</td>\n",
       "      <td>91141</td>\n",
       "      <td>5895528</td>\n",
       "      <td>0.015459</td>\n",
       "      <td>100.0</td>\n",
       "      <td>94</td>\n",
       "      <td>63</td>\n",
       "      <td>94</td>\n",
       "      <td>...</td>\n",
       "      <td>0.556536</td>\n",
       "      <td>0.973939</td>\n",
       "      <td>1.453178</td>\n",
       "      <td>1.066695</td>\n",
       "      <td>52.701173</td>\n",
       "      <td>32.857258</td>\n",
       "      <td>70.191639</td>\n",
       "      <td>64.157254</td>\n",
       "      <td>69.640686</td>\n",
       "      <td>62.831882</td>\n",
       "    </tr>\n",
       "    <tr>\n",
       "      <th>362</th>\n",
       "      <td>Uruguay</td>\n",
       "      <td>2022-10-17</td>\n",
       "      <td>Pfizer/BioNTech</td>\n",
       "      <td>2556226</td>\n",
       "      <td>5895528</td>\n",
       "      <td>0.433587</td>\n",
       "      <td>100.0</td>\n",
       "      <td>95</td>\n",
       "      <td>86</td>\n",
       "      <td>95</td>\n",
       "      <td>...</td>\n",
       "      <td>19.077841</td>\n",
       "      <td>37.288507</td>\n",
       "      <td>41.190792</td>\n",
       "      <td>36.421332</td>\n",
       "      <td>52.701173</td>\n",
       "      <td>32.857258</td>\n",
       "      <td>70.191639</td>\n",
       "      <td>64.157254</td>\n",
       "      <td>69.640686</td>\n",
       "      <td>62.831882</td>\n",
       "    </tr>\n",
       "  </tbody>\n",
       "</table>\n",
       "<p>363 rows × 25 columns</p>\n",
       "</div>"
      ],
      "text/plain": [
       "           Country       Date Vaccine_Manufacturer  Total_Vaccinations  \\\n",
       "0        Argentina 2022-10-13   Oxford/AstraZeneca            26759220   \n",
       "1        Argentina 2022-10-14            Sputnik V            20742641   \n",
       "2        Argentina 2022-10-15              CanSino              979735   \n",
       "3        Argentina 2022-10-16              Moderna            13252207   \n",
       "4        Argentina 2022-10-16      Pfizer/BioNTech            19136214   \n",
       "..             ...        ...                  ...                 ...   \n",
       "358  United States 2022-10-12              Moderna           235757021   \n",
       "359  United States 2022-10-12      Pfizer/BioNTech           372455530   \n",
       "360        Uruguay 2022-09-16              Sinovac             3248161   \n",
       "361        Uruguay 2022-10-12   Oxford/AstraZeneca               91141   \n",
       "362        Uruguay 2022-10-17      Pfizer/BioNTech             2556226   \n",
       "\n",
       "     CountrywiseTotalVaccination  Percentage_of_Vaccination_2  \\\n",
       "0                      109748183                     0.243824   \n",
       "1                      109748183                     0.189002   \n",
       "2                      109748183                     0.008927   \n",
       "3                      109748183                     0.120751   \n",
       "4                      109748183                     0.174365   \n",
       "..                           ...                          ...   \n",
       "358                    627128998                     0.375931   \n",
       "359                    627128998                     0.593906   \n",
       "360                      5895528                     0.550953   \n",
       "361                      5895528                     0.015459   \n",
       "362                      5895528                     0.433587   \n",
       "\n",
       "     Total_Percentage_of_Vaccination_2  \\\n",
       "0                                100.0   \n",
       "1                                100.0   \n",
       "2                                100.0   \n",
       "3                                100.0   \n",
       "4                                100.0   \n",
       "..                                 ...   \n",
       "358                              100.0   \n",
       "359                              100.0   \n",
       "360                              100.0   \n",
       "361                              100.0   \n",
       "362                              100.0   \n",
       "\n",
       "    Protection_from_Severe_Disease_Alpha_Ancestral  \\\n",
       "0                                               94   \n",
       "1                                               92   \n",
       "2                                               66   \n",
       "3                                               97   \n",
       "4                                               95   \n",
       "..                                             ...   \n",
       "358                                             97   \n",
       "359                                             95   \n",
       "360                                             50   \n",
       "361                                             94   \n",
       "362                                             95   \n",
       "\n",
       "    Protection_from_Infection_Alpha_Ancestral  \\\n",
       "0                                          63   \n",
       "1                                          86   \n",
       "2                                          62   \n",
       "3                                          92   \n",
       "4                                          86   \n",
       "..                                        ...   \n",
       "358                                        92   \n",
       "359                                        86   \n",
       "360                                        47   \n",
       "361                                        63   \n",
       "362                                        86   \n",
       "\n",
       "    Protection_from_Severe_Disease_Beta_Gamma_Delta  ...  \\\n",
       "0                                                94  ...   \n",
       "1                                                89  ...   \n",
       "2                                                64  ...   \n",
       "3                                                97  ...   \n",
       "4                                                95  ...   \n",
       "..                                              ...  ...   \n",
       "358                                              97  ...   \n",
       "359                                              95  ...   \n",
       "360                                              49  ...   \n",
       "361                                              94  ...   \n",
       "362                                              95  ...   \n",
       "\n",
       "    Omicorn_Infection_Efficacy Alpha_Ancestral_Infection_Efficacy  \\\n",
       "0                     8.777657                            15.3609   \n",
       "1                     8.316094                          16.254184   \n",
       "2                     0.285668                           0.553481   \n",
       "3                      5.79605                          11.109095   \n",
       "4                     7.672049                          14.995368   \n",
       "..                         ...                                ...   \n",
       "358                  18.044672                          34.585621   \n",
       "359                  26.131854                          51.075896   \n",
       "360                  13.222881                          25.894808   \n",
       "361                   0.556536                           0.973939   \n",
       "362                  19.077841                          37.288507   \n",
       "\n",
       "    Beta_Gamma_Delta_Severe_Disease_Efficacy  \\\n",
       "0                                  22.919438   \n",
       "1                                   16.82119   \n",
       "2                                   0.571336   \n",
       "3                                  11.712851   \n",
       "4                                  16.564651   \n",
       "..                                       ...   \n",
       "358                                36.465274   \n",
       "359                                56.421048   \n",
       "360                                26.996715   \n",
       "361                                 1.453178   \n",
       "362                                41.190792   \n",
       "\n",
       "    Beta_Gamma_Delta_Infection_Efficacy Total_Omicorn_Severe_Disease_Efficacy  \\\n",
       "0                             16.823843                             65.718174   \n",
       "1                             16.065182                             65.718174   \n",
       "2                              0.544554                             65.718174   \n",
       "3                             10.988344                             65.718174   \n",
       "4                             14.646639                             65.718174   \n",
       "..                                  ...                                   ...   \n",
       "358                            34.20969                             71.923477   \n",
       "359                           49.888085                             71.923477   \n",
       "360                           25.343855                             52.701173   \n",
       "361                            1.066695                             52.701173   \n",
       "362                           36.421332                             52.701173   \n",
       "\n",
       "    Total_Omicorn_Infection_Efficacy  \\\n",
       "0                          40.057108   \n",
       "1                          40.057108   \n",
       "2                          40.057108   \n",
       "3                          40.057108   \n",
       "4                          40.057108   \n",
       "..                               ...   \n",
       "358                        45.171923   \n",
       "359                        45.171923   \n",
       "360                        32.857258   \n",
       "361                        32.857258   \n",
       "362                        32.857258   \n",
       "\n",
       "    Total_Alpha_Ancestral_Severe_Disease_Efficacy  \\\n",
       "0                                         88.3829   \n",
       "1                                         88.3829   \n",
       "2                                         88.3829   \n",
       "3                                         88.3829   \n",
       "4                                         88.3829   \n",
       "..                                            ...   \n",
       "358                                     95.480389   \n",
       "359                                     95.480389   \n",
       "360                                     70.191639   \n",
       "361                                     70.191639   \n",
       "362                                     70.191639   \n",
       "\n",
       "    Total_Alpha_Ancestral_Infection_Efficacy  \\\n",
       "0                                  76.165947   \n",
       "1                                  76.165947   \n",
       "2                                  76.165947   \n",
       "3                                  76.165947   \n",
       "4                                  76.165947   \n",
       "..                                       ...   \n",
       "358                                87.833294   \n",
       "359                                87.833294   \n",
       "360                                64.157254   \n",
       "361                                64.157254   \n",
       "362                                64.157254   \n",
       "\n",
       "    Total_Beta_Gamma_Delta_Severe_Disease_Efficacy  \\\n",
       "0                                        87.271777   \n",
       "1                                        87.271777   \n",
       "2                                        87.271777   \n",
       "3                                        87.271777   \n",
       "4                                        87.271777   \n",
       "..                                             ...   \n",
       "358                                      95.178754   \n",
       "359                                      95.178754   \n",
       "360                                      69.640686   \n",
       "361                                      69.640686   \n",
       "362                                      69.640686   \n",
       "\n",
       "    Total_Beta_Gamma_Delta_Infection_Efficacy  \n",
       "0                                   76.698349  \n",
       "1                                   76.698349  \n",
       "2                                   76.698349  \n",
       "3                                   76.698349  \n",
       "4                                   76.698349  \n",
       "..                                        ...  \n",
       "358                                 86.028243  \n",
       "359                                 86.028243  \n",
       "360                                 62.831882  \n",
       "361                                 62.831882  \n",
       "362                                 62.831882  \n",
       "\n",
       "[363 rows x 25 columns]"
      ]
     },
     "execution_count": 68,
     "metadata": {},
     "output_type": "execute_result"
    }
   ],
   "source": [
    "merged_data"
   ]
  },
  {
   "cell_type": "code",
   "execution_count": 119,
   "id": "c4aa4d81",
   "metadata": {},
   "outputs": [],
   "source": [
    "merged_data.to_csv('merged_data.csv', encoding='utf-8', index=False)"
   ]
  },
  {
   "cell_type": "code",
   "execution_count": null,
   "id": "23eeee23",
   "metadata": {},
   "outputs": [],
   "source": [
    "# df_1['new_column_2'] = df_1.groupby(['Country', \"Vaccine_Manufacturer\"])['Percentage_of_Vaccination_2'].transform('sum')\n",
    "\n",
    "\n"
   ]
  },
  {
   "cell_type": "code",
   "execution_count": null,
   "id": "ef66328d",
   "metadata": {},
   "outputs": [],
   "source": [
    "merged_data"
   ]
  },
  {
   "cell_type": "code",
   "execution_count": 69,
   "id": "5937b3b1",
   "metadata": {},
   "outputs": [],
   "source": [
    "merged_data['Susceptible_BreakOut_for_Omicorn_Severe_Disease'] = merged_data['Total_Percentage_of_Vaccination_2'] - merged_data['Total_Omicorn_Severe_Disease_Efficacy']\n",
    "\n"
   ]
  },
  {
   "cell_type": "code",
   "execution_count": null,
   "id": "45884b1e",
   "metadata": {},
   "outputs": [],
   "source": [
    "merged_data"
   ]
  },
  {
   "cell_type": "code",
   "execution_count": 70,
   "id": "154f9965",
   "metadata": {},
   "outputs": [],
   "source": [
    "merged_data['Susceptible_BreakOut_for_Omicorn_Infection'] = merged_data['Total_Percentage_of_Vaccination_2'] - merged_data['Total_Omicorn_Infection_Efficacy']\n",
    "\n",
    "\n"
   ]
  },
  {
   "cell_type": "code",
   "execution_count": 71,
   "id": "bfff948a",
   "metadata": {},
   "outputs": [],
   "source": [
    "merged_data['Susceptible_BreakOut_for_Alpha_Ancestral_Severe_Disease'] = merged_data['Total_Percentage_of_Vaccination_2'] - merged_data['Total_Alpha_Ancestral_Severe_Disease_Efficacy']\n",
    "\n"
   ]
  },
  {
   "cell_type": "code",
   "execution_count": 72,
   "id": "71483fed",
   "metadata": {},
   "outputs": [],
   "source": [
    "merged_data['Susceptible_BreakOut_for_Alpha_Ancestral_Infection'] = merged_data['Total_Percentage_of_Vaccination_2'] - merged_data['Total_Alpha_Ancestral_Infection_Efficacy']\n",
    "\n"
   ]
  },
  {
   "cell_type": "code",
   "execution_count": 73,
   "id": "d8ceda97",
   "metadata": {},
   "outputs": [],
   "source": [
    "merged_data['Susceptible_BreakOut_for_Beta_Gamma_Delta_Severe_Disease'] = merged_data['Total_Percentage_of_Vaccination_2'] - merged_data['Total_Beta_Gamma_Delta_Severe_Disease_Efficacy']\n",
    "\n"
   ]
  },
  {
   "cell_type": "code",
   "execution_count": 74,
   "id": "ca2124c0",
   "metadata": {},
   "outputs": [],
   "source": [
    "merged_data['Susceptible_BreakOut_for_Beta_Gamma_Delta_Infection'] = merged_data['Total_Percentage_of_Vaccination_2'] - merged_data['Total_Beta_Gamma_Delta_Infection_Efficacy']\n",
    "\n"
   ]
  },
  {
   "cell_type": "code",
   "execution_count": 75,
   "id": "206babb2",
   "metadata": {},
   "outputs": [
    {
     "data": {
      "text/html": [
       "<div>\n",
       "<style scoped>\n",
       "    .dataframe tbody tr th:only-of-type {\n",
       "        vertical-align: middle;\n",
       "    }\n",
       "\n",
       "    .dataframe tbody tr th {\n",
       "        vertical-align: top;\n",
       "    }\n",
       "\n",
       "    .dataframe thead th {\n",
       "        text-align: right;\n",
       "    }\n",
       "</style>\n",
       "<table border=\"1\" class=\"dataframe\">\n",
       "  <thead>\n",
       "    <tr style=\"text-align: right;\">\n",
       "      <th></th>\n",
       "      <th>Country</th>\n",
       "      <th>Date</th>\n",
       "      <th>Vaccine_Manufacturer</th>\n",
       "      <th>Total_Vaccinations</th>\n",
       "      <th>CountrywiseTotalVaccination</th>\n",
       "      <th>Percentage_of_Vaccination_2</th>\n",
       "      <th>Total_Percentage_of_Vaccination_2</th>\n",
       "      <th>Protection_from_Severe_Disease_Alpha_Ancestral</th>\n",
       "      <th>Protection_from_Infection_Alpha_Ancestral</th>\n",
       "      <th>Protection_from_Severe_Disease_Beta_Gamma_Delta</th>\n",
       "      <th>...</th>\n",
       "      <th>Total_Alpha_Ancestral_Severe_Disease_Efficacy</th>\n",
       "      <th>Total_Alpha_Ancestral_Infection_Efficacy</th>\n",
       "      <th>Total_Beta_Gamma_Delta_Severe_Disease_Efficacy</th>\n",
       "      <th>Total_Beta_Gamma_Delta_Infection_Efficacy</th>\n",
       "      <th>Susceptible_BreakOut_for_Omicorn_Severe_Disease</th>\n",
       "      <th>Susceptible_BreakOut_for_Omicorn_Infection</th>\n",
       "      <th>Susceptible_BreakOut_for_Alpha_Ancestral_Severe_Disease</th>\n",
       "      <th>Susceptible_BreakOut_for_Alpha_Ancestral_Infection</th>\n",
       "      <th>Susceptible_BreakOut_for_Beta_Gamma_Delta_Severe_Disease</th>\n",
       "      <th>Susceptible_BreakOut_for_Beta_Gamma_Delta_Infection</th>\n",
       "    </tr>\n",
       "  </thead>\n",
       "  <tbody>\n",
       "    <tr>\n",
       "      <th>0</th>\n",
       "      <td>Argentina</td>\n",
       "      <td>2022-10-13</td>\n",
       "      <td>Oxford/AstraZeneca</td>\n",
       "      <td>26759220</td>\n",
       "      <td>109748183</td>\n",
       "      <td>0.243824</td>\n",
       "      <td>100.0</td>\n",
       "      <td>94</td>\n",
       "      <td>63</td>\n",
       "      <td>94</td>\n",
       "      <td>...</td>\n",
       "      <td>88.3829</td>\n",
       "      <td>76.165947</td>\n",
       "      <td>87.271777</td>\n",
       "      <td>76.698349</td>\n",
       "      <td>34.281826</td>\n",
       "      <td>59.942892</td>\n",
       "      <td>11.6171</td>\n",
       "      <td>23.834053</td>\n",
       "      <td>12.728223</td>\n",
       "      <td>23.301651</td>\n",
       "    </tr>\n",
       "    <tr>\n",
       "      <th>1</th>\n",
       "      <td>Argentina</td>\n",
       "      <td>2022-10-14</td>\n",
       "      <td>Sputnik V</td>\n",
       "      <td>20742641</td>\n",
       "      <td>109748183</td>\n",
       "      <td>0.189002</td>\n",
       "      <td>100.0</td>\n",
       "      <td>92</td>\n",
       "      <td>86</td>\n",
       "      <td>89</td>\n",
       "      <td>...</td>\n",
       "      <td>88.3829</td>\n",
       "      <td>76.165947</td>\n",
       "      <td>87.271777</td>\n",
       "      <td>76.698349</td>\n",
       "      <td>34.281826</td>\n",
       "      <td>59.942892</td>\n",
       "      <td>11.6171</td>\n",
       "      <td>23.834053</td>\n",
       "      <td>12.728223</td>\n",
       "      <td>23.301651</td>\n",
       "    </tr>\n",
       "    <tr>\n",
       "      <th>2</th>\n",
       "      <td>Argentina</td>\n",
       "      <td>2022-10-15</td>\n",
       "      <td>CanSino</td>\n",
       "      <td>979735</td>\n",
       "      <td>109748183</td>\n",
       "      <td>0.008927</td>\n",
       "      <td>100.0</td>\n",
       "      <td>66</td>\n",
       "      <td>62</td>\n",
       "      <td>64</td>\n",
       "      <td>...</td>\n",
       "      <td>88.3829</td>\n",
       "      <td>76.165947</td>\n",
       "      <td>87.271777</td>\n",
       "      <td>76.698349</td>\n",
       "      <td>34.281826</td>\n",
       "      <td>59.942892</td>\n",
       "      <td>11.6171</td>\n",
       "      <td>23.834053</td>\n",
       "      <td>12.728223</td>\n",
       "      <td>23.301651</td>\n",
       "    </tr>\n",
       "    <tr>\n",
       "      <th>3</th>\n",
       "      <td>Argentina</td>\n",
       "      <td>2022-10-16</td>\n",
       "      <td>Moderna</td>\n",
       "      <td>13252207</td>\n",
       "      <td>109748183</td>\n",
       "      <td>0.120751</td>\n",
       "      <td>100.0</td>\n",
       "      <td>97</td>\n",
       "      <td>92</td>\n",
       "      <td>97</td>\n",
       "      <td>...</td>\n",
       "      <td>88.3829</td>\n",
       "      <td>76.165947</td>\n",
       "      <td>87.271777</td>\n",
       "      <td>76.698349</td>\n",
       "      <td>34.281826</td>\n",
       "      <td>59.942892</td>\n",
       "      <td>11.6171</td>\n",
       "      <td>23.834053</td>\n",
       "      <td>12.728223</td>\n",
       "      <td>23.301651</td>\n",
       "    </tr>\n",
       "    <tr>\n",
       "      <th>4</th>\n",
       "      <td>Argentina</td>\n",
       "      <td>2022-10-16</td>\n",
       "      <td>Pfizer/BioNTech</td>\n",
       "      <td>19136214</td>\n",
       "      <td>109748183</td>\n",
       "      <td>0.174365</td>\n",
       "      <td>100.0</td>\n",
       "      <td>95</td>\n",
       "      <td>86</td>\n",
       "      <td>95</td>\n",
       "      <td>...</td>\n",
       "      <td>88.3829</td>\n",
       "      <td>76.165947</td>\n",
       "      <td>87.271777</td>\n",
       "      <td>76.698349</td>\n",
       "      <td>34.281826</td>\n",
       "      <td>59.942892</td>\n",
       "      <td>11.6171</td>\n",
       "      <td>23.834053</td>\n",
       "      <td>12.728223</td>\n",
       "      <td>23.301651</td>\n",
       "    </tr>\n",
       "    <tr>\n",
       "      <th>...</th>\n",
       "      <td>...</td>\n",
       "      <td>...</td>\n",
       "      <td>...</td>\n",
       "      <td>...</td>\n",
       "      <td>...</td>\n",
       "      <td>...</td>\n",
       "      <td>...</td>\n",
       "      <td>...</td>\n",
       "      <td>...</td>\n",
       "      <td>...</td>\n",
       "      <td>...</td>\n",
       "      <td>...</td>\n",
       "      <td>...</td>\n",
       "      <td>...</td>\n",
       "      <td>...</td>\n",
       "      <td>...</td>\n",
       "      <td>...</td>\n",
       "      <td>...</td>\n",
       "      <td>...</td>\n",
       "      <td>...</td>\n",
       "      <td>...</td>\n",
       "    </tr>\n",
       "    <tr>\n",
       "      <th>358</th>\n",
       "      <td>United States</td>\n",
       "      <td>2022-10-12</td>\n",
       "      <td>Moderna</td>\n",
       "      <td>235757021</td>\n",
       "      <td>627128998</td>\n",
       "      <td>0.375931</td>\n",
       "      <td>100.0</td>\n",
       "      <td>97</td>\n",
       "      <td>92</td>\n",
       "      <td>97</td>\n",
       "      <td>...</td>\n",
       "      <td>95.480389</td>\n",
       "      <td>87.833294</td>\n",
       "      <td>95.178754</td>\n",
       "      <td>86.028243</td>\n",
       "      <td>28.076523</td>\n",
       "      <td>54.828077</td>\n",
       "      <td>4.519611</td>\n",
       "      <td>12.166706</td>\n",
       "      <td>4.821246</td>\n",
       "      <td>13.971757</td>\n",
       "    </tr>\n",
       "    <tr>\n",
       "      <th>359</th>\n",
       "      <td>United States</td>\n",
       "      <td>2022-10-12</td>\n",
       "      <td>Pfizer/BioNTech</td>\n",
       "      <td>372455530</td>\n",
       "      <td>627128998</td>\n",
       "      <td>0.593906</td>\n",
       "      <td>100.0</td>\n",
       "      <td>95</td>\n",
       "      <td>86</td>\n",
       "      <td>95</td>\n",
       "      <td>...</td>\n",
       "      <td>95.480389</td>\n",
       "      <td>87.833294</td>\n",
       "      <td>95.178754</td>\n",
       "      <td>86.028243</td>\n",
       "      <td>28.076523</td>\n",
       "      <td>54.828077</td>\n",
       "      <td>4.519611</td>\n",
       "      <td>12.166706</td>\n",
       "      <td>4.821246</td>\n",
       "      <td>13.971757</td>\n",
       "    </tr>\n",
       "    <tr>\n",
       "      <th>360</th>\n",
       "      <td>Uruguay</td>\n",
       "      <td>2022-09-16</td>\n",
       "      <td>Sinovac</td>\n",
       "      <td>3248161</td>\n",
       "      <td>5895528</td>\n",
       "      <td>0.550953</td>\n",
       "      <td>100.0</td>\n",
       "      <td>50</td>\n",
       "      <td>47</td>\n",
       "      <td>49</td>\n",
       "      <td>...</td>\n",
       "      <td>70.191639</td>\n",
       "      <td>64.157254</td>\n",
       "      <td>69.640686</td>\n",
       "      <td>62.831882</td>\n",
       "      <td>47.298827</td>\n",
       "      <td>67.142742</td>\n",
       "      <td>29.808361</td>\n",
       "      <td>35.842746</td>\n",
       "      <td>30.359314</td>\n",
       "      <td>37.168118</td>\n",
       "    </tr>\n",
       "    <tr>\n",
       "      <th>361</th>\n",
       "      <td>Uruguay</td>\n",
       "      <td>2022-10-12</td>\n",
       "      <td>Oxford/AstraZeneca</td>\n",
       "      <td>91141</td>\n",
       "      <td>5895528</td>\n",
       "      <td>0.015459</td>\n",
       "      <td>100.0</td>\n",
       "      <td>94</td>\n",
       "      <td>63</td>\n",
       "      <td>94</td>\n",
       "      <td>...</td>\n",
       "      <td>70.191639</td>\n",
       "      <td>64.157254</td>\n",
       "      <td>69.640686</td>\n",
       "      <td>62.831882</td>\n",
       "      <td>47.298827</td>\n",
       "      <td>67.142742</td>\n",
       "      <td>29.808361</td>\n",
       "      <td>35.842746</td>\n",
       "      <td>30.359314</td>\n",
       "      <td>37.168118</td>\n",
       "    </tr>\n",
       "    <tr>\n",
       "      <th>362</th>\n",
       "      <td>Uruguay</td>\n",
       "      <td>2022-10-17</td>\n",
       "      <td>Pfizer/BioNTech</td>\n",
       "      <td>2556226</td>\n",
       "      <td>5895528</td>\n",
       "      <td>0.433587</td>\n",
       "      <td>100.0</td>\n",
       "      <td>95</td>\n",
       "      <td>86</td>\n",
       "      <td>95</td>\n",
       "      <td>...</td>\n",
       "      <td>70.191639</td>\n",
       "      <td>64.157254</td>\n",
       "      <td>69.640686</td>\n",
       "      <td>62.831882</td>\n",
       "      <td>47.298827</td>\n",
       "      <td>67.142742</td>\n",
       "      <td>29.808361</td>\n",
       "      <td>35.842746</td>\n",
       "      <td>30.359314</td>\n",
       "      <td>37.168118</td>\n",
       "    </tr>\n",
       "  </tbody>\n",
       "</table>\n",
       "<p>363 rows × 31 columns</p>\n",
       "</div>"
      ],
      "text/plain": [
       "           Country       Date Vaccine_Manufacturer  Total_Vaccinations  \\\n",
       "0        Argentina 2022-10-13   Oxford/AstraZeneca            26759220   \n",
       "1        Argentina 2022-10-14            Sputnik V            20742641   \n",
       "2        Argentina 2022-10-15              CanSino              979735   \n",
       "3        Argentina 2022-10-16              Moderna            13252207   \n",
       "4        Argentina 2022-10-16      Pfizer/BioNTech            19136214   \n",
       "..             ...        ...                  ...                 ...   \n",
       "358  United States 2022-10-12              Moderna           235757021   \n",
       "359  United States 2022-10-12      Pfizer/BioNTech           372455530   \n",
       "360        Uruguay 2022-09-16              Sinovac             3248161   \n",
       "361        Uruguay 2022-10-12   Oxford/AstraZeneca               91141   \n",
       "362        Uruguay 2022-10-17      Pfizer/BioNTech             2556226   \n",
       "\n",
       "     CountrywiseTotalVaccination  Percentage_of_Vaccination_2  \\\n",
       "0                      109748183                     0.243824   \n",
       "1                      109748183                     0.189002   \n",
       "2                      109748183                     0.008927   \n",
       "3                      109748183                     0.120751   \n",
       "4                      109748183                     0.174365   \n",
       "..                           ...                          ...   \n",
       "358                    627128998                     0.375931   \n",
       "359                    627128998                     0.593906   \n",
       "360                      5895528                     0.550953   \n",
       "361                      5895528                     0.015459   \n",
       "362                      5895528                     0.433587   \n",
       "\n",
       "     Total_Percentage_of_Vaccination_2  \\\n",
       "0                                100.0   \n",
       "1                                100.0   \n",
       "2                                100.0   \n",
       "3                                100.0   \n",
       "4                                100.0   \n",
       "..                                 ...   \n",
       "358                              100.0   \n",
       "359                              100.0   \n",
       "360                              100.0   \n",
       "361                              100.0   \n",
       "362                              100.0   \n",
       "\n",
       "    Protection_from_Severe_Disease_Alpha_Ancestral  \\\n",
       "0                                               94   \n",
       "1                                               92   \n",
       "2                                               66   \n",
       "3                                               97   \n",
       "4                                               95   \n",
       "..                                             ...   \n",
       "358                                             97   \n",
       "359                                             95   \n",
       "360                                             50   \n",
       "361                                             94   \n",
       "362                                             95   \n",
       "\n",
       "    Protection_from_Infection_Alpha_Ancestral  \\\n",
       "0                                          63   \n",
       "1                                          86   \n",
       "2                                          62   \n",
       "3                                          92   \n",
       "4                                          86   \n",
       "..                                        ...   \n",
       "358                                        92   \n",
       "359                                        86   \n",
       "360                                        47   \n",
       "361                                        63   \n",
       "362                                        86   \n",
       "\n",
       "    Protection_from_Severe_Disease_Beta_Gamma_Delta  ...  \\\n",
       "0                                                94  ...   \n",
       "1                                                89  ...   \n",
       "2                                                64  ...   \n",
       "3                                                97  ...   \n",
       "4                                                95  ...   \n",
       "..                                              ...  ...   \n",
       "358                                              97  ...   \n",
       "359                                              95  ...   \n",
       "360                                              49  ...   \n",
       "361                                              94  ...   \n",
       "362                                              95  ...   \n",
       "\n",
       "    Total_Alpha_Ancestral_Severe_Disease_Efficacy  \\\n",
       "0                                         88.3829   \n",
       "1                                         88.3829   \n",
       "2                                         88.3829   \n",
       "3                                         88.3829   \n",
       "4                                         88.3829   \n",
       "..                                            ...   \n",
       "358                                     95.480389   \n",
       "359                                     95.480389   \n",
       "360                                     70.191639   \n",
       "361                                     70.191639   \n",
       "362                                     70.191639   \n",
       "\n",
       "    Total_Alpha_Ancestral_Infection_Efficacy  \\\n",
       "0                                  76.165947   \n",
       "1                                  76.165947   \n",
       "2                                  76.165947   \n",
       "3                                  76.165947   \n",
       "4                                  76.165947   \n",
       "..                                       ...   \n",
       "358                                87.833294   \n",
       "359                                87.833294   \n",
       "360                                64.157254   \n",
       "361                                64.157254   \n",
       "362                                64.157254   \n",
       "\n",
       "    Total_Beta_Gamma_Delta_Severe_Disease_Efficacy  \\\n",
       "0                                        87.271777   \n",
       "1                                        87.271777   \n",
       "2                                        87.271777   \n",
       "3                                        87.271777   \n",
       "4                                        87.271777   \n",
       "..                                             ...   \n",
       "358                                      95.178754   \n",
       "359                                      95.178754   \n",
       "360                                      69.640686   \n",
       "361                                      69.640686   \n",
       "362                                      69.640686   \n",
       "\n",
       "    Total_Beta_Gamma_Delta_Infection_Efficacy  \\\n",
       "0                                   76.698349   \n",
       "1                                   76.698349   \n",
       "2                                   76.698349   \n",
       "3                                   76.698349   \n",
       "4                                   76.698349   \n",
       "..                                        ...   \n",
       "358                                 86.028243   \n",
       "359                                 86.028243   \n",
       "360                                 62.831882   \n",
       "361                                 62.831882   \n",
       "362                                 62.831882   \n",
       "\n",
       "    Susceptible_BreakOut_for_Omicorn_Severe_Disease  \\\n",
       "0                                         34.281826   \n",
       "1                                         34.281826   \n",
       "2                                         34.281826   \n",
       "3                                         34.281826   \n",
       "4                                         34.281826   \n",
       "..                                              ...   \n",
       "358                                       28.076523   \n",
       "359                                       28.076523   \n",
       "360                                       47.298827   \n",
       "361                                       47.298827   \n",
       "362                                       47.298827   \n",
       "\n",
       "    Susceptible_BreakOut_for_Omicorn_Infection  \\\n",
       "0                                    59.942892   \n",
       "1                                    59.942892   \n",
       "2                                    59.942892   \n",
       "3                                    59.942892   \n",
       "4                                    59.942892   \n",
       "..                                         ...   \n",
       "358                                  54.828077   \n",
       "359                                  54.828077   \n",
       "360                                  67.142742   \n",
       "361                                  67.142742   \n",
       "362                                  67.142742   \n",
       "\n",
       "    Susceptible_BreakOut_for_Alpha_Ancestral_Severe_Disease  \\\n",
       "0                                              11.6171        \n",
       "1                                              11.6171        \n",
       "2                                              11.6171        \n",
       "3                                              11.6171        \n",
       "4                                              11.6171        \n",
       "..                                                 ...        \n",
       "358                                           4.519611        \n",
       "359                                           4.519611        \n",
       "360                                          29.808361        \n",
       "361                                          29.808361        \n",
       "362                                          29.808361        \n",
       "\n",
       "    Susceptible_BreakOut_for_Alpha_Ancestral_Infection  \\\n",
       "0                                            23.834053   \n",
       "1                                            23.834053   \n",
       "2                                            23.834053   \n",
       "3                                            23.834053   \n",
       "4                                            23.834053   \n",
       "..                                                 ...   \n",
       "358                                          12.166706   \n",
       "359                                          12.166706   \n",
       "360                                          35.842746   \n",
       "361                                          35.842746   \n",
       "362                                          35.842746   \n",
       "\n",
       "    Susceptible_BreakOut_for_Beta_Gamma_Delta_Severe_Disease  \\\n",
       "0                                            12.728223         \n",
       "1                                            12.728223         \n",
       "2                                            12.728223         \n",
       "3                                            12.728223         \n",
       "4                                            12.728223         \n",
       "..                                                 ...         \n",
       "358                                           4.821246         \n",
       "359                                           4.821246         \n",
       "360                                          30.359314         \n",
       "361                                          30.359314         \n",
       "362                                          30.359314         \n",
       "\n",
       "    Susceptible_BreakOut_for_Beta_Gamma_Delta_Infection  \n",
       "0                                            23.301651   \n",
       "1                                            23.301651   \n",
       "2                                            23.301651   \n",
       "3                                            23.301651   \n",
       "4                                            23.301651   \n",
       "..                                                 ...   \n",
       "358                                          13.971757   \n",
       "359                                          13.971757   \n",
       "360                                          37.168118   \n",
       "361                                          37.168118   \n",
       "362                                          37.168118   \n",
       "\n",
       "[363 rows x 31 columns]"
      ]
     },
     "execution_count": 75,
     "metadata": {},
     "output_type": "execute_result"
    }
   ],
   "source": [
    "merged_data"
   ]
  },
  {
   "cell_type": "code",
   "execution_count": null,
   "id": "bd05ebd1",
   "metadata": {},
   "outputs": [],
   "source": [
    "merged_data['year'] = pd.DatetimeIndex(merged_data['Date']).year"
   ]
  },
  {
   "cell_type": "code",
   "execution_count": null,
   "id": "1a0b7459",
   "metadata": {},
   "outputs": [],
   "source": [
    "merged_data"
   ]
  },
  {
   "cell_type": "code",
   "execution_count": null,
   "id": "08474943",
   "metadata": {},
   "outputs": [],
   "source": [
    "cy_group = merged_data.groupby([\"Country\", \"year\"])"
   ]
  },
  {
   "cell_type": "code",
   "execution_count": null,
   "id": "ab8f0460",
   "metadata": {},
   "outputs": [],
   "source": [
    "cy_group.first()"
   ]
  },
  {
   "cell_type": "code",
   "execution_count": null,
   "id": "26b1e0a4",
   "metadata": {},
   "outputs": [],
   "source": [
    "merged_data['Country'].unique()"
   ]
  },
  {
   "cell_type": "code",
   "execution_count": 76,
   "id": "fe4dad09",
   "metadata": {},
   "outputs": [],
   "source": [
    "df = merged_data.query(\"Country=='Argentina'\")\n"
   ]
  },
  {
   "cell_type": "code",
   "execution_count": 77,
   "id": "2b2fe8f9",
   "metadata": {},
   "outputs": [
    {
     "data": {
      "text/html": [
       "<div>\n",
       "<style scoped>\n",
       "    .dataframe tbody tr th:only-of-type {\n",
       "        vertical-align: middle;\n",
       "    }\n",
       "\n",
       "    .dataframe tbody tr th {\n",
       "        vertical-align: top;\n",
       "    }\n",
       "\n",
       "    .dataframe thead th {\n",
       "        text-align: right;\n",
       "    }\n",
       "</style>\n",
       "<table border=\"1\" class=\"dataframe\">\n",
       "  <thead>\n",
       "    <tr style=\"text-align: right;\">\n",
       "      <th></th>\n",
       "      <th>Country</th>\n",
       "      <th>Date</th>\n",
       "      <th>Vaccine_Manufacturer</th>\n",
       "      <th>Total_Vaccinations</th>\n",
       "      <th>CountrywiseTotalVaccination</th>\n",
       "      <th>Percentage_of_Vaccination_2</th>\n",
       "      <th>Total_Percentage_of_Vaccination_2</th>\n",
       "      <th>Protection_from_Severe_Disease_Alpha_Ancestral</th>\n",
       "      <th>Protection_from_Infection_Alpha_Ancestral</th>\n",
       "      <th>Protection_from_Severe_Disease_Beta_Gamma_Delta</th>\n",
       "      <th>...</th>\n",
       "      <th>Total_Alpha_Ancestral_Severe_Disease_Efficacy</th>\n",
       "      <th>Total_Alpha_Ancestral_Infection_Efficacy</th>\n",
       "      <th>Total_Beta_Gamma_Delta_Severe_Disease_Efficacy</th>\n",
       "      <th>Total_Beta_Gamma_Delta_Infection_Efficacy</th>\n",
       "      <th>Susceptible_BreakOut_for_Omicorn_Severe_Disease</th>\n",
       "      <th>Susceptible_BreakOut_for_Omicorn_Infection</th>\n",
       "      <th>Susceptible_BreakOut_for_Alpha_Ancestral_Severe_Disease</th>\n",
       "      <th>Susceptible_BreakOut_for_Alpha_Ancestral_Infection</th>\n",
       "      <th>Susceptible_BreakOut_for_Beta_Gamma_Delta_Severe_Disease</th>\n",
       "      <th>Susceptible_BreakOut_for_Beta_Gamma_Delta_Infection</th>\n",
       "    </tr>\n",
       "  </thead>\n",
       "  <tbody>\n",
       "    <tr>\n",
       "      <th>0</th>\n",
       "      <td>Argentina</td>\n",
       "      <td>2022-10-13</td>\n",
       "      <td>Oxford/AstraZeneca</td>\n",
       "      <td>26759220</td>\n",
       "      <td>109748183</td>\n",
       "      <td>0.243824</td>\n",
       "      <td>100.0</td>\n",
       "      <td>94</td>\n",
       "      <td>63</td>\n",
       "      <td>94</td>\n",
       "      <td>...</td>\n",
       "      <td>88.3829</td>\n",
       "      <td>76.165947</td>\n",
       "      <td>87.271777</td>\n",
       "      <td>76.698349</td>\n",
       "      <td>34.281826</td>\n",
       "      <td>59.942892</td>\n",
       "      <td>11.6171</td>\n",
       "      <td>23.834053</td>\n",
       "      <td>12.728223</td>\n",
       "      <td>23.301651</td>\n",
       "    </tr>\n",
       "    <tr>\n",
       "      <th>1</th>\n",
       "      <td>Argentina</td>\n",
       "      <td>2022-10-14</td>\n",
       "      <td>Sputnik V</td>\n",
       "      <td>20742641</td>\n",
       "      <td>109748183</td>\n",
       "      <td>0.189002</td>\n",
       "      <td>100.0</td>\n",
       "      <td>92</td>\n",
       "      <td>86</td>\n",
       "      <td>89</td>\n",
       "      <td>...</td>\n",
       "      <td>88.3829</td>\n",
       "      <td>76.165947</td>\n",
       "      <td>87.271777</td>\n",
       "      <td>76.698349</td>\n",
       "      <td>34.281826</td>\n",
       "      <td>59.942892</td>\n",
       "      <td>11.6171</td>\n",
       "      <td>23.834053</td>\n",
       "      <td>12.728223</td>\n",
       "      <td>23.301651</td>\n",
       "    </tr>\n",
       "    <tr>\n",
       "      <th>2</th>\n",
       "      <td>Argentina</td>\n",
       "      <td>2022-10-15</td>\n",
       "      <td>CanSino</td>\n",
       "      <td>979735</td>\n",
       "      <td>109748183</td>\n",
       "      <td>0.008927</td>\n",
       "      <td>100.0</td>\n",
       "      <td>66</td>\n",
       "      <td>62</td>\n",
       "      <td>64</td>\n",
       "      <td>...</td>\n",
       "      <td>88.3829</td>\n",
       "      <td>76.165947</td>\n",
       "      <td>87.271777</td>\n",
       "      <td>76.698349</td>\n",
       "      <td>34.281826</td>\n",
       "      <td>59.942892</td>\n",
       "      <td>11.6171</td>\n",
       "      <td>23.834053</td>\n",
       "      <td>12.728223</td>\n",
       "      <td>23.301651</td>\n",
       "    </tr>\n",
       "    <tr>\n",
       "      <th>3</th>\n",
       "      <td>Argentina</td>\n",
       "      <td>2022-10-16</td>\n",
       "      <td>Moderna</td>\n",
       "      <td>13252207</td>\n",
       "      <td>109748183</td>\n",
       "      <td>0.120751</td>\n",
       "      <td>100.0</td>\n",
       "      <td>97</td>\n",
       "      <td>92</td>\n",
       "      <td>97</td>\n",
       "      <td>...</td>\n",
       "      <td>88.3829</td>\n",
       "      <td>76.165947</td>\n",
       "      <td>87.271777</td>\n",
       "      <td>76.698349</td>\n",
       "      <td>34.281826</td>\n",
       "      <td>59.942892</td>\n",
       "      <td>11.6171</td>\n",
       "      <td>23.834053</td>\n",
       "      <td>12.728223</td>\n",
       "      <td>23.301651</td>\n",
       "    </tr>\n",
       "    <tr>\n",
       "      <th>4</th>\n",
       "      <td>Argentina</td>\n",
       "      <td>2022-10-16</td>\n",
       "      <td>Pfizer/BioNTech</td>\n",
       "      <td>19136214</td>\n",
       "      <td>109748183</td>\n",
       "      <td>0.174365</td>\n",
       "      <td>100.0</td>\n",
       "      <td>95</td>\n",
       "      <td>86</td>\n",
       "      <td>95</td>\n",
       "      <td>...</td>\n",
       "      <td>88.3829</td>\n",
       "      <td>76.165947</td>\n",
       "      <td>87.271777</td>\n",
       "      <td>76.698349</td>\n",
       "      <td>34.281826</td>\n",
       "      <td>59.942892</td>\n",
       "      <td>11.6171</td>\n",
       "      <td>23.834053</td>\n",
       "      <td>12.728223</td>\n",
       "      <td>23.301651</td>\n",
       "    </tr>\n",
       "    <tr>\n",
       "      <th>5</th>\n",
       "      <td>Argentina</td>\n",
       "      <td>2022-10-16</td>\n",
       "      <td>Sinopharm/Beijing</td>\n",
       "      <td>28878166</td>\n",
       "      <td>109748183</td>\n",
       "      <td>0.263131</td>\n",
       "      <td>100.0</td>\n",
       "      <td>73</td>\n",
       "      <td>68</td>\n",
       "      <td>71</td>\n",
       "      <td>...</td>\n",
       "      <td>88.3829</td>\n",
       "      <td>76.165947</td>\n",
       "      <td>87.271777</td>\n",
       "      <td>76.698349</td>\n",
       "      <td>34.281826</td>\n",
       "      <td>59.942892</td>\n",
       "      <td>11.6171</td>\n",
       "      <td>23.834053</td>\n",
       "      <td>12.728223</td>\n",
       "      <td>23.301651</td>\n",
       "    </tr>\n",
       "  </tbody>\n",
       "</table>\n",
       "<p>6 rows × 31 columns</p>\n",
       "</div>"
      ],
      "text/plain": [
       "     Country       Date Vaccine_Manufacturer  Total_Vaccinations  \\\n",
       "0  Argentina 2022-10-13   Oxford/AstraZeneca            26759220   \n",
       "1  Argentina 2022-10-14            Sputnik V            20742641   \n",
       "2  Argentina 2022-10-15              CanSino              979735   \n",
       "3  Argentina 2022-10-16              Moderna            13252207   \n",
       "4  Argentina 2022-10-16      Pfizer/BioNTech            19136214   \n",
       "5  Argentina 2022-10-16    Sinopharm/Beijing            28878166   \n",
       "\n",
       "   CountrywiseTotalVaccination  Percentage_of_Vaccination_2  \\\n",
       "0                    109748183                     0.243824   \n",
       "1                    109748183                     0.189002   \n",
       "2                    109748183                     0.008927   \n",
       "3                    109748183                     0.120751   \n",
       "4                    109748183                     0.174365   \n",
       "5                    109748183                     0.263131   \n",
       "\n",
       "   Total_Percentage_of_Vaccination_2  \\\n",
       "0                              100.0   \n",
       "1                              100.0   \n",
       "2                              100.0   \n",
       "3                              100.0   \n",
       "4                              100.0   \n",
       "5                              100.0   \n",
       "\n",
       "  Protection_from_Severe_Disease_Alpha_Ancestral  \\\n",
       "0                                             94   \n",
       "1                                             92   \n",
       "2                                             66   \n",
       "3                                             97   \n",
       "4                                             95   \n",
       "5                                             73   \n",
       "\n",
       "  Protection_from_Infection_Alpha_Ancestral  \\\n",
       "0                                        63   \n",
       "1                                        86   \n",
       "2                                        62   \n",
       "3                                        92   \n",
       "4                                        86   \n",
       "5                                        68   \n",
       "\n",
       "  Protection_from_Severe_Disease_Beta_Gamma_Delta  ...  \\\n",
       "0                                              94  ...   \n",
       "1                                              89  ...   \n",
       "2                                              64  ...   \n",
       "3                                              97  ...   \n",
       "4                                              95  ...   \n",
       "5                                              71  ...   \n",
       "\n",
       "  Total_Alpha_Ancestral_Severe_Disease_Efficacy  \\\n",
       "0                                       88.3829   \n",
       "1                                       88.3829   \n",
       "2                                       88.3829   \n",
       "3                                       88.3829   \n",
       "4                                       88.3829   \n",
       "5                                       88.3829   \n",
       "\n",
       "  Total_Alpha_Ancestral_Infection_Efficacy  \\\n",
       "0                                76.165947   \n",
       "1                                76.165947   \n",
       "2                                76.165947   \n",
       "3                                76.165947   \n",
       "4                                76.165947   \n",
       "5                                76.165947   \n",
       "\n",
       "  Total_Beta_Gamma_Delta_Severe_Disease_Efficacy  \\\n",
       "0                                      87.271777   \n",
       "1                                      87.271777   \n",
       "2                                      87.271777   \n",
       "3                                      87.271777   \n",
       "4                                      87.271777   \n",
       "5                                      87.271777   \n",
       "\n",
       "  Total_Beta_Gamma_Delta_Infection_Efficacy  \\\n",
       "0                                 76.698349   \n",
       "1                                 76.698349   \n",
       "2                                 76.698349   \n",
       "3                                 76.698349   \n",
       "4                                 76.698349   \n",
       "5                                 76.698349   \n",
       "\n",
       "  Susceptible_BreakOut_for_Omicorn_Severe_Disease  \\\n",
       "0                                       34.281826   \n",
       "1                                       34.281826   \n",
       "2                                       34.281826   \n",
       "3                                       34.281826   \n",
       "4                                       34.281826   \n",
       "5                                       34.281826   \n",
       "\n",
       "  Susceptible_BreakOut_for_Omicorn_Infection  \\\n",
       "0                                  59.942892   \n",
       "1                                  59.942892   \n",
       "2                                  59.942892   \n",
       "3                                  59.942892   \n",
       "4                                  59.942892   \n",
       "5                                  59.942892   \n",
       "\n",
       "  Susceptible_BreakOut_for_Alpha_Ancestral_Severe_Disease  \\\n",
       "0                                            11.6171        \n",
       "1                                            11.6171        \n",
       "2                                            11.6171        \n",
       "3                                            11.6171        \n",
       "4                                            11.6171        \n",
       "5                                            11.6171        \n",
       "\n",
       "  Susceptible_BreakOut_for_Alpha_Ancestral_Infection  \\\n",
       "0                                          23.834053   \n",
       "1                                          23.834053   \n",
       "2                                          23.834053   \n",
       "3                                          23.834053   \n",
       "4                                          23.834053   \n",
       "5                                          23.834053   \n",
       "\n",
       "  Susceptible_BreakOut_for_Beta_Gamma_Delta_Severe_Disease  \\\n",
       "0                                          12.728223         \n",
       "1                                          12.728223         \n",
       "2                                          12.728223         \n",
       "3                                          12.728223         \n",
       "4                                          12.728223         \n",
       "5                                          12.728223         \n",
       "\n",
       "  Susceptible_BreakOut_for_Beta_Gamma_Delta_Infection  \n",
       "0                                          23.301651   \n",
       "1                                          23.301651   \n",
       "2                                          23.301651   \n",
       "3                                          23.301651   \n",
       "4                                          23.301651   \n",
       "5                                          23.301651   \n",
       "\n",
       "[6 rows x 31 columns]"
      ]
     },
     "execution_count": 77,
     "metadata": {},
     "output_type": "execute_result"
    }
   ],
   "source": [
    "df"
   ]
  },
  {
   "cell_type": "code",
   "execution_count": 94,
   "id": "6285b316",
   "metadata": {},
   "outputs": [
    {
     "data": {
      "application/vnd.plotly.v1+json": {
       "config": {
        "plotlyServerURL": "https://plot.ly"
       },
       "data": [
        {
         "hovertemplate": "Country=Argentina<br>variable=Susceptible_BreakOut_for_Omicorn_Infection<br>Date=%{x}<br>value=%{y}<extra></extra>",
         "legendgroup": "Argentina",
         "line": {
          "color": "#636efa",
          "dash": "solid"
         },
         "marker": {
          "symbol": "circle"
         },
         "mode": "markers+lines",
         "name": "Argentina",
         "orientation": "v",
         "showlegend": true,
         "type": "scatter",
         "x": [
          "2022-10-13T00:00:00",
          "2022-10-14T00:00:00",
          "2022-10-15T00:00:00",
          "2022-10-16T00:00:00",
          "2022-10-16T00:00:00",
          "2022-10-16T00:00:00"
         ],
         "xaxis": "x",
         "y": [
          59.9428921205921,
          59.9428921205921,
          59.9428921205921,
          59.9428921205921,
          59.9428921205921,
          59.9428921205921
         ],
         "yaxis": "y"
        },
        {
         "hovertemplate": "Country=Argentina<br>variable=Susceptible_BreakOut_for_Omicorn_Severe_Disease<br>Date=%{x}<br>value=%{y}<extra></extra>",
         "legendgroup": "Argentina",
         "line": {
          "color": "#636efa",
          "dash": "solid"
         },
         "marker": {
          "symbol": "circle"
         },
         "mode": "markers+lines",
         "name": "Argentina",
         "orientation": "v",
         "showlegend": false,
         "type": "scatter",
         "x": [
          "2022-10-13T00:00:00",
          "2022-10-14T00:00:00",
          "2022-10-15T00:00:00",
          "2022-10-16T00:00:00",
          "2022-10-16T00:00:00",
          "2022-10-16T00:00:00"
         ],
         "xaxis": "x",
         "y": [
          34.28182620572406,
          34.28182620572406,
          34.28182620572406,
          34.28182620572406,
          34.28182620572406,
          34.28182620572406
         ],
         "yaxis": "y"
        }
       ],
       "layout": {
        "legend": {
         "title": {
          "text": "Country"
         },
         "tracegroupgap": 0
        },
        "template": {
         "data": {
          "bar": [
           {
            "error_x": {
             "color": "#2a3f5f"
            },
            "error_y": {
             "color": "#2a3f5f"
            },
            "marker": {
             "line": {
              "color": "#E5ECF6",
              "width": 0.5
             },
             "pattern": {
              "fillmode": "overlay",
              "size": 10,
              "solidity": 0.2
             }
            },
            "type": "bar"
           }
          ],
          "barpolar": [
           {
            "marker": {
             "line": {
              "color": "#E5ECF6",
              "width": 0.5
             },
             "pattern": {
              "fillmode": "overlay",
              "size": 10,
              "solidity": 0.2
             }
            },
            "type": "barpolar"
           }
          ],
          "carpet": [
           {
            "aaxis": {
             "endlinecolor": "#2a3f5f",
             "gridcolor": "white",
             "linecolor": "white",
             "minorgridcolor": "white",
             "startlinecolor": "#2a3f5f"
            },
            "baxis": {
             "endlinecolor": "#2a3f5f",
             "gridcolor": "white",
             "linecolor": "white",
             "minorgridcolor": "white",
             "startlinecolor": "#2a3f5f"
            },
            "type": "carpet"
           }
          ],
          "choropleth": [
           {
            "colorbar": {
             "outlinewidth": 0,
             "ticks": ""
            },
            "type": "choropleth"
           }
          ],
          "contour": [
           {
            "colorbar": {
             "outlinewidth": 0,
             "ticks": ""
            },
            "colorscale": [
             [
              0,
              "#0d0887"
             ],
             [
              0.1111111111111111,
              "#46039f"
             ],
             [
              0.2222222222222222,
              "#7201a8"
             ],
             [
              0.3333333333333333,
              "#9c179e"
             ],
             [
              0.4444444444444444,
              "#bd3786"
             ],
             [
              0.5555555555555556,
              "#d8576b"
             ],
             [
              0.6666666666666666,
              "#ed7953"
             ],
             [
              0.7777777777777778,
              "#fb9f3a"
             ],
             [
              0.8888888888888888,
              "#fdca26"
             ],
             [
              1,
              "#f0f921"
             ]
            ],
            "type": "contour"
           }
          ],
          "contourcarpet": [
           {
            "colorbar": {
             "outlinewidth": 0,
             "ticks": ""
            },
            "type": "contourcarpet"
           }
          ],
          "heatmap": [
           {
            "colorbar": {
             "outlinewidth": 0,
             "ticks": ""
            },
            "colorscale": [
             [
              0,
              "#0d0887"
             ],
             [
              0.1111111111111111,
              "#46039f"
             ],
             [
              0.2222222222222222,
              "#7201a8"
             ],
             [
              0.3333333333333333,
              "#9c179e"
             ],
             [
              0.4444444444444444,
              "#bd3786"
             ],
             [
              0.5555555555555556,
              "#d8576b"
             ],
             [
              0.6666666666666666,
              "#ed7953"
             ],
             [
              0.7777777777777778,
              "#fb9f3a"
             ],
             [
              0.8888888888888888,
              "#fdca26"
             ],
             [
              1,
              "#f0f921"
             ]
            ],
            "type": "heatmap"
           }
          ],
          "heatmapgl": [
           {
            "colorbar": {
             "outlinewidth": 0,
             "ticks": ""
            },
            "colorscale": [
             [
              0,
              "#0d0887"
             ],
             [
              0.1111111111111111,
              "#46039f"
             ],
             [
              0.2222222222222222,
              "#7201a8"
             ],
             [
              0.3333333333333333,
              "#9c179e"
             ],
             [
              0.4444444444444444,
              "#bd3786"
             ],
             [
              0.5555555555555556,
              "#d8576b"
             ],
             [
              0.6666666666666666,
              "#ed7953"
             ],
             [
              0.7777777777777778,
              "#fb9f3a"
             ],
             [
              0.8888888888888888,
              "#fdca26"
             ],
             [
              1,
              "#f0f921"
             ]
            ],
            "type": "heatmapgl"
           }
          ],
          "histogram": [
           {
            "marker": {
             "pattern": {
              "fillmode": "overlay",
              "size": 10,
              "solidity": 0.2
             }
            },
            "type": "histogram"
           }
          ],
          "histogram2d": [
           {
            "colorbar": {
             "outlinewidth": 0,
             "ticks": ""
            },
            "colorscale": [
             [
              0,
              "#0d0887"
             ],
             [
              0.1111111111111111,
              "#46039f"
             ],
             [
              0.2222222222222222,
              "#7201a8"
             ],
             [
              0.3333333333333333,
              "#9c179e"
             ],
             [
              0.4444444444444444,
              "#bd3786"
             ],
             [
              0.5555555555555556,
              "#d8576b"
             ],
             [
              0.6666666666666666,
              "#ed7953"
             ],
             [
              0.7777777777777778,
              "#fb9f3a"
             ],
             [
              0.8888888888888888,
              "#fdca26"
             ],
             [
              1,
              "#f0f921"
             ]
            ],
            "type": "histogram2d"
           }
          ],
          "histogram2dcontour": [
           {
            "colorbar": {
             "outlinewidth": 0,
             "ticks": ""
            },
            "colorscale": [
             [
              0,
              "#0d0887"
             ],
             [
              0.1111111111111111,
              "#46039f"
             ],
             [
              0.2222222222222222,
              "#7201a8"
             ],
             [
              0.3333333333333333,
              "#9c179e"
             ],
             [
              0.4444444444444444,
              "#bd3786"
             ],
             [
              0.5555555555555556,
              "#d8576b"
             ],
             [
              0.6666666666666666,
              "#ed7953"
             ],
             [
              0.7777777777777778,
              "#fb9f3a"
             ],
             [
              0.8888888888888888,
              "#fdca26"
             ],
             [
              1,
              "#f0f921"
             ]
            ],
            "type": "histogram2dcontour"
           }
          ],
          "mesh3d": [
           {
            "colorbar": {
             "outlinewidth": 0,
             "ticks": ""
            },
            "type": "mesh3d"
           }
          ],
          "parcoords": [
           {
            "line": {
             "colorbar": {
              "outlinewidth": 0,
              "ticks": ""
             }
            },
            "type": "parcoords"
           }
          ],
          "pie": [
           {
            "automargin": true,
            "type": "pie"
           }
          ],
          "scatter": [
           {
            "marker": {
             "colorbar": {
              "outlinewidth": 0,
              "ticks": ""
             }
            },
            "type": "scatter"
           }
          ],
          "scatter3d": [
           {
            "line": {
             "colorbar": {
              "outlinewidth": 0,
              "ticks": ""
             }
            },
            "marker": {
             "colorbar": {
              "outlinewidth": 0,
              "ticks": ""
             }
            },
            "type": "scatter3d"
           }
          ],
          "scattercarpet": [
           {
            "marker": {
             "colorbar": {
              "outlinewidth": 0,
              "ticks": ""
             }
            },
            "type": "scattercarpet"
           }
          ],
          "scattergeo": [
           {
            "marker": {
             "colorbar": {
              "outlinewidth": 0,
              "ticks": ""
             }
            },
            "type": "scattergeo"
           }
          ],
          "scattergl": [
           {
            "marker": {
             "colorbar": {
              "outlinewidth": 0,
              "ticks": ""
             }
            },
            "type": "scattergl"
           }
          ],
          "scattermapbox": [
           {
            "marker": {
             "colorbar": {
              "outlinewidth": 0,
              "ticks": ""
             }
            },
            "type": "scattermapbox"
           }
          ],
          "scatterpolar": [
           {
            "marker": {
             "colorbar": {
              "outlinewidth": 0,
              "ticks": ""
             }
            },
            "type": "scatterpolar"
           }
          ],
          "scatterpolargl": [
           {
            "marker": {
             "colorbar": {
              "outlinewidth": 0,
              "ticks": ""
             }
            },
            "type": "scatterpolargl"
           }
          ],
          "scatterternary": [
           {
            "marker": {
             "colorbar": {
              "outlinewidth": 0,
              "ticks": ""
             }
            },
            "type": "scatterternary"
           }
          ],
          "surface": [
           {
            "colorbar": {
             "outlinewidth": 0,
             "ticks": ""
            },
            "colorscale": [
             [
              0,
              "#0d0887"
             ],
             [
              0.1111111111111111,
              "#46039f"
             ],
             [
              0.2222222222222222,
              "#7201a8"
             ],
             [
              0.3333333333333333,
              "#9c179e"
             ],
             [
              0.4444444444444444,
              "#bd3786"
             ],
             [
              0.5555555555555556,
              "#d8576b"
             ],
             [
              0.6666666666666666,
              "#ed7953"
             ],
             [
              0.7777777777777778,
              "#fb9f3a"
             ],
             [
              0.8888888888888888,
              "#fdca26"
             ],
             [
              1,
              "#f0f921"
             ]
            ],
            "type": "surface"
           }
          ],
          "table": [
           {
            "cells": {
             "fill": {
              "color": "#EBF0F8"
             },
             "line": {
              "color": "white"
             }
            },
            "header": {
             "fill": {
              "color": "#C8D4E3"
             },
             "line": {
              "color": "white"
             }
            },
            "type": "table"
           }
          ]
         },
         "layout": {
          "annotationdefaults": {
           "arrowcolor": "#2a3f5f",
           "arrowhead": 0,
           "arrowwidth": 1
          },
          "autotypenumbers": "strict",
          "coloraxis": {
           "colorbar": {
            "outlinewidth": 0,
            "ticks": ""
           }
          },
          "colorscale": {
           "diverging": [
            [
             0,
             "#8e0152"
            ],
            [
             0.1,
             "#c51b7d"
            ],
            [
             0.2,
             "#de77ae"
            ],
            [
             0.3,
             "#f1b6da"
            ],
            [
             0.4,
             "#fde0ef"
            ],
            [
             0.5,
             "#f7f7f7"
            ],
            [
             0.6,
             "#e6f5d0"
            ],
            [
             0.7,
             "#b8e186"
            ],
            [
             0.8,
             "#7fbc41"
            ],
            [
             0.9,
             "#4d9221"
            ],
            [
             1,
             "#276419"
            ]
           ],
           "sequential": [
            [
             0,
             "#0d0887"
            ],
            [
             0.1111111111111111,
             "#46039f"
            ],
            [
             0.2222222222222222,
             "#7201a8"
            ],
            [
             0.3333333333333333,
             "#9c179e"
            ],
            [
             0.4444444444444444,
             "#bd3786"
            ],
            [
             0.5555555555555556,
             "#d8576b"
            ],
            [
             0.6666666666666666,
             "#ed7953"
            ],
            [
             0.7777777777777778,
             "#fb9f3a"
            ],
            [
             0.8888888888888888,
             "#fdca26"
            ],
            [
             1,
             "#f0f921"
            ]
           ],
           "sequentialminus": [
            [
             0,
             "#0d0887"
            ],
            [
             0.1111111111111111,
             "#46039f"
            ],
            [
             0.2222222222222222,
             "#7201a8"
            ],
            [
             0.3333333333333333,
             "#9c179e"
            ],
            [
             0.4444444444444444,
             "#bd3786"
            ],
            [
             0.5555555555555556,
             "#d8576b"
            ],
            [
             0.6666666666666666,
             "#ed7953"
            ],
            [
             0.7777777777777778,
             "#fb9f3a"
            ],
            [
             0.8888888888888888,
             "#fdca26"
            ],
            [
             1,
             "#f0f921"
            ]
           ]
          },
          "colorway": [
           "#636efa",
           "#EF553B",
           "#00cc96",
           "#ab63fa",
           "#FFA15A",
           "#19d3f3",
           "#FF6692",
           "#B6E880",
           "#FF97FF",
           "#FECB52"
          ],
          "font": {
           "color": "#2a3f5f"
          },
          "geo": {
           "bgcolor": "white",
           "lakecolor": "white",
           "landcolor": "#E5ECF6",
           "showlakes": true,
           "showland": true,
           "subunitcolor": "white"
          },
          "hoverlabel": {
           "align": "left"
          },
          "hovermode": "closest",
          "mapbox": {
           "style": "light"
          },
          "paper_bgcolor": "white",
          "plot_bgcolor": "#E5ECF6",
          "polar": {
           "angularaxis": {
            "gridcolor": "white",
            "linecolor": "white",
            "ticks": ""
           },
           "bgcolor": "#E5ECF6",
           "radialaxis": {
            "gridcolor": "white",
            "linecolor": "white",
            "ticks": ""
           }
          },
          "scene": {
           "xaxis": {
            "backgroundcolor": "#E5ECF6",
            "gridcolor": "white",
            "gridwidth": 2,
            "linecolor": "white",
            "showbackground": true,
            "ticks": "",
            "zerolinecolor": "white"
           },
           "yaxis": {
            "backgroundcolor": "#E5ECF6",
            "gridcolor": "white",
            "gridwidth": 2,
            "linecolor": "white",
            "showbackground": true,
            "ticks": "",
            "zerolinecolor": "white"
           },
           "zaxis": {
            "backgroundcolor": "#E5ECF6",
            "gridcolor": "white",
            "gridwidth": 2,
            "linecolor": "white",
            "showbackground": true,
            "ticks": "",
            "zerolinecolor": "white"
           }
          },
          "shapedefaults": {
           "line": {
            "color": "#2a3f5f"
           }
          },
          "ternary": {
           "aaxis": {
            "gridcolor": "white",
            "linecolor": "white",
            "ticks": ""
           },
           "baxis": {
            "gridcolor": "white",
            "linecolor": "white",
            "ticks": ""
           },
           "bgcolor": "#E5ECF6",
           "caxis": {
            "gridcolor": "white",
            "linecolor": "white",
            "ticks": ""
           }
          },
          "title": {
           "x": 0.05
          },
          "xaxis": {
           "automargin": true,
           "gridcolor": "white",
           "linecolor": "white",
           "ticks": "",
           "title": {
            "standoff": 15
           },
           "zerolinecolor": "white",
           "zerolinewidth": 2
          },
          "yaxis": {
           "automargin": true,
           "gridcolor": "white",
           "linecolor": "white",
           "ticks": "",
           "title": {
            "standoff": 15
           },
           "zerolinecolor": "white",
           "zerolinewidth": 2
          }
         }
        },
        "title": {
         "text": "Susceptible BreakOut for Omicorn Infection in Argentina"
        },
        "xaxis": {
         "anchor": "y",
         "domain": [
          0,
          1
         ],
         "title": {
          "text": "Date"
         }
        },
        "yaxis": {
         "anchor": "x",
         "domain": [
          0,
          1
         ],
         "title": {
          "text": "value"
         }
        }
       }
      },
      "text/html": [
       "<div>                            <div id=\"844b7bf9-0d47-4c56-a1d3-4c76c6886697\" class=\"plotly-graph-div\" style=\"height:525px; width:100%;\"></div>            <script type=\"text/javascript\">                require([\"plotly\"], function(Plotly) {                    window.PLOTLYENV=window.PLOTLYENV || {};                                    if (document.getElementById(\"844b7bf9-0d47-4c56-a1d3-4c76c6886697\")) {                    Plotly.newPlot(                        \"844b7bf9-0d47-4c56-a1d3-4c76c6886697\",                        [{\"hovertemplate\":\"Country=Argentina<br>variable=Susceptible_BreakOut_for_Omicorn_Infection<br>Date=%{x}<br>value=%{y}<extra></extra>\",\"legendgroup\":\"Argentina\",\"line\":{\"color\":\"#636efa\",\"dash\":\"solid\"},\"marker\":{\"symbol\":\"circle\"},\"mode\":\"markers+lines\",\"name\":\"Argentina\",\"orientation\":\"v\",\"showlegend\":true,\"x\":[\"2022-10-13T00:00:00\",\"2022-10-14T00:00:00\",\"2022-10-15T00:00:00\",\"2022-10-16T00:00:00\",\"2022-10-16T00:00:00\",\"2022-10-16T00:00:00\"],\"xaxis\":\"x\",\"y\":[59.9428921205921,59.9428921205921,59.9428921205921,59.9428921205921,59.9428921205921,59.9428921205921],\"yaxis\":\"y\",\"type\":\"scatter\"},{\"hovertemplate\":\"Country=Argentina<br>variable=Susceptible_BreakOut_for_Omicorn_Severe_Disease<br>Date=%{x}<br>value=%{y}<extra></extra>\",\"legendgroup\":\"Argentina\",\"line\":{\"color\":\"#636efa\",\"dash\":\"solid\"},\"marker\":{\"symbol\":\"circle\"},\"mode\":\"markers+lines\",\"name\":\"Argentina\",\"orientation\":\"v\",\"showlegend\":false,\"x\":[\"2022-10-13T00:00:00\",\"2022-10-14T00:00:00\",\"2022-10-15T00:00:00\",\"2022-10-16T00:00:00\",\"2022-10-16T00:00:00\",\"2022-10-16T00:00:00\"],\"xaxis\":\"x\",\"y\":[34.28182620572406,34.28182620572406,34.28182620572406,34.28182620572406,34.28182620572406,34.28182620572406],\"yaxis\":\"y\",\"type\":\"scatter\"}],                        {\"template\":{\"data\":{\"bar\":[{\"error_x\":{\"color\":\"#2a3f5f\"},\"error_y\":{\"color\":\"#2a3f5f\"},\"marker\":{\"line\":{\"color\":\"#E5ECF6\",\"width\":0.5},\"pattern\":{\"fillmode\":\"overlay\",\"size\":10,\"solidity\":0.2}},\"type\":\"bar\"}],\"barpolar\":[{\"marker\":{\"line\":{\"color\":\"#E5ECF6\",\"width\":0.5},\"pattern\":{\"fillmode\":\"overlay\",\"size\":10,\"solidity\":0.2}},\"type\":\"barpolar\"}],\"carpet\":[{\"aaxis\":{\"endlinecolor\":\"#2a3f5f\",\"gridcolor\":\"white\",\"linecolor\":\"white\",\"minorgridcolor\":\"white\",\"startlinecolor\":\"#2a3f5f\"},\"baxis\":{\"endlinecolor\":\"#2a3f5f\",\"gridcolor\":\"white\",\"linecolor\":\"white\",\"minorgridcolor\":\"white\",\"startlinecolor\":\"#2a3f5f\"},\"type\":\"carpet\"}],\"choropleth\":[{\"colorbar\":{\"outlinewidth\":0,\"ticks\":\"\"},\"type\":\"choropleth\"}],\"contour\":[{\"colorbar\":{\"outlinewidth\":0,\"ticks\":\"\"},\"colorscale\":[[0.0,\"#0d0887\"],[0.1111111111111111,\"#46039f\"],[0.2222222222222222,\"#7201a8\"],[0.3333333333333333,\"#9c179e\"],[0.4444444444444444,\"#bd3786\"],[0.5555555555555556,\"#d8576b\"],[0.6666666666666666,\"#ed7953\"],[0.7777777777777778,\"#fb9f3a\"],[0.8888888888888888,\"#fdca26\"],[1.0,\"#f0f921\"]],\"type\":\"contour\"}],\"contourcarpet\":[{\"colorbar\":{\"outlinewidth\":0,\"ticks\":\"\"},\"type\":\"contourcarpet\"}],\"heatmap\":[{\"colorbar\":{\"outlinewidth\":0,\"ticks\":\"\"},\"colorscale\":[[0.0,\"#0d0887\"],[0.1111111111111111,\"#46039f\"],[0.2222222222222222,\"#7201a8\"],[0.3333333333333333,\"#9c179e\"],[0.4444444444444444,\"#bd3786\"],[0.5555555555555556,\"#d8576b\"],[0.6666666666666666,\"#ed7953\"],[0.7777777777777778,\"#fb9f3a\"],[0.8888888888888888,\"#fdca26\"],[1.0,\"#f0f921\"]],\"type\":\"heatmap\"}],\"heatmapgl\":[{\"colorbar\":{\"outlinewidth\":0,\"ticks\":\"\"},\"colorscale\":[[0.0,\"#0d0887\"],[0.1111111111111111,\"#46039f\"],[0.2222222222222222,\"#7201a8\"],[0.3333333333333333,\"#9c179e\"],[0.4444444444444444,\"#bd3786\"],[0.5555555555555556,\"#d8576b\"],[0.6666666666666666,\"#ed7953\"],[0.7777777777777778,\"#fb9f3a\"],[0.8888888888888888,\"#fdca26\"],[1.0,\"#f0f921\"]],\"type\":\"heatmapgl\"}],\"histogram\":[{\"marker\":{\"pattern\":{\"fillmode\":\"overlay\",\"size\":10,\"solidity\":0.2}},\"type\":\"histogram\"}],\"histogram2d\":[{\"colorbar\":{\"outlinewidth\":0,\"ticks\":\"\"},\"colorscale\":[[0.0,\"#0d0887\"],[0.1111111111111111,\"#46039f\"],[0.2222222222222222,\"#7201a8\"],[0.3333333333333333,\"#9c179e\"],[0.4444444444444444,\"#bd3786\"],[0.5555555555555556,\"#d8576b\"],[0.6666666666666666,\"#ed7953\"],[0.7777777777777778,\"#fb9f3a\"],[0.8888888888888888,\"#fdca26\"],[1.0,\"#f0f921\"]],\"type\":\"histogram2d\"}],\"histogram2dcontour\":[{\"colorbar\":{\"outlinewidth\":0,\"ticks\":\"\"},\"colorscale\":[[0.0,\"#0d0887\"],[0.1111111111111111,\"#46039f\"],[0.2222222222222222,\"#7201a8\"],[0.3333333333333333,\"#9c179e\"],[0.4444444444444444,\"#bd3786\"],[0.5555555555555556,\"#d8576b\"],[0.6666666666666666,\"#ed7953\"],[0.7777777777777778,\"#fb9f3a\"],[0.8888888888888888,\"#fdca26\"],[1.0,\"#f0f921\"]],\"type\":\"histogram2dcontour\"}],\"mesh3d\":[{\"colorbar\":{\"outlinewidth\":0,\"ticks\":\"\"},\"type\":\"mesh3d\"}],\"parcoords\":[{\"line\":{\"colorbar\":{\"outlinewidth\":0,\"ticks\":\"\"}},\"type\":\"parcoords\"}],\"pie\":[{\"automargin\":true,\"type\":\"pie\"}],\"scatter\":[{\"marker\":{\"colorbar\":{\"outlinewidth\":0,\"ticks\":\"\"}},\"type\":\"scatter\"}],\"scatter3d\":[{\"line\":{\"colorbar\":{\"outlinewidth\":0,\"ticks\":\"\"}},\"marker\":{\"colorbar\":{\"outlinewidth\":0,\"ticks\":\"\"}},\"type\":\"scatter3d\"}],\"scattercarpet\":[{\"marker\":{\"colorbar\":{\"outlinewidth\":0,\"ticks\":\"\"}},\"type\":\"scattercarpet\"}],\"scattergeo\":[{\"marker\":{\"colorbar\":{\"outlinewidth\":0,\"ticks\":\"\"}},\"type\":\"scattergeo\"}],\"scattergl\":[{\"marker\":{\"colorbar\":{\"outlinewidth\":0,\"ticks\":\"\"}},\"type\":\"scattergl\"}],\"scattermapbox\":[{\"marker\":{\"colorbar\":{\"outlinewidth\":0,\"ticks\":\"\"}},\"type\":\"scattermapbox\"}],\"scatterpolar\":[{\"marker\":{\"colorbar\":{\"outlinewidth\":0,\"ticks\":\"\"}},\"type\":\"scatterpolar\"}],\"scatterpolargl\":[{\"marker\":{\"colorbar\":{\"outlinewidth\":0,\"ticks\":\"\"}},\"type\":\"scatterpolargl\"}],\"scatterternary\":[{\"marker\":{\"colorbar\":{\"outlinewidth\":0,\"ticks\":\"\"}},\"type\":\"scatterternary\"}],\"surface\":[{\"colorbar\":{\"outlinewidth\":0,\"ticks\":\"\"},\"colorscale\":[[0.0,\"#0d0887\"],[0.1111111111111111,\"#46039f\"],[0.2222222222222222,\"#7201a8\"],[0.3333333333333333,\"#9c179e\"],[0.4444444444444444,\"#bd3786\"],[0.5555555555555556,\"#d8576b\"],[0.6666666666666666,\"#ed7953\"],[0.7777777777777778,\"#fb9f3a\"],[0.8888888888888888,\"#fdca26\"],[1.0,\"#f0f921\"]],\"type\":\"surface\"}],\"table\":[{\"cells\":{\"fill\":{\"color\":\"#EBF0F8\"},\"line\":{\"color\":\"white\"}},\"header\":{\"fill\":{\"color\":\"#C8D4E3\"},\"line\":{\"color\":\"white\"}},\"type\":\"table\"}]},\"layout\":{\"annotationdefaults\":{\"arrowcolor\":\"#2a3f5f\",\"arrowhead\":0,\"arrowwidth\":1},\"autotypenumbers\":\"strict\",\"coloraxis\":{\"colorbar\":{\"outlinewidth\":0,\"ticks\":\"\"}},\"colorscale\":{\"diverging\":[[0,\"#8e0152\"],[0.1,\"#c51b7d\"],[0.2,\"#de77ae\"],[0.3,\"#f1b6da\"],[0.4,\"#fde0ef\"],[0.5,\"#f7f7f7\"],[0.6,\"#e6f5d0\"],[0.7,\"#b8e186\"],[0.8,\"#7fbc41\"],[0.9,\"#4d9221\"],[1,\"#276419\"]],\"sequential\":[[0.0,\"#0d0887\"],[0.1111111111111111,\"#46039f\"],[0.2222222222222222,\"#7201a8\"],[0.3333333333333333,\"#9c179e\"],[0.4444444444444444,\"#bd3786\"],[0.5555555555555556,\"#d8576b\"],[0.6666666666666666,\"#ed7953\"],[0.7777777777777778,\"#fb9f3a\"],[0.8888888888888888,\"#fdca26\"],[1.0,\"#f0f921\"]],\"sequentialminus\":[[0.0,\"#0d0887\"],[0.1111111111111111,\"#46039f\"],[0.2222222222222222,\"#7201a8\"],[0.3333333333333333,\"#9c179e\"],[0.4444444444444444,\"#bd3786\"],[0.5555555555555556,\"#d8576b\"],[0.6666666666666666,\"#ed7953\"],[0.7777777777777778,\"#fb9f3a\"],[0.8888888888888888,\"#fdca26\"],[1.0,\"#f0f921\"]]},\"colorway\":[\"#636efa\",\"#EF553B\",\"#00cc96\",\"#ab63fa\",\"#FFA15A\",\"#19d3f3\",\"#FF6692\",\"#B6E880\",\"#FF97FF\",\"#FECB52\"],\"font\":{\"color\":\"#2a3f5f\"},\"geo\":{\"bgcolor\":\"white\",\"lakecolor\":\"white\",\"landcolor\":\"#E5ECF6\",\"showlakes\":true,\"showland\":true,\"subunitcolor\":\"white\"},\"hoverlabel\":{\"align\":\"left\"},\"hovermode\":\"closest\",\"mapbox\":{\"style\":\"light\"},\"paper_bgcolor\":\"white\",\"plot_bgcolor\":\"#E5ECF6\",\"polar\":{\"angularaxis\":{\"gridcolor\":\"white\",\"linecolor\":\"white\",\"ticks\":\"\"},\"bgcolor\":\"#E5ECF6\",\"radialaxis\":{\"gridcolor\":\"white\",\"linecolor\":\"white\",\"ticks\":\"\"}},\"scene\":{\"xaxis\":{\"backgroundcolor\":\"#E5ECF6\",\"gridcolor\":\"white\",\"gridwidth\":2,\"linecolor\":\"white\",\"showbackground\":true,\"ticks\":\"\",\"zerolinecolor\":\"white\"},\"yaxis\":{\"backgroundcolor\":\"#E5ECF6\",\"gridcolor\":\"white\",\"gridwidth\":2,\"linecolor\":\"white\",\"showbackground\":true,\"ticks\":\"\",\"zerolinecolor\":\"white\"},\"zaxis\":{\"backgroundcolor\":\"#E5ECF6\",\"gridcolor\":\"white\",\"gridwidth\":2,\"linecolor\":\"white\",\"showbackground\":true,\"ticks\":\"\",\"zerolinecolor\":\"white\"}},\"shapedefaults\":{\"line\":{\"color\":\"#2a3f5f\"}},\"ternary\":{\"aaxis\":{\"gridcolor\":\"white\",\"linecolor\":\"white\",\"ticks\":\"\"},\"baxis\":{\"gridcolor\":\"white\",\"linecolor\":\"white\",\"ticks\":\"\"},\"bgcolor\":\"#E5ECF6\",\"caxis\":{\"gridcolor\":\"white\",\"linecolor\":\"white\",\"ticks\":\"\"}},\"title\":{\"x\":0.05},\"xaxis\":{\"automargin\":true,\"gridcolor\":\"white\",\"linecolor\":\"white\",\"ticks\":\"\",\"title\":{\"standoff\":15},\"zerolinecolor\":\"white\",\"zerolinewidth\":2},\"yaxis\":{\"automargin\":true,\"gridcolor\":\"white\",\"linecolor\":\"white\",\"ticks\":\"\",\"title\":{\"standoff\":15},\"zerolinecolor\":\"white\",\"zerolinewidth\":2}}},\"xaxis\":{\"anchor\":\"y\",\"domain\":[0.0,1.0],\"title\":{\"text\":\"Date\"}},\"yaxis\":{\"anchor\":\"x\",\"domain\":[0.0,1.0],\"title\":{\"text\":\"value\"}},\"legend\":{\"title\":{\"text\":\"Country\"},\"tracegroupgap\":0},\"title\":{\"text\":\"Susceptible BreakOut for Omicorn Infection in Argentina\"}},                        {\"responsive\": true}                    ).then(function(){\n",
       "                            \n",
       "var gd = document.getElementById('844b7bf9-0d47-4c56-a1d3-4c76c6886697');\n",
       "var x = new MutationObserver(function (mutations, observer) {{\n",
       "        var display = window.getComputedStyle(gd).display;\n",
       "        if (!display || display === 'none') {{\n",
       "            console.log([gd, 'removed!']);\n",
       "            Plotly.purge(gd);\n",
       "            observer.disconnect();\n",
       "        }}\n",
       "}});\n",
       "\n",
       "// Listen for the removal of the full notebook cells\n",
       "var notebookContainer = gd.closest('#notebook-container');\n",
       "if (notebookContainer) {{\n",
       "    x.observe(notebookContainer, {childList: true});\n",
       "}}\n",
       "\n",
       "// Listen for the clearing of the current output cell\n",
       "var outputEl = gd.closest('.output');\n",
       "if (outputEl) {{\n",
       "    x.observe(outputEl, {childList: true});\n",
       "}}\n",
       "\n",
       "                        })                };                });            </script>        </div>"
      ]
     },
     "metadata": {},
     "output_type": "display_data"
    },
    {
     "data": {
      "text/plain": [
       "<Figure size 2880x2160 with 0 Axes>"
      ]
     },
     "metadata": {},
     "output_type": "display_data"
    }
   ],
   "source": [
    "import plotly.express as px\n",
    "df = merged_data.query(\"Country=='Argentina'\")\n",
    "fig = plt.figure(figsize=[40,30])\n",
    "fig = px.line(df, y= [\"Susceptible_BreakOut_for_Omicorn_Infection\",\"\"], x= \"Date\", color = \"Country\",title='Susceptible BreakOut for Omicorn Infection in Argentina', markers=True)\n",
    "fig.show()\n"
   ]
  },
  {
   "cell_type": "code",
   "execution_count": 91,
   "id": "75535175",
   "metadata": {},
   "outputs": [],
   "source": [
    "import plotly.graph_objects as go\n",
    "\n",
    "fig = go.Figure()\n"
   ]
  },
  {
   "cell_type": "code",
   "execution_count": 95,
   "id": "3d8a9aec",
   "metadata": {},
   "outputs": [
    {
     "data": {
      "application/vnd.plotly.v1+json": {
       "config": {
        "plotlyServerURL": "https://plot.ly"
       },
       "data": [
        {
         "line": {
          "color": "firebrick",
          "width": 4
         },
         "name": "Susceptible BreakOut for Omicorn Infection",
         "type": "scatter",
         "x": [
          "2022-10-13T00:00:00",
          "2022-10-14T00:00:00",
          "2022-10-15T00:00:00",
          "2022-10-16T00:00:00",
          "2022-10-16T00:00:00",
          "2022-10-16T00:00:00"
         ],
         "y": [
          59.9428921205921,
          59.9428921205921,
          59.9428921205921,
          59.9428921205921,
          59.9428921205921,
          59.9428921205921
         ]
        },
        {
         "line": {
          "color": "royalblue",
          "width": 4
         },
         "name": "Susceptible BreakOut for Omicorn Severe Disease",
         "type": "scatter",
         "x": [
          "2022-10-13T00:00:00",
          "2022-10-14T00:00:00",
          "2022-10-15T00:00:00",
          "2022-10-16T00:00:00",
          "2022-10-16T00:00:00",
          "2022-10-16T00:00:00"
         ],
         "y": [
          34.28182620572406,
          34.28182620572406,
          34.28182620572406,
          34.28182620572406,
          34.28182620572406,
          34.28182620572406
         ]
        },
        {
         "line": {
          "color": "firebrick",
          "dash": "dash",
          "width": 4
         },
         "name": "Susceptible BreakOut for Alpha Ancestral Severe Disease",
         "type": "scatter",
         "x": [
          "2022-10-13T00:00:00",
          "2022-10-14T00:00:00",
          "2022-10-15T00:00:00",
          "2022-10-16T00:00:00",
          "2022-10-16T00:00:00",
          "2022-10-16T00:00:00"
         ],
         "y": [
          11.61709994779595,
          11.61709994779595,
          11.61709994779595,
          11.61709994779595,
          11.61709994779595,
          11.61709994779595
         ]
        },
        {
         "line": {
          "color": "royalblue",
          "dash": "dash",
          "width": 4
         },
         "name": "Susceptible BreakOut for Alpha Ancestral Infection",
         "type": "scatter",
         "x": [
          "2022-10-13T00:00:00",
          "2022-10-14T00:00:00",
          "2022-10-15T00:00:00",
          "2022-10-16T00:00:00",
          "2022-10-16T00:00:00",
          "2022-10-16T00:00:00"
         ],
         "y": [
          23.834052979264357,
          23.834052979264357,
          23.834052979264357,
          23.834052979264357,
          23.834052979264357,
          23.834052979264357
         ]
        },
        {
         "line": {
          "color": "firebrick",
          "dash": "dot",
          "width": 4
         },
         "name": "Susceptible BreakOut for Beta Gamma Delta Severe Disease",
         "type": "scatter",
         "x": [
          "2022-10-13T00:00:00",
          "2022-10-14T00:00:00",
          "2022-10-15T00:00:00",
          "2022-10-16T00:00:00",
          "2022-10-16T00:00:00",
          "2022-10-16T00:00:00"
         ],
         "y": [
          12.728222899143574,
          12.728222899143574,
          12.728222899143574,
          12.728222899143574,
          12.728222899143574,
          12.728222899143574
         ]
        },
        {
         "line": {
          "color": "royalblue",
          "dash": "dot",
          "width": 4
         },
         "name": "Susceptible BreakOut for Beta Gamma Delta Infection",
         "type": "scatter",
         "x": [
          "2022-10-13T00:00:00",
          "2022-10-14T00:00:00",
          "2022-10-15T00:00:00",
          "2022-10-16T00:00:00",
          "2022-10-16T00:00:00",
          "2022-10-16T00:00:00"
         ],
         "y": [
          23.301651062414408,
          23.301651062414408,
          23.301651062414408,
          23.301651062414408,
          23.301651062414408,
          23.301651062414408
         ]
        }
       ],
       "layout": {
        "template": {
         "data": {
          "bar": [
           {
            "error_x": {
             "color": "#2a3f5f"
            },
            "error_y": {
             "color": "#2a3f5f"
            },
            "marker": {
             "line": {
              "color": "#E5ECF6",
              "width": 0.5
             },
             "pattern": {
              "fillmode": "overlay",
              "size": 10,
              "solidity": 0.2
             }
            },
            "type": "bar"
           }
          ],
          "barpolar": [
           {
            "marker": {
             "line": {
              "color": "#E5ECF6",
              "width": 0.5
             },
             "pattern": {
              "fillmode": "overlay",
              "size": 10,
              "solidity": 0.2
             }
            },
            "type": "barpolar"
           }
          ],
          "carpet": [
           {
            "aaxis": {
             "endlinecolor": "#2a3f5f",
             "gridcolor": "white",
             "linecolor": "white",
             "minorgridcolor": "white",
             "startlinecolor": "#2a3f5f"
            },
            "baxis": {
             "endlinecolor": "#2a3f5f",
             "gridcolor": "white",
             "linecolor": "white",
             "minorgridcolor": "white",
             "startlinecolor": "#2a3f5f"
            },
            "type": "carpet"
           }
          ],
          "choropleth": [
           {
            "colorbar": {
             "outlinewidth": 0,
             "ticks": ""
            },
            "type": "choropleth"
           }
          ],
          "contour": [
           {
            "colorbar": {
             "outlinewidth": 0,
             "ticks": ""
            },
            "colorscale": [
             [
              0,
              "#0d0887"
             ],
             [
              0.1111111111111111,
              "#46039f"
             ],
             [
              0.2222222222222222,
              "#7201a8"
             ],
             [
              0.3333333333333333,
              "#9c179e"
             ],
             [
              0.4444444444444444,
              "#bd3786"
             ],
             [
              0.5555555555555556,
              "#d8576b"
             ],
             [
              0.6666666666666666,
              "#ed7953"
             ],
             [
              0.7777777777777778,
              "#fb9f3a"
             ],
             [
              0.8888888888888888,
              "#fdca26"
             ],
             [
              1,
              "#f0f921"
             ]
            ],
            "type": "contour"
           }
          ],
          "contourcarpet": [
           {
            "colorbar": {
             "outlinewidth": 0,
             "ticks": ""
            },
            "type": "contourcarpet"
           }
          ],
          "heatmap": [
           {
            "colorbar": {
             "outlinewidth": 0,
             "ticks": ""
            },
            "colorscale": [
             [
              0,
              "#0d0887"
             ],
             [
              0.1111111111111111,
              "#46039f"
             ],
             [
              0.2222222222222222,
              "#7201a8"
             ],
             [
              0.3333333333333333,
              "#9c179e"
             ],
             [
              0.4444444444444444,
              "#bd3786"
             ],
             [
              0.5555555555555556,
              "#d8576b"
             ],
             [
              0.6666666666666666,
              "#ed7953"
             ],
             [
              0.7777777777777778,
              "#fb9f3a"
             ],
             [
              0.8888888888888888,
              "#fdca26"
             ],
             [
              1,
              "#f0f921"
             ]
            ],
            "type": "heatmap"
           }
          ],
          "heatmapgl": [
           {
            "colorbar": {
             "outlinewidth": 0,
             "ticks": ""
            },
            "colorscale": [
             [
              0,
              "#0d0887"
             ],
             [
              0.1111111111111111,
              "#46039f"
             ],
             [
              0.2222222222222222,
              "#7201a8"
             ],
             [
              0.3333333333333333,
              "#9c179e"
             ],
             [
              0.4444444444444444,
              "#bd3786"
             ],
             [
              0.5555555555555556,
              "#d8576b"
             ],
             [
              0.6666666666666666,
              "#ed7953"
             ],
             [
              0.7777777777777778,
              "#fb9f3a"
             ],
             [
              0.8888888888888888,
              "#fdca26"
             ],
             [
              1,
              "#f0f921"
             ]
            ],
            "type": "heatmapgl"
           }
          ],
          "histogram": [
           {
            "marker": {
             "pattern": {
              "fillmode": "overlay",
              "size": 10,
              "solidity": 0.2
             }
            },
            "type": "histogram"
           }
          ],
          "histogram2d": [
           {
            "colorbar": {
             "outlinewidth": 0,
             "ticks": ""
            },
            "colorscale": [
             [
              0,
              "#0d0887"
             ],
             [
              0.1111111111111111,
              "#46039f"
             ],
             [
              0.2222222222222222,
              "#7201a8"
             ],
             [
              0.3333333333333333,
              "#9c179e"
             ],
             [
              0.4444444444444444,
              "#bd3786"
             ],
             [
              0.5555555555555556,
              "#d8576b"
             ],
             [
              0.6666666666666666,
              "#ed7953"
             ],
             [
              0.7777777777777778,
              "#fb9f3a"
             ],
             [
              0.8888888888888888,
              "#fdca26"
             ],
             [
              1,
              "#f0f921"
             ]
            ],
            "type": "histogram2d"
           }
          ],
          "histogram2dcontour": [
           {
            "colorbar": {
             "outlinewidth": 0,
             "ticks": ""
            },
            "colorscale": [
             [
              0,
              "#0d0887"
             ],
             [
              0.1111111111111111,
              "#46039f"
             ],
             [
              0.2222222222222222,
              "#7201a8"
             ],
             [
              0.3333333333333333,
              "#9c179e"
             ],
             [
              0.4444444444444444,
              "#bd3786"
             ],
             [
              0.5555555555555556,
              "#d8576b"
             ],
             [
              0.6666666666666666,
              "#ed7953"
             ],
             [
              0.7777777777777778,
              "#fb9f3a"
             ],
             [
              0.8888888888888888,
              "#fdca26"
             ],
             [
              1,
              "#f0f921"
             ]
            ],
            "type": "histogram2dcontour"
           }
          ],
          "mesh3d": [
           {
            "colorbar": {
             "outlinewidth": 0,
             "ticks": ""
            },
            "type": "mesh3d"
           }
          ],
          "parcoords": [
           {
            "line": {
             "colorbar": {
              "outlinewidth": 0,
              "ticks": ""
             }
            },
            "type": "parcoords"
           }
          ],
          "pie": [
           {
            "automargin": true,
            "type": "pie"
           }
          ],
          "scatter": [
           {
            "marker": {
             "colorbar": {
              "outlinewidth": 0,
              "ticks": ""
             }
            },
            "type": "scatter"
           }
          ],
          "scatter3d": [
           {
            "line": {
             "colorbar": {
              "outlinewidth": 0,
              "ticks": ""
             }
            },
            "marker": {
             "colorbar": {
              "outlinewidth": 0,
              "ticks": ""
             }
            },
            "type": "scatter3d"
           }
          ],
          "scattercarpet": [
           {
            "marker": {
             "colorbar": {
              "outlinewidth": 0,
              "ticks": ""
             }
            },
            "type": "scattercarpet"
           }
          ],
          "scattergeo": [
           {
            "marker": {
             "colorbar": {
              "outlinewidth": 0,
              "ticks": ""
             }
            },
            "type": "scattergeo"
           }
          ],
          "scattergl": [
           {
            "marker": {
             "colorbar": {
              "outlinewidth": 0,
              "ticks": ""
             }
            },
            "type": "scattergl"
           }
          ],
          "scattermapbox": [
           {
            "marker": {
             "colorbar": {
              "outlinewidth": 0,
              "ticks": ""
             }
            },
            "type": "scattermapbox"
           }
          ],
          "scatterpolar": [
           {
            "marker": {
             "colorbar": {
              "outlinewidth": 0,
              "ticks": ""
             }
            },
            "type": "scatterpolar"
           }
          ],
          "scatterpolargl": [
           {
            "marker": {
             "colorbar": {
              "outlinewidth": 0,
              "ticks": ""
             }
            },
            "type": "scatterpolargl"
           }
          ],
          "scatterternary": [
           {
            "marker": {
             "colorbar": {
              "outlinewidth": 0,
              "ticks": ""
             }
            },
            "type": "scatterternary"
           }
          ],
          "surface": [
           {
            "colorbar": {
             "outlinewidth": 0,
             "ticks": ""
            },
            "colorscale": [
             [
              0,
              "#0d0887"
             ],
             [
              0.1111111111111111,
              "#46039f"
             ],
             [
              0.2222222222222222,
              "#7201a8"
             ],
             [
              0.3333333333333333,
              "#9c179e"
             ],
             [
              0.4444444444444444,
              "#bd3786"
             ],
             [
              0.5555555555555556,
              "#d8576b"
             ],
             [
              0.6666666666666666,
              "#ed7953"
             ],
             [
              0.7777777777777778,
              "#fb9f3a"
             ],
             [
              0.8888888888888888,
              "#fdca26"
             ],
             [
              1,
              "#f0f921"
             ]
            ],
            "type": "surface"
           }
          ],
          "table": [
           {
            "cells": {
             "fill": {
              "color": "#EBF0F8"
             },
             "line": {
              "color": "white"
             }
            },
            "header": {
             "fill": {
              "color": "#C8D4E3"
             },
             "line": {
              "color": "white"
             }
            },
            "type": "table"
           }
          ]
         },
         "layout": {
          "annotationdefaults": {
           "arrowcolor": "#2a3f5f",
           "arrowhead": 0,
           "arrowwidth": 1
          },
          "autotypenumbers": "strict",
          "coloraxis": {
           "colorbar": {
            "outlinewidth": 0,
            "ticks": ""
           }
          },
          "colorscale": {
           "diverging": [
            [
             0,
             "#8e0152"
            ],
            [
             0.1,
             "#c51b7d"
            ],
            [
             0.2,
             "#de77ae"
            ],
            [
             0.3,
             "#f1b6da"
            ],
            [
             0.4,
             "#fde0ef"
            ],
            [
             0.5,
             "#f7f7f7"
            ],
            [
             0.6,
             "#e6f5d0"
            ],
            [
             0.7,
             "#b8e186"
            ],
            [
             0.8,
             "#7fbc41"
            ],
            [
             0.9,
             "#4d9221"
            ],
            [
             1,
             "#276419"
            ]
           ],
           "sequential": [
            [
             0,
             "#0d0887"
            ],
            [
             0.1111111111111111,
             "#46039f"
            ],
            [
             0.2222222222222222,
             "#7201a8"
            ],
            [
             0.3333333333333333,
             "#9c179e"
            ],
            [
             0.4444444444444444,
             "#bd3786"
            ],
            [
             0.5555555555555556,
             "#d8576b"
            ],
            [
             0.6666666666666666,
             "#ed7953"
            ],
            [
             0.7777777777777778,
             "#fb9f3a"
            ],
            [
             0.8888888888888888,
             "#fdca26"
            ],
            [
             1,
             "#f0f921"
            ]
           ],
           "sequentialminus": [
            [
             0,
             "#0d0887"
            ],
            [
             0.1111111111111111,
             "#46039f"
            ],
            [
             0.2222222222222222,
             "#7201a8"
            ],
            [
             0.3333333333333333,
             "#9c179e"
            ],
            [
             0.4444444444444444,
             "#bd3786"
            ],
            [
             0.5555555555555556,
             "#d8576b"
            ],
            [
             0.6666666666666666,
             "#ed7953"
            ],
            [
             0.7777777777777778,
             "#fb9f3a"
            ],
            [
             0.8888888888888888,
             "#fdca26"
            ],
            [
             1,
             "#f0f921"
            ]
           ]
          },
          "colorway": [
           "#636efa",
           "#EF553B",
           "#00cc96",
           "#ab63fa",
           "#FFA15A",
           "#19d3f3",
           "#FF6692",
           "#B6E880",
           "#FF97FF",
           "#FECB52"
          ],
          "font": {
           "color": "#2a3f5f"
          },
          "geo": {
           "bgcolor": "white",
           "lakecolor": "white",
           "landcolor": "#E5ECF6",
           "showlakes": true,
           "showland": true,
           "subunitcolor": "white"
          },
          "hoverlabel": {
           "align": "left"
          },
          "hovermode": "closest",
          "mapbox": {
           "style": "light"
          },
          "paper_bgcolor": "white",
          "plot_bgcolor": "#E5ECF6",
          "polar": {
           "angularaxis": {
            "gridcolor": "white",
            "linecolor": "white",
            "ticks": ""
           },
           "bgcolor": "#E5ECF6",
           "radialaxis": {
            "gridcolor": "white",
            "linecolor": "white",
            "ticks": ""
           }
          },
          "scene": {
           "xaxis": {
            "backgroundcolor": "#E5ECF6",
            "gridcolor": "white",
            "gridwidth": 2,
            "linecolor": "white",
            "showbackground": true,
            "ticks": "",
            "zerolinecolor": "white"
           },
           "yaxis": {
            "backgroundcolor": "#E5ECF6",
            "gridcolor": "white",
            "gridwidth": 2,
            "linecolor": "white",
            "showbackground": true,
            "ticks": "",
            "zerolinecolor": "white"
           },
           "zaxis": {
            "backgroundcolor": "#E5ECF6",
            "gridcolor": "white",
            "gridwidth": 2,
            "linecolor": "white",
            "showbackground": true,
            "ticks": "",
            "zerolinecolor": "white"
           }
          },
          "shapedefaults": {
           "line": {
            "color": "#2a3f5f"
           }
          },
          "ternary": {
           "aaxis": {
            "gridcolor": "white",
            "linecolor": "white",
            "ticks": ""
           },
           "baxis": {
            "gridcolor": "white",
            "linecolor": "white",
            "ticks": ""
           },
           "bgcolor": "#E5ECF6",
           "caxis": {
            "gridcolor": "white",
            "linecolor": "white",
            "ticks": ""
           }
          },
          "title": {
           "x": 0.05
          },
          "xaxis": {
           "automargin": true,
           "gridcolor": "white",
           "linecolor": "white",
           "ticks": "",
           "title": {
            "standoff": 15
           },
           "zerolinecolor": "white",
           "zerolinewidth": 2
          },
          "yaxis": {
           "automargin": true,
           "gridcolor": "white",
           "linecolor": "white",
           "ticks": "",
           "title": {
            "standoff": 15
           },
           "zerolinecolor": "white",
           "zerolinewidth": 2
          }
         }
        },
        "title": {
         "text": "Susceptible BreakOut in Argentina"
        },
        "xaxis": {
         "title": {
          "text": "Date"
         }
        },
        "yaxis": {
         "title": {
          "text": "Breakout"
         }
        }
       }
      },
      "text/html": [
       "<div>                            <div id=\"743c3d44-181c-4ea0-998e-7d28a6459b8f\" class=\"plotly-graph-div\" style=\"height:525px; width:100%;\"></div>            <script type=\"text/javascript\">                require([\"plotly\"], function(Plotly) {                    window.PLOTLYENV=window.PLOTLYENV || {};                                    if (document.getElementById(\"743c3d44-181c-4ea0-998e-7d28a6459b8f\")) {                    Plotly.newPlot(                        \"743c3d44-181c-4ea0-998e-7d28a6459b8f\",                        [{\"line\":{\"color\":\"firebrick\",\"width\":4},\"name\":\"Susceptible BreakOut for Omicorn Infection\",\"x\":[\"2022-10-13T00:00:00\",\"2022-10-14T00:00:00\",\"2022-10-15T00:00:00\",\"2022-10-16T00:00:00\",\"2022-10-16T00:00:00\",\"2022-10-16T00:00:00\"],\"y\":[59.9428921205921,59.9428921205921,59.9428921205921,59.9428921205921,59.9428921205921,59.9428921205921],\"type\":\"scatter\"},{\"line\":{\"color\":\"royalblue\",\"width\":4},\"name\":\"Susceptible BreakOut for Omicorn Severe Disease\",\"x\":[\"2022-10-13T00:00:00\",\"2022-10-14T00:00:00\",\"2022-10-15T00:00:00\",\"2022-10-16T00:00:00\",\"2022-10-16T00:00:00\",\"2022-10-16T00:00:00\"],\"y\":[34.28182620572406,34.28182620572406,34.28182620572406,34.28182620572406,34.28182620572406,34.28182620572406],\"type\":\"scatter\"},{\"line\":{\"color\":\"firebrick\",\"dash\":\"dash\",\"width\":4},\"name\":\"Susceptible BreakOut for Alpha Ancestral Severe Disease\",\"x\":[\"2022-10-13T00:00:00\",\"2022-10-14T00:00:00\",\"2022-10-15T00:00:00\",\"2022-10-16T00:00:00\",\"2022-10-16T00:00:00\",\"2022-10-16T00:00:00\"],\"y\":[11.61709994779595,11.61709994779595,11.61709994779595,11.61709994779595,11.61709994779595,11.61709994779595],\"type\":\"scatter\"},{\"line\":{\"color\":\"royalblue\",\"dash\":\"dash\",\"width\":4},\"name\":\"Susceptible BreakOut for Alpha Ancestral Infection\",\"x\":[\"2022-10-13T00:00:00\",\"2022-10-14T00:00:00\",\"2022-10-15T00:00:00\",\"2022-10-16T00:00:00\",\"2022-10-16T00:00:00\",\"2022-10-16T00:00:00\"],\"y\":[23.834052979264357,23.834052979264357,23.834052979264357,23.834052979264357,23.834052979264357,23.834052979264357],\"type\":\"scatter\"},{\"line\":{\"color\":\"firebrick\",\"dash\":\"dot\",\"width\":4},\"name\":\"Susceptible BreakOut for Beta Gamma Delta Severe Disease\",\"x\":[\"2022-10-13T00:00:00\",\"2022-10-14T00:00:00\",\"2022-10-15T00:00:00\",\"2022-10-16T00:00:00\",\"2022-10-16T00:00:00\",\"2022-10-16T00:00:00\"],\"y\":[12.728222899143574,12.728222899143574,12.728222899143574,12.728222899143574,12.728222899143574,12.728222899143574],\"type\":\"scatter\"},{\"line\":{\"color\":\"royalblue\",\"dash\":\"dot\",\"width\":4},\"name\":\"Susceptible BreakOut for Beta Gamma Delta Infection\",\"x\":[\"2022-10-13T00:00:00\",\"2022-10-14T00:00:00\",\"2022-10-15T00:00:00\",\"2022-10-16T00:00:00\",\"2022-10-16T00:00:00\",\"2022-10-16T00:00:00\"],\"y\":[23.301651062414408,23.301651062414408,23.301651062414408,23.301651062414408,23.301651062414408,23.301651062414408],\"type\":\"scatter\"}],                        {\"template\":{\"data\":{\"bar\":[{\"error_x\":{\"color\":\"#2a3f5f\"},\"error_y\":{\"color\":\"#2a3f5f\"},\"marker\":{\"line\":{\"color\":\"#E5ECF6\",\"width\":0.5},\"pattern\":{\"fillmode\":\"overlay\",\"size\":10,\"solidity\":0.2}},\"type\":\"bar\"}],\"barpolar\":[{\"marker\":{\"line\":{\"color\":\"#E5ECF6\",\"width\":0.5},\"pattern\":{\"fillmode\":\"overlay\",\"size\":10,\"solidity\":0.2}},\"type\":\"barpolar\"}],\"carpet\":[{\"aaxis\":{\"endlinecolor\":\"#2a3f5f\",\"gridcolor\":\"white\",\"linecolor\":\"white\",\"minorgridcolor\":\"white\",\"startlinecolor\":\"#2a3f5f\"},\"baxis\":{\"endlinecolor\":\"#2a3f5f\",\"gridcolor\":\"white\",\"linecolor\":\"white\",\"minorgridcolor\":\"white\",\"startlinecolor\":\"#2a3f5f\"},\"type\":\"carpet\"}],\"choropleth\":[{\"colorbar\":{\"outlinewidth\":0,\"ticks\":\"\"},\"type\":\"choropleth\"}],\"contour\":[{\"colorbar\":{\"outlinewidth\":0,\"ticks\":\"\"},\"colorscale\":[[0.0,\"#0d0887\"],[0.1111111111111111,\"#46039f\"],[0.2222222222222222,\"#7201a8\"],[0.3333333333333333,\"#9c179e\"],[0.4444444444444444,\"#bd3786\"],[0.5555555555555556,\"#d8576b\"],[0.6666666666666666,\"#ed7953\"],[0.7777777777777778,\"#fb9f3a\"],[0.8888888888888888,\"#fdca26\"],[1.0,\"#f0f921\"]],\"type\":\"contour\"}],\"contourcarpet\":[{\"colorbar\":{\"outlinewidth\":0,\"ticks\":\"\"},\"type\":\"contourcarpet\"}],\"heatmap\":[{\"colorbar\":{\"outlinewidth\":0,\"ticks\":\"\"},\"colorscale\":[[0.0,\"#0d0887\"],[0.1111111111111111,\"#46039f\"],[0.2222222222222222,\"#7201a8\"],[0.3333333333333333,\"#9c179e\"],[0.4444444444444444,\"#bd3786\"],[0.5555555555555556,\"#d8576b\"],[0.6666666666666666,\"#ed7953\"],[0.7777777777777778,\"#fb9f3a\"],[0.8888888888888888,\"#fdca26\"],[1.0,\"#f0f921\"]],\"type\":\"heatmap\"}],\"heatmapgl\":[{\"colorbar\":{\"outlinewidth\":0,\"ticks\":\"\"},\"colorscale\":[[0.0,\"#0d0887\"],[0.1111111111111111,\"#46039f\"],[0.2222222222222222,\"#7201a8\"],[0.3333333333333333,\"#9c179e\"],[0.4444444444444444,\"#bd3786\"],[0.5555555555555556,\"#d8576b\"],[0.6666666666666666,\"#ed7953\"],[0.7777777777777778,\"#fb9f3a\"],[0.8888888888888888,\"#fdca26\"],[1.0,\"#f0f921\"]],\"type\":\"heatmapgl\"}],\"histogram\":[{\"marker\":{\"pattern\":{\"fillmode\":\"overlay\",\"size\":10,\"solidity\":0.2}},\"type\":\"histogram\"}],\"histogram2d\":[{\"colorbar\":{\"outlinewidth\":0,\"ticks\":\"\"},\"colorscale\":[[0.0,\"#0d0887\"],[0.1111111111111111,\"#46039f\"],[0.2222222222222222,\"#7201a8\"],[0.3333333333333333,\"#9c179e\"],[0.4444444444444444,\"#bd3786\"],[0.5555555555555556,\"#d8576b\"],[0.6666666666666666,\"#ed7953\"],[0.7777777777777778,\"#fb9f3a\"],[0.8888888888888888,\"#fdca26\"],[1.0,\"#f0f921\"]],\"type\":\"histogram2d\"}],\"histogram2dcontour\":[{\"colorbar\":{\"outlinewidth\":0,\"ticks\":\"\"},\"colorscale\":[[0.0,\"#0d0887\"],[0.1111111111111111,\"#46039f\"],[0.2222222222222222,\"#7201a8\"],[0.3333333333333333,\"#9c179e\"],[0.4444444444444444,\"#bd3786\"],[0.5555555555555556,\"#d8576b\"],[0.6666666666666666,\"#ed7953\"],[0.7777777777777778,\"#fb9f3a\"],[0.8888888888888888,\"#fdca26\"],[1.0,\"#f0f921\"]],\"type\":\"histogram2dcontour\"}],\"mesh3d\":[{\"colorbar\":{\"outlinewidth\":0,\"ticks\":\"\"},\"type\":\"mesh3d\"}],\"parcoords\":[{\"line\":{\"colorbar\":{\"outlinewidth\":0,\"ticks\":\"\"}},\"type\":\"parcoords\"}],\"pie\":[{\"automargin\":true,\"type\":\"pie\"}],\"scatter\":[{\"marker\":{\"colorbar\":{\"outlinewidth\":0,\"ticks\":\"\"}},\"type\":\"scatter\"}],\"scatter3d\":[{\"line\":{\"colorbar\":{\"outlinewidth\":0,\"ticks\":\"\"}},\"marker\":{\"colorbar\":{\"outlinewidth\":0,\"ticks\":\"\"}},\"type\":\"scatter3d\"}],\"scattercarpet\":[{\"marker\":{\"colorbar\":{\"outlinewidth\":0,\"ticks\":\"\"}},\"type\":\"scattercarpet\"}],\"scattergeo\":[{\"marker\":{\"colorbar\":{\"outlinewidth\":0,\"ticks\":\"\"}},\"type\":\"scattergeo\"}],\"scattergl\":[{\"marker\":{\"colorbar\":{\"outlinewidth\":0,\"ticks\":\"\"}},\"type\":\"scattergl\"}],\"scattermapbox\":[{\"marker\":{\"colorbar\":{\"outlinewidth\":0,\"ticks\":\"\"}},\"type\":\"scattermapbox\"}],\"scatterpolar\":[{\"marker\":{\"colorbar\":{\"outlinewidth\":0,\"ticks\":\"\"}},\"type\":\"scatterpolar\"}],\"scatterpolargl\":[{\"marker\":{\"colorbar\":{\"outlinewidth\":0,\"ticks\":\"\"}},\"type\":\"scatterpolargl\"}],\"scatterternary\":[{\"marker\":{\"colorbar\":{\"outlinewidth\":0,\"ticks\":\"\"}},\"type\":\"scatterternary\"}],\"surface\":[{\"colorbar\":{\"outlinewidth\":0,\"ticks\":\"\"},\"colorscale\":[[0.0,\"#0d0887\"],[0.1111111111111111,\"#46039f\"],[0.2222222222222222,\"#7201a8\"],[0.3333333333333333,\"#9c179e\"],[0.4444444444444444,\"#bd3786\"],[0.5555555555555556,\"#d8576b\"],[0.6666666666666666,\"#ed7953\"],[0.7777777777777778,\"#fb9f3a\"],[0.8888888888888888,\"#fdca26\"],[1.0,\"#f0f921\"]],\"type\":\"surface\"}],\"table\":[{\"cells\":{\"fill\":{\"color\":\"#EBF0F8\"},\"line\":{\"color\":\"white\"}},\"header\":{\"fill\":{\"color\":\"#C8D4E3\"},\"line\":{\"color\":\"white\"}},\"type\":\"table\"}]},\"layout\":{\"annotationdefaults\":{\"arrowcolor\":\"#2a3f5f\",\"arrowhead\":0,\"arrowwidth\":1},\"autotypenumbers\":\"strict\",\"coloraxis\":{\"colorbar\":{\"outlinewidth\":0,\"ticks\":\"\"}},\"colorscale\":{\"diverging\":[[0,\"#8e0152\"],[0.1,\"#c51b7d\"],[0.2,\"#de77ae\"],[0.3,\"#f1b6da\"],[0.4,\"#fde0ef\"],[0.5,\"#f7f7f7\"],[0.6,\"#e6f5d0\"],[0.7,\"#b8e186\"],[0.8,\"#7fbc41\"],[0.9,\"#4d9221\"],[1,\"#276419\"]],\"sequential\":[[0.0,\"#0d0887\"],[0.1111111111111111,\"#46039f\"],[0.2222222222222222,\"#7201a8\"],[0.3333333333333333,\"#9c179e\"],[0.4444444444444444,\"#bd3786\"],[0.5555555555555556,\"#d8576b\"],[0.6666666666666666,\"#ed7953\"],[0.7777777777777778,\"#fb9f3a\"],[0.8888888888888888,\"#fdca26\"],[1.0,\"#f0f921\"]],\"sequentialminus\":[[0.0,\"#0d0887\"],[0.1111111111111111,\"#46039f\"],[0.2222222222222222,\"#7201a8\"],[0.3333333333333333,\"#9c179e\"],[0.4444444444444444,\"#bd3786\"],[0.5555555555555556,\"#d8576b\"],[0.6666666666666666,\"#ed7953\"],[0.7777777777777778,\"#fb9f3a\"],[0.8888888888888888,\"#fdca26\"],[1.0,\"#f0f921\"]]},\"colorway\":[\"#636efa\",\"#EF553B\",\"#00cc96\",\"#ab63fa\",\"#FFA15A\",\"#19d3f3\",\"#FF6692\",\"#B6E880\",\"#FF97FF\",\"#FECB52\"],\"font\":{\"color\":\"#2a3f5f\"},\"geo\":{\"bgcolor\":\"white\",\"lakecolor\":\"white\",\"landcolor\":\"#E5ECF6\",\"showlakes\":true,\"showland\":true,\"subunitcolor\":\"white\"},\"hoverlabel\":{\"align\":\"left\"},\"hovermode\":\"closest\",\"mapbox\":{\"style\":\"light\"},\"paper_bgcolor\":\"white\",\"plot_bgcolor\":\"#E5ECF6\",\"polar\":{\"angularaxis\":{\"gridcolor\":\"white\",\"linecolor\":\"white\",\"ticks\":\"\"},\"bgcolor\":\"#E5ECF6\",\"radialaxis\":{\"gridcolor\":\"white\",\"linecolor\":\"white\",\"ticks\":\"\"}},\"scene\":{\"xaxis\":{\"backgroundcolor\":\"#E5ECF6\",\"gridcolor\":\"white\",\"gridwidth\":2,\"linecolor\":\"white\",\"showbackground\":true,\"ticks\":\"\",\"zerolinecolor\":\"white\"},\"yaxis\":{\"backgroundcolor\":\"#E5ECF6\",\"gridcolor\":\"white\",\"gridwidth\":2,\"linecolor\":\"white\",\"showbackground\":true,\"ticks\":\"\",\"zerolinecolor\":\"white\"},\"zaxis\":{\"backgroundcolor\":\"#E5ECF6\",\"gridcolor\":\"white\",\"gridwidth\":2,\"linecolor\":\"white\",\"showbackground\":true,\"ticks\":\"\",\"zerolinecolor\":\"white\"}},\"shapedefaults\":{\"line\":{\"color\":\"#2a3f5f\"}},\"ternary\":{\"aaxis\":{\"gridcolor\":\"white\",\"linecolor\":\"white\",\"ticks\":\"\"},\"baxis\":{\"gridcolor\":\"white\",\"linecolor\":\"white\",\"ticks\":\"\"},\"bgcolor\":\"#E5ECF6\",\"caxis\":{\"gridcolor\":\"white\",\"linecolor\":\"white\",\"ticks\":\"\"}},\"title\":{\"x\":0.05},\"xaxis\":{\"automargin\":true,\"gridcolor\":\"white\",\"linecolor\":\"white\",\"ticks\":\"\",\"title\":{\"standoff\":15},\"zerolinecolor\":\"white\",\"zerolinewidth\":2},\"yaxis\":{\"automargin\":true,\"gridcolor\":\"white\",\"linecolor\":\"white\",\"ticks\":\"\",\"title\":{\"standoff\":15},\"zerolinecolor\":\"white\",\"zerolinewidth\":2}}},\"title\":{\"text\":\"Susceptible BreakOut in Argentina\"},\"xaxis\":{\"title\":{\"text\":\"Date\"}},\"yaxis\":{\"title\":{\"text\":\"Breakout\"}}},                        {\"responsive\": true}                    ).then(function(){\n",
       "                            \n",
       "var gd = document.getElementById('743c3d44-181c-4ea0-998e-7d28a6459b8f');\n",
       "var x = new MutationObserver(function (mutations, observer) {{\n",
       "        var display = window.getComputedStyle(gd).display;\n",
       "        if (!display || display === 'none') {{\n",
       "            console.log([gd, 'removed!']);\n",
       "            Plotly.purge(gd);\n",
       "            observer.disconnect();\n",
       "        }}\n",
       "}});\n",
       "\n",
       "// Listen for the removal of the full notebook cells\n",
       "var notebookContainer = gd.closest('#notebook-container');\n",
       "if (notebookContainer) {{\n",
       "    x.observe(notebookContainer, {childList: true});\n",
       "}}\n",
       "\n",
       "// Listen for the clearing of the current output cell\n",
       "var outputEl = gd.closest('.output');\n",
       "if (outputEl) {{\n",
       "    x.observe(outputEl, {childList: true});\n",
       "}}\n",
       "\n",
       "                        })                };                });            </script>        </div>"
      ]
     },
     "metadata": {},
     "output_type": "display_data"
    }
   ],
   "source": [
    "import plotly.graph_objects as go\n",
    "\n",
    "# Add data\n",
    "# month = ['January', 'February', 'March', 'April', 'May', 'June', 'July',\n",
    "#          'August', 'September', 'October', 'November', 'December']\n",
    "# high_2000 = [32.5, 37.6, 49.9, 53.0, 69.1, 75.4, 76.5, 76.6, 70.7, 60.6, 45.1, 29.3]\n",
    "# low_2000 = [13.8, 22.3, 32.5, 37.2, 49.9, 56.1, 57.7, 58.3, 51.2, 42.8, 31.6, 15.9]\n",
    "# high_2007 = [36.5, 26.6, 43.6, 52.3, 71.5, 81.4, 80.5, 82.2, 76.0, 67.3, 46.1, 35.0]\n",
    "# low_2007 = [23.6, 14.0, 27.0, 36.8, 47.6, 57.7, 58.9, 61.2, 53.3, 48.5, 31.0, 23.6]\n",
    "# high_2014 = [28.8, 28.5, 37.0, 56.8, 69.7, 79.7, 78.5, 77.8, 74.1, 62.6, 45.3, 39.9]\n",
    "# low_2014 = [12.7, 14.3, 18.6, 35.5, 49.9, 58.0, 60.0, 58.6, 51.7, 45.2, 32.2, 29.1]\n",
    "\n",
    "df = merged_data.query(\"Country=='Argentina'\")\n",
    "\n",
    "\n",
    "fig = go.Figure()\n",
    "# Create and style traces\n",
    "fig.add_trace(go.Scatter(x=df['Date'], y=df['Susceptible_BreakOut_for_Omicorn_Infection'], name='Susceptible BreakOut for Omicorn Infection',\n",
    "                         line=dict(color='firebrick', width=4)))\n",
    "\n",
    "fig.add_trace(go.Scatter(x=df['Date'], y=df['Susceptible_BreakOut_for_Omicorn_Severe_Disease'], name = 'Susceptible BreakOut for Omicorn Severe Disease',\n",
    "                         line=dict(color='royalblue', width=4)))\n",
    "\n",
    "fig.add_trace(go.Scatter(x=df['Date'], y=df['Susceptible_BreakOut_for_Alpha_Ancestral_Severe_Disease'], name='Susceptible BreakOut for Alpha Ancestral Severe Disease',\n",
    "                         line=dict(color='firebrick', width=4,\n",
    "                              dash='dash') # dash options include 'dash', 'dot', and 'dashdot'\n",
    "))\n",
    "fig.add_trace(go.Scatter(x=df['Date'], y=df['Susceptible_BreakOut_for_Alpha_Ancestral_Infection'], name='Susceptible BreakOut for Alpha Ancestral Infection',\n",
    "                         line = dict(color='royalblue', width=4, dash='dash')))\n",
    "\n",
    "fig.add_trace(go.Scatter(x=df['Date'], y=df['Susceptible_BreakOut_for_Beta_Gamma_Delta_Severe_Disease'], name='Susceptible BreakOut for Beta Gamma Delta Severe Disease',\n",
    "                         line = dict(color='firebrick', width=4, dash='dot')))\n",
    "\n",
    "fig.add_trace(go.Scatter(x=df['Date'], y=df['Susceptible_BreakOut_for_Beta_Gamma_Delta_Infection'], name='Susceptible BreakOut for Beta Gamma Delta Infection',\n",
    "                         line=dict(color='royalblue', width=4, dash='dot')))\n",
    "\n",
    "# Edit the layout\n",
    "fig.update_layout(title='Susceptible BreakOut in Argentina',\n",
    "                   xaxis_title='Date',\n",
    "                   yaxis_title='Breakout')\n",
    "\n",
    "\n",
    "fig.show()\n"
   ]
  },
  {
   "cell_type": "code",
   "execution_count": 97,
   "id": "5bd9d299",
   "metadata": {},
   "outputs": [
    {
     "data": {
      "application/vnd.plotly.v1+json": {
       "config": {
        "plotlyServerURL": "https://plot.ly"
       },
       "data": [
        {
         "alignmentgroup": "True",
         "hovertemplate": "variable=Susceptible_BreakOut_for_Omicorn_Severe_Disease<br>value=%{x}<br>count=%{y}<extra></extra>",
         "legendgroup": "Susceptible_BreakOut_for_Omicorn_Severe_Disease",
         "marker": {
          "color": "#636efa",
          "pattern": {
           "shape": ""
          }
         },
         "name": "Susceptible_BreakOut_for_Omicorn_Severe_Disease",
         "offsetgroup": "Susceptible_BreakOut_for_Omicorn_Severe_Disease",
         "orientation": "v",
         "showlegend": true,
         "textposition": "auto",
         "type": "bar",
         "x": [
          34.28182620572406,
          34.28182620572406,
          34.28182620572406,
          34.28182620572406,
          34.28182620572406,
          34.28182620572406
         ],
         "xaxis": "x",
         "y": [
          1,
          1,
          1,
          1,
          1,
          1
         ],
         "yaxis": "y"
        },
        {
         "alignmentgroup": "True",
         "hovertemplate": "variable=Susceptible_BreakOut_for_Omicorn_Infection<br>value=%{x}<br>count=%{y}<extra></extra>",
         "legendgroup": "Susceptible_BreakOut_for_Omicorn_Infection",
         "marker": {
          "color": "#EF553B",
          "pattern": {
           "shape": ""
          }
         },
         "name": "Susceptible_BreakOut_for_Omicorn_Infection",
         "offsetgroup": "Susceptible_BreakOut_for_Omicorn_Infection",
         "orientation": "v",
         "showlegend": true,
         "textposition": "auto",
         "type": "bar",
         "x": [
          59.9428921205921,
          59.9428921205921,
          59.9428921205921,
          59.9428921205921,
          59.9428921205921,
          59.9428921205921
         ],
         "xaxis": "x",
         "y": [
          1,
          1,
          1,
          1,
          1,
          1
         ],
         "yaxis": "y"
        }
       ],
       "layout": {
        "barmode": "relative",
        "legend": {
         "title": {
          "text": "variable"
         },
         "tracegroupgap": 0
        },
        "margin": {
         "t": 60
        },
        "template": {
         "data": {
          "bar": [
           {
            "error_x": {
             "color": "#2a3f5f"
            },
            "error_y": {
             "color": "#2a3f5f"
            },
            "marker": {
             "line": {
              "color": "#E5ECF6",
              "width": 0.5
             },
             "pattern": {
              "fillmode": "overlay",
              "size": 10,
              "solidity": 0.2
             }
            },
            "type": "bar"
           }
          ],
          "barpolar": [
           {
            "marker": {
             "line": {
              "color": "#E5ECF6",
              "width": 0.5
             },
             "pattern": {
              "fillmode": "overlay",
              "size": 10,
              "solidity": 0.2
             }
            },
            "type": "barpolar"
           }
          ],
          "carpet": [
           {
            "aaxis": {
             "endlinecolor": "#2a3f5f",
             "gridcolor": "white",
             "linecolor": "white",
             "minorgridcolor": "white",
             "startlinecolor": "#2a3f5f"
            },
            "baxis": {
             "endlinecolor": "#2a3f5f",
             "gridcolor": "white",
             "linecolor": "white",
             "minorgridcolor": "white",
             "startlinecolor": "#2a3f5f"
            },
            "type": "carpet"
           }
          ],
          "choropleth": [
           {
            "colorbar": {
             "outlinewidth": 0,
             "ticks": ""
            },
            "type": "choropleth"
           }
          ],
          "contour": [
           {
            "colorbar": {
             "outlinewidth": 0,
             "ticks": ""
            },
            "colorscale": [
             [
              0,
              "#0d0887"
             ],
             [
              0.1111111111111111,
              "#46039f"
             ],
             [
              0.2222222222222222,
              "#7201a8"
             ],
             [
              0.3333333333333333,
              "#9c179e"
             ],
             [
              0.4444444444444444,
              "#bd3786"
             ],
             [
              0.5555555555555556,
              "#d8576b"
             ],
             [
              0.6666666666666666,
              "#ed7953"
             ],
             [
              0.7777777777777778,
              "#fb9f3a"
             ],
             [
              0.8888888888888888,
              "#fdca26"
             ],
             [
              1,
              "#f0f921"
             ]
            ],
            "type": "contour"
           }
          ],
          "contourcarpet": [
           {
            "colorbar": {
             "outlinewidth": 0,
             "ticks": ""
            },
            "type": "contourcarpet"
           }
          ],
          "heatmap": [
           {
            "colorbar": {
             "outlinewidth": 0,
             "ticks": ""
            },
            "colorscale": [
             [
              0,
              "#0d0887"
             ],
             [
              0.1111111111111111,
              "#46039f"
             ],
             [
              0.2222222222222222,
              "#7201a8"
             ],
             [
              0.3333333333333333,
              "#9c179e"
             ],
             [
              0.4444444444444444,
              "#bd3786"
             ],
             [
              0.5555555555555556,
              "#d8576b"
             ],
             [
              0.6666666666666666,
              "#ed7953"
             ],
             [
              0.7777777777777778,
              "#fb9f3a"
             ],
             [
              0.8888888888888888,
              "#fdca26"
             ],
             [
              1,
              "#f0f921"
             ]
            ],
            "type": "heatmap"
           }
          ],
          "heatmapgl": [
           {
            "colorbar": {
             "outlinewidth": 0,
             "ticks": ""
            },
            "colorscale": [
             [
              0,
              "#0d0887"
             ],
             [
              0.1111111111111111,
              "#46039f"
             ],
             [
              0.2222222222222222,
              "#7201a8"
             ],
             [
              0.3333333333333333,
              "#9c179e"
             ],
             [
              0.4444444444444444,
              "#bd3786"
             ],
             [
              0.5555555555555556,
              "#d8576b"
             ],
             [
              0.6666666666666666,
              "#ed7953"
             ],
             [
              0.7777777777777778,
              "#fb9f3a"
             ],
             [
              0.8888888888888888,
              "#fdca26"
             ],
             [
              1,
              "#f0f921"
             ]
            ],
            "type": "heatmapgl"
           }
          ],
          "histogram": [
           {
            "marker": {
             "pattern": {
              "fillmode": "overlay",
              "size": 10,
              "solidity": 0.2
             }
            },
            "type": "histogram"
           }
          ],
          "histogram2d": [
           {
            "colorbar": {
             "outlinewidth": 0,
             "ticks": ""
            },
            "colorscale": [
             [
              0,
              "#0d0887"
             ],
             [
              0.1111111111111111,
              "#46039f"
             ],
             [
              0.2222222222222222,
              "#7201a8"
             ],
             [
              0.3333333333333333,
              "#9c179e"
             ],
             [
              0.4444444444444444,
              "#bd3786"
             ],
             [
              0.5555555555555556,
              "#d8576b"
             ],
             [
              0.6666666666666666,
              "#ed7953"
             ],
             [
              0.7777777777777778,
              "#fb9f3a"
             ],
             [
              0.8888888888888888,
              "#fdca26"
             ],
             [
              1,
              "#f0f921"
             ]
            ],
            "type": "histogram2d"
           }
          ],
          "histogram2dcontour": [
           {
            "colorbar": {
             "outlinewidth": 0,
             "ticks": ""
            },
            "colorscale": [
             [
              0,
              "#0d0887"
             ],
             [
              0.1111111111111111,
              "#46039f"
             ],
             [
              0.2222222222222222,
              "#7201a8"
             ],
             [
              0.3333333333333333,
              "#9c179e"
             ],
             [
              0.4444444444444444,
              "#bd3786"
             ],
             [
              0.5555555555555556,
              "#d8576b"
             ],
             [
              0.6666666666666666,
              "#ed7953"
             ],
             [
              0.7777777777777778,
              "#fb9f3a"
             ],
             [
              0.8888888888888888,
              "#fdca26"
             ],
             [
              1,
              "#f0f921"
             ]
            ],
            "type": "histogram2dcontour"
           }
          ],
          "mesh3d": [
           {
            "colorbar": {
             "outlinewidth": 0,
             "ticks": ""
            },
            "type": "mesh3d"
           }
          ],
          "parcoords": [
           {
            "line": {
             "colorbar": {
              "outlinewidth": 0,
              "ticks": ""
             }
            },
            "type": "parcoords"
           }
          ],
          "pie": [
           {
            "automargin": true,
            "type": "pie"
           }
          ],
          "scatter": [
           {
            "marker": {
             "colorbar": {
              "outlinewidth": 0,
              "ticks": ""
             }
            },
            "type": "scatter"
           }
          ],
          "scatter3d": [
           {
            "line": {
             "colorbar": {
              "outlinewidth": 0,
              "ticks": ""
             }
            },
            "marker": {
             "colorbar": {
              "outlinewidth": 0,
              "ticks": ""
             }
            },
            "type": "scatter3d"
           }
          ],
          "scattercarpet": [
           {
            "marker": {
             "colorbar": {
              "outlinewidth": 0,
              "ticks": ""
             }
            },
            "type": "scattercarpet"
           }
          ],
          "scattergeo": [
           {
            "marker": {
             "colorbar": {
              "outlinewidth": 0,
              "ticks": ""
             }
            },
            "type": "scattergeo"
           }
          ],
          "scattergl": [
           {
            "marker": {
             "colorbar": {
              "outlinewidth": 0,
              "ticks": ""
             }
            },
            "type": "scattergl"
           }
          ],
          "scattermapbox": [
           {
            "marker": {
             "colorbar": {
              "outlinewidth": 0,
              "ticks": ""
             }
            },
            "type": "scattermapbox"
           }
          ],
          "scatterpolar": [
           {
            "marker": {
             "colorbar": {
              "outlinewidth": 0,
              "ticks": ""
             }
            },
            "type": "scatterpolar"
           }
          ],
          "scatterpolargl": [
           {
            "marker": {
             "colorbar": {
              "outlinewidth": 0,
              "ticks": ""
             }
            },
            "type": "scatterpolargl"
           }
          ],
          "scatterternary": [
           {
            "marker": {
             "colorbar": {
              "outlinewidth": 0,
              "ticks": ""
             }
            },
            "type": "scatterternary"
           }
          ],
          "surface": [
           {
            "colorbar": {
             "outlinewidth": 0,
             "ticks": ""
            },
            "colorscale": [
             [
              0,
              "#0d0887"
             ],
             [
              0.1111111111111111,
              "#46039f"
             ],
             [
              0.2222222222222222,
              "#7201a8"
             ],
             [
              0.3333333333333333,
              "#9c179e"
             ],
             [
              0.4444444444444444,
              "#bd3786"
             ],
             [
              0.5555555555555556,
              "#d8576b"
             ],
             [
              0.6666666666666666,
              "#ed7953"
             ],
             [
              0.7777777777777778,
              "#fb9f3a"
             ],
             [
              0.8888888888888888,
              "#fdca26"
             ],
             [
              1,
              "#f0f921"
             ]
            ],
            "type": "surface"
           }
          ],
          "table": [
           {
            "cells": {
             "fill": {
              "color": "#EBF0F8"
             },
             "line": {
              "color": "white"
             }
            },
            "header": {
             "fill": {
              "color": "#C8D4E3"
             },
             "line": {
              "color": "white"
             }
            },
            "type": "table"
           }
          ]
         },
         "layout": {
          "annotationdefaults": {
           "arrowcolor": "#2a3f5f",
           "arrowhead": 0,
           "arrowwidth": 1
          },
          "autotypenumbers": "strict",
          "coloraxis": {
           "colorbar": {
            "outlinewidth": 0,
            "ticks": ""
           }
          },
          "colorscale": {
           "diverging": [
            [
             0,
             "#8e0152"
            ],
            [
             0.1,
             "#c51b7d"
            ],
            [
             0.2,
             "#de77ae"
            ],
            [
             0.3,
             "#f1b6da"
            ],
            [
             0.4,
             "#fde0ef"
            ],
            [
             0.5,
             "#f7f7f7"
            ],
            [
             0.6,
             "#e6f5d0"
            ],
            [
             0.7,
             "#b8e186"
            ],
            [
             0.8,
             "#7fbc41"
            ],
            [
             0.9,
             "#4d9221"
            ],
            [
             1,
             "#276419"
            ]
           ],
           "sequential": [
            [
             0,
             "#0d0887"
            ],
            [
             0.1111111111111111,
             "#46039f"
            ],
            [
             0.2222222222222222,
             "#7201a8"
            ],
            [
             0.3333333333333333,
             "#9c179e"
            ],
            [
             0.4444444444444444,
             "#bd3786"
            ],
            [
             0.5555555555555556,
             "#d8576b"
            ],
            [
             0.6666666666666666,
             "#ed7953"
            ],
            [
             0.7777777777777778,
             "#fb9f3a"
            ],
            [
             0.8888888888888888,
             "#fdca26"
            ],
            [
             1,
             "#f0f921"
            ]
           ],
           "sequentialminus": [
            [
             0,
             "#0d0887"
            ],
            [
             0.1111111111111111,
             "#46039f"
            ],
            [
             0.2222222222222222,
             "#7201a8"
            ],
            [
             0.3333333333333333,
             "#9c179e"
            ],
            [
             0.4444444444444444,
             "#bd3786"
            ],
            [
             0.5555555555555556,
             "#d8576b"
            ],
            [
             0.6666666666666666,
             "#ed7953"
            ],
            [
             0.7777777777777778,
             "#fb9f3a"
            ],
            [
             0.8888888888888888,
             "#fdca26"
            ],
            [
             1,
             "#f0f921"
            ]
           ]
          },
          "colorway": [
           "#636efa",
           "#EF553B",
           "#00cc96",
           "#ab63fa",
           "#FFA15A",
           "#19d3f3",
           "#FF6692",
           "#B6E880",
           "#FF97FF",
           "#FECB52"
          ],
          "font": {
           "color": "#2a3f5f"
          },
          "geo": {
           "bgcolor": "white",
           "lakecolor": "white",
           "landcolor": "#E5ECF6",
           "showlakes": true,
           "showland": true,
           "subunitcolor": "white"
          },
          "hoverlabel": {
           "align": "left"
          },
          "hovermode": "closest",
          "mapbox": {
           "style": "light"
          },
          "paper_bgcolor": "white",
          "plot_bgcolor": "#E5ECF6",
          "polar": {
           "angularaxis": {
            "gridcolor": "white",
            "linecolor": "white",
            "ticks": ""
           },
           "bgcolor": "#E5ECF6",
           "radialaxis": {
            "gridcolor": "white",
            "linecolor": "white",
            "ticks": ""
           }
          },
          "scene": {
           "xaxis": {
            "backgroundcolor": "#E5ECF6",
            "gridcolor": "white",
            "gridwidth": 2,
            "linecolor": "white",
            "showbackground": true,
            "ticks": "",
            "zerolinecolor": "white"
           },
           "yaxis": {
            "backgroundcolor": "#E5ECF6",
            "gridcolor": "white",
            "gridwidth": 2,
            "linecolor": "white",
            "showbackground": true,
            "ticks": "",
            "zerolinecolor": "white"
           },
           "zaxis": {
            "backgroundcolor": "#E5ECF6",
            "gridcolor": "white",
            "gridwidth": 2,
            "linecolor": "white",
            "showbackground": true,
            "ticks": "",
            "zerolinecolor": "white"
           }
          },
          "shapedefaults": {
           "line": {
            "color": "#2a3f5f"
           }
          },
          "ternary": {
           "aaxis": {
            "gridcolor": "white",
            "linecolor": "white",
            "ticks": ""
           },
           "baxis": {
            "gridcolor": "white",
            "linecolor": "white",
            "ticks": ""
           },
           "bgcolor": "#E5ECF6",
           "caxis": {
            "gridcolor": "white",
            "linecolor": "white",
            "ticks": ""
           }
          },
          "title": {
           "x": 0.05
          },
          "xaxis": {
           "automargin": true,
           "gridcolor": "white",
           "linecolor": "white",
           "ticks": "",
           "title": {
            "standoff": 15
           },
           "zerolinecolor": "white",
           "zerolinewidth": 2
          },
          "yaxis": {
           "automargin": true,
           "gridcolor": "white",
           "linecolor": "white",
           "ticks": "",
           "title": {
            "standoff": 15
           },
           "zerolinecolor": "white",
           "zerolinewidth": 2
          }
         }
        },
        "xaxis": {
         "anchor": "y",
         "domain": [
          0,
          1
         ],
         "title": {
          "text": "value"
         }
        },
        "yaxis": {
         "anchor": "x",
         "domain": [
          0,
          1
         ],
         "title": {
          "text": "count"
         }
        }
       }
      },
      "text/html": [
       "<div>                            <div id=\"8c027495-32f7-43ab-9b19-6b332b60988b\" class=\"plotly-graph-div\" style=\"height:525px; width:100%;\"></div>            <script type=\"text/javascript\">                require([\"plotly\"], function(Plotly) {                    window.PLOTLYENV=window.PLOTLYENV || {};                                    if (document.getElementById(\"8c027495-32f7-43ab-9b19-6b332b60988b\")) {                    Plotly.newPlot(                        \"8c027495-32f7-43ab-9b19-6b332b60988b\",                        [{\"alignmentgroup\":\"True\",\"hovertemplate\":\"variable=Susceptible_BreakOut_for_Omicorn_Severe_Disease<br>value=%{x}<br>count=%{y}<extra></extra>\",\"legendgroup\":\"Susceptible_BreakOut_for_Omicorn_Severe_Disease\",\"marker\":{\"color\":\"#636efa\",\"pattern\":{\"shape\":\"\"}},\"name\":\"Susceptible_BreakOut_for_Omicorn_Severe_Disease\",\"offsetgroup\":\"Susceptible_BreakOut_for_Omicorn_Severe_Disease\",\"orientation\":\"v\",\"showlegend\":true,\"textposition\":\"auto\",\"x\":[34.28182620572406,34.28182620572406,34.28182620572406,34.28182620572406,34.28182620572406,34.28182620572406],\"xaxis\":\"x\",\"y\":[1,1,1,1,1,1],\"yaxis\":\"y\",\"type\":\"bar\"},{\"alignmentgroup\":\"True\",\"hovertemplate\":\"variable=Susceptible_BreakOut_for_Omicorn_Infection<br>value=%{x}<br>count=%{y}<extra></extra>\",\"legendgroup\":\"Susceptible_BreakOut_for_Omicorn_Infection\",\"marker\":{\"color\":\"#EF553B\",\"pattern\":{\"shape\":\"\"}},\"name\":\"Susceptible_BreakOut_for_Omicorn_Infection\",\"offsetgroup\":\"Susceptible_BreakOut_for_Omicorn_Infection\",\"orientation\":\"v\",\"showlegend\":true,\"textposition\":\"auto\",\"x\":[59.9428921205921,59.9428921205921,59.9428921205921,59.9428921205921,59.9428921205921,59.9428921205921],\"xaxis\":\"x\",\"y\":[1,1,1,1,1,1],\"yaxis\":\"y\",\"type\":\"bar\"}],                        {\"template\":{\"data\":{\"bar\":[{\"error_x\":{\"color\":\"#2a3f5f\"},\"error_y\":{\"color\":\"#2a3f5f\"},\"marker\":{\"line\":{\"color\":\"#E5ECF6\",\"width\":0.5},\"pattern\":{\"fillmode\":\"overlay\",\"size\":10,\"solidity\":0.2}},\"type\":\"bar\"}],\"barpolar\":[{\"marker\":{\"line\":{\"color\":\"#E5ECF6\",\"width\":0.5},\"pattern\":{\"fillmode\":\"overlay\",\"size\":10,\"solidity\":0.2}},\"type\":\"barpolar\"}],\"carpet\":[{\"aaxis\":{\"endlinecolor\":\"#2a3f5f\",\"gridcolor\":\"white\",\"linecolor\":\"white\",\"minorgridcolor\":\"white\",\"startlinecolor\":\"#2a3f5f\"},\"baxis\":{\"endlinecolor\":\"#2a3f5f\",\"gridcolor\":\"white\",\"linecolor\":\"white\",\"minorgridcolor\":\"white\",\"startlinecolor\":\"#2a3f5f\"},\"type\":\"carpet\"}],\"choropleth\":[{\"colorbar\":{\"outlinewidth\":0,\"ticks\":\"\"},\"type\":\"choropleth\"}],\"contour\":[{\"colorbar\":{\"outlinewidth\":0,\"ticks\":\"\"},\"colorscale\":[[0.0,\"#0d0887\"],[0.1111111111111111,\"#46039f\"],[0.2222222222222222,\"#7201a8\"],[0.3333333333333333,\"#9c179e\"],[0.4444444444444444,\"#bd3786\"],[0.5555555555555556,\"#d8576b\"],[0.6666666666666666,\"#ed7953\"],[0.7777777777777778,\"#fb9f3a\"],[0.8888888888888888,\"#fdca26\"],[1.0,\"#f0f921\"]],\"type\":\"contour\"}],\"contourcarpet\":[{\"colorbar\":{\"outlinewidth\":0,\"ticks\":\"\"},\"type\":\"contourcarpet\"}],\"heatmap\":[{\"colorbar\":{\"outlinewidth\":0,\"ticks\":\"\"},\"colorscale\":[[0.0,\"#0d0887\"],[0.1111111111111111,\"#46039f\"],[0.2222222222222222,\"#7201a8\"],[0.3333333333333333,\"#9c179e\"],[0.4444444444444444,\"#bd3786\"],[0.5555555555555556,\"#d8576b\"],[0.6666666666666666,\"#ed7953\"],[0.7777777777777778,\"#fb9f3a\"],[0.8888888888888888,\"#fdca26\"],[1.0,\"#f0f921\"]],\"type\":\"heatmap\"}],\"heatmapgl\":[{\"colorbar\":{\"outlinewidth\":0,\"ticks\":\"\"},\"colorscale\":[[0.0,\"#0d0887\"],[0.1111111111111111,\"#46039f\"],[0.2222222222222222,\"#7201a8\"],[0.3333333333333333,\"#9c179e\"],[0.4444444444444444,\"#bd3786\"],[0.5555555555555556,\"#d8576b\"],[0.6666666666666666,\"#ed7953\"],[0.7777777777777778,\"#fb9f3a\"],[0.8888888888888888,\"#fdca26\"],[1.0,\"#f0f921\"]],\"type\":\"heatmapgl\"}],\"histogram\":[{\"marker\":{\"pattern\":{\"fillmode\":\"overlay\",\"size\":10,\"solidity\":0.2}},\"type\":\"histogram\"}],\"histogram2d\":[{\"colorbar\":{\"outlinewidth\":0,\"ticks\":\"\"},\"colorscale\":[[0.0,\"#0d0887\"],[0.1111111111111111,\"#46039f\"],[0.2222222222222222,\"#7201a8\"],[0.3333333333333333,\"#9c179e\"],[0.4444444444444444,\"#bd3786\"],[0.5555555555555556,\"#d8576b\"],[0.6666666666666666,\"#ed7953\"],[0.7777777777777778,\"#fb9f3a\"],[0.8888888888888888,\"#fdca26\"],[1.0,\"#f0f921\"]],\"type\":\"histogram2d\"}],\"histogram2dcontour\":[{\"colorbar\":{\"outlinewidth\":0,\"ticks\":\"\"},\"colorscale\":[[0.0,\"#0d0887\"],[0.1111111111111111,\"#46039f\"],[0.2222222222222222,\"#7201a8\"],[0.3333333333333333,\"#9c179e\"],[0.4444444444444444,\"#bd3786\"],[0.5555555555555556,\"#d8576b\"],[0.6666666666666666,\"#ed7953\"],[0.7777777777777778,\"#fb9f3a\"],[0.8888888888888888,\"#fdca26\"],[1.0,\"#f0f921\"]],\"type\":\"histogram2dcontour\"}],\"mesh3d\":[{\"colorbar\":{\"outlinewidth\":0,\"ticks\":\"\"},\"type\":\"mesh3d\"}],\"parcoords\":[{\"line\":{\"colorbar\":{\"outlinewidth\":0,\"ticks\":\"\"}},\"type\":\"parcoords\"}],\"pie\":[{\"automargin\":true,\"type\":\"pie\"}],\"scatter\":[{\"marker\":{\"colorbar\":{\"outlinewidth\":0,\"ticks\":\"\"}},\"type\":\"scatter\"}],\"scatter3d\":[{\"line\":{\"colorbar\":{\"outlinewidth\":0,\"ticks\":\"\"}},\"marker\":{\"colorbar\":{\"outlinewidth\":0,\"ticks\":\"\"}},\"type\":\"scatter3d\"}],\"scattercarpet\":[{\"marker\":{\"colorbar\":{\"outlinewidth\":0,\"ticks\":\"\"}},\"type\":\"scattercarpet\"}],\"scattergeo\":[{\"marker\":{\"colorbar\":{\"outlinewidth\":0,\"ticks\":\"\"}},\"type\":\"scattergeo\"}],\"scattergl\":[{\"marker\":{\"colorbar\":{\"outlinewidth\":0,\"ticks\":\"\"}},\"type\":\"scattergl\"}],\"scattermapbox\":[{\"marker\":{\"colorbar\":{\"outlinewidth\":0,\"ticks\":\"\"}},\"type\":\"scattermapbox\"}],\"scatterpolar\":[{\"marker\":{\"colorbar\":{\"outlinewidth\":0,\"ticks\":\"\"}},\"type\":\"scatterpolar\"}],\"scatterpolargl\":[{\"marker\":{\"colorbar\":{\"outlinewidth\":0,\"ticks\":\"\"}},\"type\":\"scatterpolargl\"}],\"scatterternary\":[{\"marker\":{\"colorbar\":{\"outlinewidth\":0,\"ticks\":\"\"}},\"type\":\"scatterternary\"}],\"surface\":[{\"colorbar\":{\"outlinewidth\":0,\"ticks\":\"\"},\"colorscale\":[[0.0,\"#0d0887\"],[0.1111111111111111,\"#46039f\"],[0.2222222222222222,\"#7201a8\"],[0.3333333333333333,\"#9c179e\"],[0.4444444444444444,\"#bd3786\"],[0.5555555555555556,\"#d8576b\"],[0.6666666666666666,\"#ed7953\"],[0.7777777777777778,\"#fb9f3a\"],[0.8888888888888888,\"#fdca26\"],[1.0,\"#f0f921\"]],\"type\":\"surface\"}],\"table\":[{\"cells\":{\"fill\":{\"color\":\"#EBF0F8\"},\"line\":{\"color\":\"white\"}},\"header\":{\"fill\":{\"color\":\"#C8D4E3\"},\"line\":{\"color\":\"white\"}},\"type\":\"table\"}]},\"layout\":{\"annotationdefaults\":{\"arrowcolor\":\"#2a3f5f\",\"arrowhead\":0,\"arrowwidth\":1},\"autotypenumbers\":\"strict\",\"coloraxis\":{\"colorbar\":{\"outlinewidth\":0,\"ticks\":\"\"}},\"colorscale\":{\"diverging\":[[0,\"#8e0152\"],[0.1,\"#c51b7d\"],[0.2,\"#de77ae\"],[0.3,\"#f1b6da\"],[0.4,\"#fde0ef\"],[0.5,\"#f7f7f7\"],[0.6,\"#e6f5d0\"],[0.7,\"#b8e186\"],[0.8,\"#7fbc41\"],[0.9,\"#4d9221\"],[1,\"#276419\"]],\"sequential\":[[0.0,\"#0d0887\"],[0.1111111111111111,\"#46039f\"],[0.2222222222222222,\"#7201a8\"],[0.3333333333333333,\"#9c179e\"],[0.4444444444444444,\"#bd3786\"],[0.5555555555555556,\"#d8576b\"],[0.6666666666666666,\"#ed7953\"],[0.7777777777777778,\"#fb9f3a\"],[0.8888888888888888,\"#fdca26\"],[1.0,\"#f0f921\"]],\"sequentialminus\":[[0.0,\"#0d0887\"],[0.1111111111111111,\"#46039f\"],[0.2222222222222222,\"#7201a8\"],[0.3333333333333333,\"#9c179e\"],[0.4444444444444444,\"#bd3786\"],[0.5555555555555556,\"#d8576b\"],[0.6666666666666666,\"#ed7953\"],[0.7777777777777778,\"#fb9f3a\"],[0.8888888888888888,\"#fdca26\"],[1.0,\"#f0f921\"]]},\"colorway\":[\"#636efa\",\"#EF553B\",\"#00cc96\",\"#ab63fa\",\"#FFA15A\",\"#19d3f3\",\"#FF6692\",\"#B6E880\",\"#FF97FF\",\"#FECB52\"],\"font\":{\"color\":\"#2a3f5f\"},\"geo\":{\"bgcolor\":\"white\",\"lakecolor\":\"white\",\"landcolor\":\"#E5ECF6\",\"showlakes\":true,\"showland\":true,\"subunitcolor\":\"white\"},\"hoverlabel\":{\"align\":\"left\"},\"hovermode\":\"closest\",\"mapbox\":{\"style\":\"light\"},\"paper_bgcolor\":\"white\",\"plot_bgcolor\":\"#E5ECF6\",\"polar\":{\"angularaxis\":{\"gridcolor\":\"white\",\"linecolor\":\"white\",\"ticks\":\"\"},\"bgcolor\":\"#E5ECF6\",\"radialaxis\":{\"gridcolor\":\"white\",\"linecolor\":\"white\",\"ticks\":\"\"}},\"scene\":{\"xaxis\":{\"backgroundcolor\":\"#E5ECF6\",\"gridcolor\":\"white\",\"gridwidth\":2,\"linecolor\":\"white\",\"showbackground\":true,\"ticks\":\"\",\"zerolinecolor\":\"white\"},\"yaxis\":{\"backgroundcolor\":\"#E5ECF6\",\"gridcolor\":\"white\",\"gridwidth\":2,\"linecolor\":\"white\",\"showbackground\":true,\"ticks\":\"\",\"zerolinecolor\":\"white\"},\"zaxis\":{\"backgroundcolor\":\"#E5ECF6\",\"gridcolor\":\"white\",\"gridwidth\":2,\"linecolor\":\"white\",\"showbackground\":true,\"ticks\":\"\",\"zerolinecolor\":\"white\"}},\"shapedefaults\":{\"line\":{\"color\":\"#2a3f5f\"}},\"ternary\":{\"aaxis\":{\"gridcolor\":\"white\",\"linecolor\":\"white\",\"ticks\":\"\"},\"baxis\":{\"gridcolor\":\"white\",\"linecolor\":\"white\",\"ticks\":\"\"},\"bgcolor\":\"#E5ECF6\",\"caxis\":{\"gridcolor\":\"white\",\"linecolor\":\"white\",\"ticks\":\"\"}},\"title\":{\"x\":0.05},\"xaxis\":{\"automargin\":true,\"gridcolor\":\"white\",\"linecolor\":\"white\",\"ticks\":\"\",\"title\":{\"standoff\":15},\"zerolinecolor\":\"white\",\"zerolinewidth\":2},\"yaxis\":{\"automargin\":true,\"gridcolor\":\"white\",\"linecolor\":\"white\",\"ticks\":\"\",\"title\":{\"standoff\":15},\"zerolinecolor\":\"white\",\"zerolinewidth\":2}}},\"xaxis\":{\"anchor\":\"y\",\"domain\":[0.0,1.0],\"title\":{\"text\":\"value\"}},\"yaxis\":{\"anchor\":\"x\",\"domain\":[0.0,1.0],\"title\":{\"text\":\"count\"}},\"legend\":{\"title\":{\"text\":\"variable\"},\"tracegroupgap\":0},\"margin\":{\"t\":60},\"barmode\":\"relative\"},                        {\"responsive\": true}                    ).then(function(){\n",
       "                            \n",
       "var gd = document.getElementById('8c027495-32f7-43ab-9b19-6b332b60988b');\n",
       "var x = new MutationObserver(function (mutations, observer) {{\n",
       "        var display = window.getComputedStyle(gd).display;\n",
       "        if (!display || display === 'none') {{\n",
       "            console.log([gd, 'removed!']);\n",
       "            Plotly.purge(gd);\n",
       "            observer.disconnect();\n",
       "        }}\n",
       "}});\n",
       "\n",
       "// Listen for the removal of the full notebook cells\n",
       "var notebookContainer = gd.closest('#notebook-container');\n",
       "if (notebookContainer) {{\n",
       "    x.observe(notebookContainer, {childList: true});\n",
       "}}\n",
       "\n",
       "// Listen for the clearing of the current output cell\n",
       "var outputEl = gd.closest('.output');\n",
       "if (outputEl) {{\n",
       "    x.observe(outputEl, {childList: true});\n",
       "}}\n",
       "\n",
       "                        })                };                });            </script>        </div>"
      ]
     },
     "metadata": {},
     "output_type": "display_data"
    }
   ],
   "source": [
    "fig = px.bar(df, y=['Susceptible_BreakOut_for_Omicorn_Severe_Disease', 'Susceptible_BreakOut_for_Omicorn_Infection'], x='CountrywiseTotalVaccination')\n",
    "fig.show()\n"
   ]
  },
  {
   "cell_type": "code",
   "execution_count": 116,
   "id": "9647a01e",
   "metadata": {},
   "outputs": [
    {
     "data": {
      "application/vnd.plotly.v1+json": {
       "config": {
        "plotlyServerURL": "https://plot.ly"
       },
       "data": [
        {
         "name": "Susceptible BreakOut for Omicorn Infection",
         "type": "bar",
         "x": [
          "Argentina",
          "Argentina",
          "Argentina",
          "Argentina",
          "Argentina",
          "Argentina"
         ],
         "y": [
          59.9428921205921,
          59.9428921205921,
          59.9428921205921,
          59.9428921205921,
          59.9428921205921,
          59.9428921205921
         ]
        },
        {
         "name": "Susceptible BreakOut for Omicorn Severe Disease",
         "type": "bar",
         "x": [
          "Argentina",
          "Argentina",
          "Argentina",
          "Argentina",
          "Argentina",
          "Argentina"
         ],
         "y": [
          34.28182620572406,
          34.28182620572406,
          34.28182620572406,
          34.28182620572406,
          34.28182620572406,
          34.28182620572406
         ]
        },
        {
         "name": "Susceptible BreakOut for Alpha Ancestral Severe Disease",
         "type": "bar",
         "x": [
          "Argentina",
          "Argentina",
          "Argentina",
          "Argentina",
          "Argentina",
          "Argentina"
         ],
         "y": [
          11.61709994779595,
          11.61709994779595,
          11.61709994779595,
          11.61709994779595,
          11.61709994779595,
          11.61709994779595
         ]
        },
        {
         "name": "Susceptible BreakOut for Alpha Ancestral Infection",
         "type": "bar",
         "x": [
          "Argentina",
          "Argentina",
          "Argentina",
          "Argentina",
          "Argentina",
          "Argentina"
         ],
         "y": [
          23.834052979264357,
          23.834052979264357,
          23.834052979264357,
          23.834052979264357,
          23.834052979264357,
          23.834052979264357
         ]
        },
        {
         "name": "Susceptible BreakOut for Beta Gamma Delta Severe Disease",
         "type": "bar",
         "x": [
          "Argentina",
          "Argentina",
          "Argentina",
          "Argentina",
          "Argentina",
          "Argentina"
         ],
         "y": [
          12.728222899143574,
          12.728222899143574,
          12.728222899143574,
          12.728222899143574,
          12.728222899143574,
          12.728222899143574
         ]
        },
        {
         "name": "Susceptible BreakOut for Beta Gamma Delta Infection",
         "type": "bar",
         "x": [
          "Argentina",
          "Argentina",
          "Argentina",
          "Argentina",
          "Argentina",
          "Argentina"
         ],
         "y": [
          23.301651062414408,
          23.301651062414408,
          23.301651062414408,
          23.301651062414408,
          23.301651062414408,
          23.301651062414408
         ]
        }
       ],
       "layout": {
        "template": {
         "data": {
          "bar": [
           {
            "error_x": {
             "color": "#2a3f5f"
            },
            "error_y": {
             "color": "#2a3f5f"
            },
            "marker": {
             "line": {
              "color": "#E5ECF6",
              "width": 0.5
             },
             "pattern": {
              "fillmode": "overlay",
              "size": 10,
              "solidity": 0.2
             }
            },
            "type": "bar"
           }
          ],
          "barpolar": [
           {
            "marker": {
             "line": {
              "color": "#E5ECF6",
              "width": 0.5
             },
             "pattern": {
              "fillmode": "overlay",
              "size": 10,
              "solidity": 0.2
             }
            },
            "type": "barpolar"
           }
          ],
          "carpet": [
           {
            "aaxis": {
             "endlinecolor": "#2a3f5f",
             "gridcolor": "white",
             "linecolor": "white",
             "minorgridcolor": "white",
             "startlinecolor": "#2a3f5f"
            },
            "baxis": {
             "endlinecolor": "#2a3f5f",
             "gridcolor": "white",
             "linecolor": "white",
             "minorgridcolor": "white",
             "startlinecolor": "#2a3f5f"
            },
            "type": "carpet"
           }
          ],
          "choropleth": [
           {
            "colorbar": {
             "outlinewidth": 0,
             "ticks": ""
            },
            "type": "choropleth"
           }
          ],
          "contour": [
           {
            "colorbar": {
             "outlinewidth": 0,
             "ticks": ""
            },
            "colorscale": [
             [
              0,
              "#0d0887"
             ],
             [
              0.1111111111111111,
              "#46039f"
             ],
             [
              0.2222222222222222,
              "#7201a8"
             ],
             [
              0.3333333333333333,
              "#9c179e"
             ],
             [
              0.4444444444444444,
              "#bd3786"
             ],
             [
              0.5555555555555556,
              "#d8576b"
             ],
             [
              0.6666666666666666,
              "#ed7953"
             ],
             [
              0.7777777777777778,
              "#fb9f3a"
             ],
             [
              0.8888888888888888,
              "#fdca26"
             ],
             [
              1,
              "#f0f921"
             ]
            ],
            "type": "contour"
           }
          ],
          "contourcarpet": [
           {
            "colorbar": {
             "outlinewidth": 0,
             "ticks": ""
            },
            "type": "contourcarpet"
           }
          ],
          "heatmap": [
           {
            "colorbar": {
             "outlinewidth": 0,
             "ticks": ""
            },
            "colorscale": [
             [
              0,
              "#0d0887"
             ],
             [
              0.1111111111111111,
              "#46039f"
             ],
             [
              0.2222222222222222,
              "#7201a8"
             ],
             [
              0.3333333333333333,
              "#9c179e"
             ],
             [
              0.4444444444444444,
              "#bd3786"
             ],
             [
              0.5555555555555556,
              "#d8576b"
             ],
             [
              0.6666666666666666,
              "#ed7953"
             ],
             [
              0.7777777777777778,
              "#fb9f3a"
             ],
             [
              0.8888888888888888,
              "#fdca26"
             ],
             [
              1,
              "#f0f921"
             ]
            ],
            "type": "heatmap"
           }
          ],
          "heatmapgl": [
           {
            "colorbar": {
             "outlinewidth": 0,
             "ticks": ""
            },
            "colorscale": [
             [
              0,
              "#0d0887"
             ],
             [
              0.1111111111111111,
              "#46039f"
             ],
             [
              0.2222222222222222,
              "#7201a8"
             ],
             [
              0.3333333333333333,
              "#9c179e"
             ],
             [
              0.4444444444444444,
              "#bd3786"
             ],
             [
              0.5555555555555556,
              "#d8576b"
             ],
             [
              0.6666666666666666,
              "#ed7953"
             ],
             [
              0.7777777777777778,
              "#fb9f3a"
             ],
             [
              0.8888888888888888,
              "#fdca26"
             ],
             [
              1,
              "#f0f921"
             ]
            ],
            "type": "heatmapgl"
           }
          ],
          "histogram": [
           {
            "marker": {
             "pattern": {
              "fillmode": "overlay",
              "size": 10,
              "solidity": 0.2
             }
            },
            "type": "histogram"
           }
          ],
          "histogram2d": [
           {
            "colorbar": {
             "outlinewidth": 0,
             "ticks": ""
            },
            "colorscale": [
             [
              0,
              "#0d0887"
             ],
             [
              0.1111111111111111,
              "#46039f"
             ],
             [
              0.2222222222222222,
              "#7201a8"
             ],
             [
              0.3333333333333333,
              "#9c179e"
             ],
             [
              0.4444444444444444,
              "#bd3786"
             ],
             [
              0.5555555555555556,
              "#d8576b"
             ],
             [
              0.6666666666666666,
              "#ed7953"
             ],
             [
              0.7777777777777778,
              "#fb9f3a"
             ],
             [
              0.8888888888888888,
              "#fdca26"
             ],
             [
              1,
              "#f0f921"
             ]
            ],
            "type": "histogram2d"
           }
          ],
          "histogram2dcontour": [
           {
            "colorbar": {
             "outlinewidth": 0,
             "ticks": ""
            },
            "colorscale": [
             [
              0,
              "#0d0887"
             ],
             [
              0.1111111111111111,
              "#46039f"
             ],
             [
              0.2222222222222222,
              "#7201a8"
             ],
             [
              0.3333333333333333,
              "#9c179e"
             ],
             [
              0.4444444444444444,
              "#bd3786"
             ],
             [
              0.5555555555555556,
              "#d8576b"
             ],
             [
              0.6666666666666666,
              "#ed7953"
             ],
             [
              0.7777777777777778,
              "#fb9f3a"
             ],
             [
              0.8888888888888888,
              "#fdca26"
             ],
             [
              1,
              "#f0f921"
             ]
            ],
            "type": "histogram2dcontour"
           }
          ],
          "mesh3d": [
           {
            "colorbar": {
             "outlinewidth": 0,
             "ticks": ""
            },
            "type": "mesh3d"
           }
          ],
          "parcoords": [
           {
            "line": {
             "colorbar": {
              "outlinewidth": 0,
              "ticks": ""
             }
            },
            "type": "parcoords"
           }
          ],
          "pie": [
           {
            "automargin": true,
            "type": "pie"
           }
          ],
          "scatter": [
           {
            "marker": {
             "colorbar": {
              "outlinewidth": 0,
              "ticks": ""
             }
            },
            "type": "scatter"
           }
          ],
          "scatter3d": [
           {
            "line": {
             "colorbar": {
              "outlinewidth": 0,
              "ticks": ""
             }
            },
            "marker": {
             "colorbar": {
              "outlinewidth": 0,
              "ticks": ""
             }
            },
            "type": "scatter3d"
           }
          ],
          "scattercarpet": [
           {
            "marker": {
             "colorbar": {
              "outlinewidth": 0,
              "ticks": ""
             }
            },
            "type": "scattercarpet"
           }
          ],
          "scattergeo": [
           {
            "marker": {
             "colorbar": {
              "outlinewidth": 0,
              "ticks": ""
             }
            },
            "type": "scattergeo"
           }
          ],
          "scattergl": [
           {
            "marker": {
             "colorbar": {
              "outlinewidth": 0,
              "ticks": ""
             }
            },
            "type": "scattergl"
           }
          ],
          "scattermapbox": [
           {
            "marker": {
             "colorbar": {
              "outlinewidth": 0,
              "ticks": ""
             }
            },
            "type": "scattermapbox"
           }
          ],
          "scatterpolar": [
           {
            "marker": {
             "colorbar": {
              "outlinewidth": 0,
              "ticks": ""
             }
            },
            "type": "scatterpolar"
           }
          ],
          "scatterpolargl": [
           {
            "marker": {
             "colorbar": {
              "outlinewidth": 0,
              "ticks": ""
             }
            },
            "type": "scatterpolargl"
           }
          ],
          "scatterternary": [
           {
            "marker": {
             "colorbar": {
              "outlinewidth": 0,
              "ticks": ""
             }
            },
            "type": "scatterternary"
           }
          ],
          "surface": [
           {
            "colorbar": {
             "outlinewidth": 0,
             "ticks": ""
            },
            "colorscale": [
             [
              0,
              "#0d0887"
             ],
             [
              0.1111111111111111,
              "#46039f"
             ],
             [
              0.2222222222222222,
              "#7201a8"
             ],
             [
              0.3333333333333333,
              "#9c179e"
             ],
             [
              0.4444444444444444,
              "#bd3786"
             ],
             [
              0.5555555555555556,
              "#d8576b"
             ],
             [
              0.6666666666666666,
              "#ed7953"
             ],
             [
              0.7777777777777778,
              "#fb9f3a"
             ],
             [
              0.8888888888888888,
              "#fdca26"
             ],
             [
              1,
              "#f0f921"
             ]
            ],
            "type": "surface"
           }
          ],
          "table": [
           {
            "cells": {
             "fill": {
              "color": "#EBF0F8"
             },
             "line": {
              "color": "white"
             }
            },
            "header": {
             "fill": {
              "color": "#C8D4E3"
             },
             "line": {
              "color": "white"
             }
            },
            "type": "table"
           }
          ]
         },
         "layout": {
          "annotationdefaults": {
           "arrowcolor": "#2a3f5f",
           "arrowhead": 0,
           "arrowwidth": 1
          },
          "autotypenumbers": "strict",
          "coloraxis": {
           "colorbar": {
            "outlinewidth": 0,
            "ticks": ""
           }
          },
          "colorscale": {
           "diverging": [
            [
             0,
             "#8e0152"
            ],
            [
             0.1,
             "#c51b7d"
            ],
            [
             0.2,
             "#de77ae"
            ],
            [
             0.3,
             "#f1b6da"
            ],
            [
             0.4,
             "#fde0ef"
            ],
            [
             0.5,
             "#f7f7f7"
            ],
            [
             0.6,
             "#e6f5d0"
            ],
            [
             0.7,
             "#b8e186"
            ],
            [
             0.8,
             "#7fbc41"
            ],
            [
             0.9,
             "#4d9221"
            ],
            [
             1,
             "#276419"
            ]
           ],
           "sequential": [
            [
             0,
             "#0d0887"
            ],
            [
             0.1111111111111111,
             "#46039f"
            ],
            [
             0.2222222222222222,
             "#7201a8"
            ],
            [
             0.3333333333333333,
             "#9c179e"
            ],
            [
             0.4444444444444444,
             "#bd3786"
            ],
            [
             0.5555555555555556,
             "#d8576b"
            ],
            [
             0.6666666666666666,
             "#ed7953"
            ],
            [
             0.7777777777777778,
             "#fb9f3a"
            ],
            [
             0.8888888888888888,
             "#fdca26"
            ],
            [
             1,
             "#f0f921"
            ]
           ],
           "sequentialminus": [
            [
             0,
             "#0d0887"
            ],
            [
             0.1111111111111111,
             "#46039f"
            ],
            [
             0.2222222222222222,
             "#7201a8"
            ],
            [
             0.3333333333333333,
             "#9c179e"
            ],
            [
             0.4444444444444444,
             "#bd3786"
            ],
            [
             0.5555555555555556,
             "#d8576b"
            ],
            [
             0.6666666666666666,
             "#ed7953"
            ],
            [
             0.7777777777777778,
             "#fb9f3a"
            ],
            [
             0.8888888888888888,
             "#fdca26"
            ],
            [
             1,
             "#f0f921"
            ]
           ]
          },
          "colorway": [
           "#636efa",
           "#EF553B",
           "#00cc96",
           "#ab63fa",
           "#FFA15A",
           "#19d3f3",
           "#FF6692",
           "#B6E880",
           "#FF97FF",
           "#FECB52"
          ],
          "font": {
           "color": "#2a3f5f"
          },
          "geo": {
           "bgcolor": "white",
           "lakecolor": "white",
           "landcolor": "#E5ECF6",
           "showlakes": true,
           "showland": true,
           "subunitcolor": "white"
          },
          "hoverlabel": {
           "align": "left"
          },
          "hovermode": "closest",
          "mapbox": {
           "style": "light"
          },
          "paper_bgcolor": "white",
          "plot_bgcolor": "#E5ECF6",
          "polar": {
           "angularaxis": {
            "gridcolor": "white",
            "linecolor": "white",
            "ticks": ""
           },
           "bgcolor": "#E5ECF6",
           "radialaxis": {
            "gridcolor": "white",
            "linecolor": "white",
            "ticks": ""
           }
          },
          "scene": {
           "xaxis": {
            "backgroundcolor": "#E5ECF6",
            "gridcolor": "white",
            "gridwidth": 2,
            "linecolor": "white",
            "showbackground": true,
            "ticks": "",
            "zerolinecolor": "white"
           },
           "yaxis": {
            "backgroundcolor": "#E5ECF6",
            "gridcolor": "white",
            "gridwidth": 2,
            "linecolor": "white",
            "showbackground": true,
            "ticks": "",
            "zerolinecolor": "white"
           },
           "zaxis": {
            "backgroundcolor": "#E5ECF6",
            "gridcolor": "white",
            "gridwidth": 2,
            "linecolor": "white",
            "showbackground": true,
            "ticks": "",
            "zerolinecolor": "white"
           }
          },
          "shapedefaults": {
           "line": {
            "color": "#2a3f5f"
           }
          },
          "ternary": {
           "aaxis": {
            "gridcolor": "white",
            "linecolor": "white",
            "ticks": ""
           },
           "baxis": {
            "gridcolor": "white",
            "linecolor": "white",
            "ticks": ""
           },
           "bgcolor": "#E5ECF6",
           "caxis": {
            "gridcolor": "white",
            "linecolor": "white",
            "ticks": ""
           }
          },
          "title": {
           "x": 0.05
          },
          "xaxis": {
           "automargin": true,
           "gridcolor": "white",
           "linecolor": "white",
           "ticks": "",
           "title": {
            "standoff": 15
           },
           "zerolinecolor": "white",
           "zerolinewidth": 2
          },
          "yaxis": {
           "automargin": true,
           "gridcolor": "white",
           "linecolor": "white",
           "ticks": "",
           "title": {
            "standoff": 15
           },
           "zerolinecolor": "white",
           "zerolinewidth": 2
          }
         }
        },
        "title": {
         "text": "Susceptible BreakOut in Argentina"
        }
       }
      },
      "text/html": [
       "<div>                            <div id=\"906b082c-5993-4acf-b521-f8f984edec46\" class=\"plotly-graph-div\" style=\"height:525px; width:100%;\"></div>            <script type=\"text/javascript\">                require([\"plotly\"], function(Plotly) {                    window.PLOTLYENV=window.PLOTLYENV || {};                                    if (document.getElementById(\"906b082c-5993-4acf-b521-f8f984edec46\")) {                    Plotly.newPlot(                        \"906b082c-5993-4acf-b521-f8f984edec46\",                        [{\"name\":\"Susceptible BreakOut for Omicorn Infection\",\"x\":[\"Argentina\",\"Argentina\",\"Argentina\",\"Argentina\",\"Argentina\",\"Argentina\"],\"y\":[59.9428921205921,59.9428921205921,59.9428921205921,59.9428921205921,59.9428921205921,59.9428921205921],\"type\":\"bar\"},{\"name\":\"Susceptible BreakOut for Omicorn Severe Disease\",\"x\":[\"Argentina\",\"Argentina\",\"Argentina\",\"Argentina\",\"Argentina\",\"Argentina\"],\"y\":[34.28182620572406,34.28182620572406,34.28182620572406,34.28182620572406,34.28182620572406,34.28182620572406],\"type\":\"bar\"},{\"name\":\"Susceptible BreakOut for Alpha Ancestral Severe Disease\",\"x\":[\"Argentina\",\"Argentina\",\"Argentina\",\"Argentina\",\"Argentina\",\"Argentina\"],\"y\":[11.61709994779595,11.61709994779595,11.61709994779595,11.61709994779595,11.61709994779595,11.61709994779595],\"type\":\"bar\"},{\"name\":\"Susceptible BreakOut for Alpha Ancestral Infection\",\"x\":[\"Argentina\",\"Argentina\",\"Argentina\",\"Argentina\",\"Argentina\",\"Argentina\"],\"y\":[23.834052979264357,23.834052979264357,23.834052979264357,23.834052979264357,23.834052979264357,23.834052979264357],\"type\":\"bar\"},{\"name\":\"Susceptible BreakOut for Beta Gamma Delta Severe Disease\",\"x\":[\"Argentina\",\"Argentina\",\"Argentina\",\"Argentina\",\"Argentina\",\"Argentina\"],\"y\":[12.728222899143574,12.728222899143574,12.728222899143574,12.728222899143574,12.728222899143574,12.728222899143574],\"type\":\"bar\"},{\"name\":\"Susceptible BreakOut for Beta Gamma Delta Infection\",\"x\":[\"Argentina\",\"Argentina\",\"Argentina\",\"Argentina\",\"Argentina\",\"Argentina\"],\"y\":[23.301651062414408,23.301651062414408,23.301651062414408,23.301651062414408,23.301651062414408,23.301651062414408],\"type\":\"bar\"}],                        {\"template\":{\"data\":{\"bar\":[{\"error_x\":{\"color\":\"#2a3f5f\"},\"error_y\":{\"color\":\"#2a3f5f\"},\"marker\":{\"line\":{\"color\":\"#E5ECF6\",\"width\":0.5},\"pattern\":{\"fillmode\":\"overlay\",\"size\":10,\"solidity\":0.2}},\"type\":\"bar\"}],\"barpolar\":[{\"marker\":{\"line\":{\"color\":\"#E5ECF6\",\"width\":0.5},\"pattern\":{\"fillmode\":\"overlay\",\"size\":10,\"solidity\":0.2}},\"type\":\"barpolar\"}],\"carpet\":[{\"aaxis\":{\"endlinecolor\":\"#2a3f5f\",\"gridcolor\":\"white\",\"linecolor\":\"white\",\"minorgridcolor\":\"white\",\"startlinecolor\":\"#2a3f5f\"},\"baxis\":{\"endlinecolor\":\"#2a3f5f\",\"gridcolor\":\"white\",\"linecolor\":\"white\",\"minorgridcolor\":\"white\",\"startlinecolor\":\"#2a3f5f\"},\"type\":\"carpet\"}],\"choropleth\":[{\"colorbar\":{\"outlinewidth\":0,\"ticks\":\"\"},\"type\":\"choropleth\"}],\"contour\":[{\"colorbar\":{\"outlinewidth\":0,\"ticks\":\"\"},\"colorscale\":[[0.0,\"#0d0887\"],[0.1111111111111111,\"#46039f\"],[0.2222222222222222,\"#7201a8\"],[0.3333333333333333,\"#9c179e\"],[0.4444444444444444,\"#bd3786\"],[0.5555555555555556,\"#d8576b\"],[0.6666666666666666,\"#ed7953\"],[0.7777777777777778,\"#fb9f3a\"],[0.8888888888888888,\"#fdca26\"],[1.0,\"#f0f921\"]],\"type\":\"contour\"}],\"contourcarpet\":[{\"colorbar\":{\"outlinewidth\":0,\"ticks\":\"\"},\"type\":\"contourcarpet\"}],\"heatmap\":[{\"colorbar\":{\"outlinewidth\":0,\"ticks\":\"\"},\"colorscale\":[[0.0,\"#0d0887\"],[0.1111111111111111,\"#46039f\"],[0.2222222222222222,\"#7201a8\"],[0.3333333333333333,\"#9c179e\"],[0.4444444444444444,\"#bd3786\"],[0.5555555555555556,\"#d8576b\"],[0.6666666666666666,\"#ed7953\"],[0.7777777777777778,\"#fb9f3a\"],[0.8888888888888888,\"#fdca26\"],[1.0,\"#f0f921\"]],\"type\":\"heatmap\"}],\"heatmapgl\":[{\"colorbar\":{\"outlinewidth\":0,\"ticks\":\"\"},\"colorscale\":[[0.0,\"#0d0887\"],[0.1111111111111111,\"#46039f\"],[0.2222222222222222,\"#7201a8\"],[0.3333333333333333,\"#9c179e\"],[0.4444444444444444,\"#bd3786\"],[0.5555555555555556,\"#d8576b\"],[0.6666666666666666,\"#ed7953\"],[0.7777777777777778,\"#fb9f3a\"],[0.8888888888888888,\"#fdca26\"],[1.0,\"#f0f921\"]],\"type\":\"heatmapgl\"}],\"histogram\":[{\"marker\":{\"pattern\":{\"fillmode\":\"overlay\",\"size\":10,\"solidity\":0.2}},\"type\":\"histogram\"}],\"histogram2d\":[{\"colorbar\":{\"outlinewidth\":0,\"ticks\":\"\"},\"colorscale\":[[0.0,\"#0d0887\"],[0.1111111111111111,\"#46039f\"],[0.2222222222222222,\"#7201a8\"],[0.3333333333333333,\"#9c179e\"],[0.4444444444444444,\"#bd3786\"],[0.5555555555555556,\"#d8576b\"],[0.6666666666666666,\"#ed7953\"],[0.7777777777777778,\"#fb9f3a\"],[0.8888888888888888,\"#fdca26\"],[1.0,\"#f0f921\"]],\"type\":\"histogram2d\"}],\"histogram2dcontour\":[{\"colorbar\":{\"outlinewidth\":0,\"ticks\":\"\"},\"colorscale\":[[0.0,\"#0d0887\"],[0.1111111111111111,\"#46039f\"],[0.2222222222222222,\"#7201a8\"],[0.3333333333333333,\"#9c179e\"],[0.4444444444444444,\"#bd3786\"],[0.5555555555555556,\"#d8576b\"],[0.6666666666666666,\"#ed7953\"],[0.7777777777777778,\"#fb9f3a\"],[0.8888888888888888,\"#fdca26\"],[1.0,\"#f0f921\"]],\"type\":\"histogram2dcontour\"}],\"mesh3d\":[{\"colorbar\":{\"outlinewidth\":0,\"ticks\":\"\"},\"type\":\"mesh3d\"}],\"parcoords\":[{\"line\":{\"colorbar\":{\"outlinewidth\":0,\"ticks\":\"\"}},\"type\":\"parcoords\"}],\"pie\":[{\"automargin\":true,\"type\":\"pie\"}],\"scatter\":[{\"marker\":{\"colorbar\":{\"outlinewidth\":0,\"ticks\":\"\"}},\"type\":\"scatter\"}],\"scatter3d\":[{\"line\":{\"colorbar\":{\"outlinewidth\":0,\"ticks\":\"\"}},\"marker\":{\"colorbar\":{\"outlinewidth\":0,\"ticks\":\"\"}},\"type\":\"scatter3d\"}],\"scattercarpet\":[{\"marker\":{\"colorbar\":{\"outlinewidth\":0,\"ticks\":\"\"}},\"type\":\"scattercarpet\"}],\"scattergeo\":[{\"marker\":{\"colorbar\":{\"outlinewidth\":0,\"ticks\":\"\"}},\"type\":\"scattergeo\"}],\"scattergl\":[{\"marker\":{\"colorbar\":{\"outlinewidth\":0,\"ticks\":\"\"}},\"type\":\"scattergl\"}],\"scattermapbox\":[{\"marker\":{\"colorbar\":{\"outlinewidth\":0,\"ticks\":\"\"}},\"type\":\"scattermapbox\"}],\"scatterpolar\":[{\"marker\":{\"colorbar\":{\"outlinewidth\":0,\"ticks\":\"\"}},\"type\":\"scatterpolar\"}],\"scatterpolargl\":[{\"marker\":{\"colorbar\":{\"outlinewidth\":0,\"ticks\":\"\"}},\"type\":\"scatterpolargl\"}],\"scatterternary\":[{\"marker\":{\"colorbar\":{\"outlinewidth\":0,\"ticks\":\"\"}},\"type\":\"scatterternary\"}],\"surface\":[{\"colorbar\":{\"outlinewidth\":0,\"ticks\":\"\"},\"colorscale\":[[0.0,\"#0d0887\"],[0.1111111111111111,\"#46039f\"],[0.2222222222222222,\"#7201a8\"],[0.3333333333333333,\"#9c179e\"],[0.4444444444444444,\"#bd3786\"],[0.5555555555555556,\"#d8576b\"],[0.6666666666666666,\"#ed7953\"],[0.7777777777777778,\"#fb9f3a\"],[0.8888888888888888,\"#fdca26\"],[1.0,\"#f0f921\"]],\"type\":\"surface\"}],\"table\":[{\"cells\":{\"fill\":{\"color\":\"#EBF0F8\"},\"line\":{\"color\":\"white\"}},\"header\":{\"fill\":{\"color\":\"#C8D4E3\"},\"line\":{\"color\":\"white\"}},\"type\":\"table\"}]},\"layout\":{\"annotationdefaults\":{\"arrowcolor\":\"#2a3f5f\",\"arrowhead\":0,\"arrowwidth\":1},\"autotypenumbers\":\"strict\",\"coloraxis\":{\"colorbar\":{\"outlinewidth\":0,\"ticks\":\"\"}},\"colorscale\":{\"diverging\":[[0,\"#8e0152\"],[0.1,\"#c51b7d\"],[0.2,\"#de77ae\"],[0.3,\"#f1b6da\"],[0.4,\"#fde0ef\"],[0.5,\"#f7f7f7\"],[0.6,\"#e6f5d0\"],[0.7,\"#b8e186\"],[0.8,\"#7fbc41\"],[0.9,\"#4d9221\"],[1,\"#276419\"]],\"sequential\":[[0.0,\"#0d0887\"],[0.1111111111111111,\"#46039f\"],[0.2222222222222222,\"#7201a8\"],[0.3333333333333333,\"#9c179e\"],[0.4444444444444444,\"#bd3786\"],[0.5555555555555556,\"#d8576b\"],[0.6666666666666666,\"#ed7953\"],[0.7777777777777778,\"#fb9f3a\"],[0.8888888888888888,\"#fdca26\"],[1.0,\"#f0f921\"]],\"sequentialminus\":[[0.0,\"#0d0887\"],[0.1111111111111111,\"#46039f\"],[0.2222222222222222,\"#7201a8\"],[0.3333333333333333,\"#9c179e\"],[0.4444444444444444,\"#bd3786\"],[0.5555555555555556,\"#d8576b\"],[0.6666666666666666,\"#ed7953\"],[0.7777777777777778,\"#fb9f3a\"],[0.8888888888888888,\"#fdca26\"],[1.0,\"#f0f921\"]]},\"colorway\":[\"#636efa\",\"#EF553B\",\"#00cc96\",\"#ab63fa\",\"#FFA15A\",\"#19d3f3\",\"#FF6692\",\"#B6E880\",\"#FF97FF\",\"#FECB52\"],\"font\":{\"color\":\"#2a3f5f\"},\"geo\":{\"bgcolor\":\"white\",\"lakecolor\":\"white\",\"landcolor\":\"#E5ECF6\",\"showlakes\":true,\"showland\":true,\"subunitcolor\":\"white\"},\"hoverlabel\":{\"align\":\"left\"},\"hovermode\":\"closest\",\"mapbox\":{\"style\":\"light\"},\"paper_bgcolor\":\"white\",\"plot_bgcolor\":\"#E5ECF6\",\"polar\":{\"angularaxis\":{\"gridcolor\":\"white\",\"linecolor\":\"white\",\"ticks\":\"\"},\"bgcolor\":\"#E5ECF6\",\"radialaxis\":{\"gridcolor\":\"white\",\"linecolor\":\"white\",\"ticks\":\"\"}},\"scene\":{\"xaxis\":{\"backgroundcolor\":\"#E5ECF6\",\"gridcolor\":\"white\",\"gridwidth\":2,\"linecolor\":\"white\",\"showbackground\":true,\"ticks\":\"\",\"zerolinecolor\":\"white\"},\"yaxis\":{\"backgroundcolor\":\"#E5ECF6\",\"gridcolor\":\"white\",\"gridwidth\":2,\"linecolor\":\"white\",\"showbackground\":true,\"ticks\":\"\",\"zerolinecolor\":\"white\"},\"zaxis\":{\"backgroundcolor\":\"#E5ECF6\",\"gridcolor\":\"white\",\"gridwidth\":2,\"linecolor\":\"white\",\"showbackground\":true,\"ticks\":\"\",\"zerolinecolor\":\"white\"}},\"shapedefaults\":{\"line\":{\"color\":\"#2a3f5f\"}},\"ternary\":{\"aaxis\":{\"gridcolor\":\"white\",\"linecolor\":\"white\",\"ticks\":\"\"},\"baxis\":{\"gridcolor\":\"white\",\"linecolor\":\"white\",\"ticks\":\"\"},\"bgcolor\":\"#E5ECF6\",\"caxis\":{\"gridcolor\":\"white\",\"linecolor\":\"white\",\"ticks\":\"\"}},\"title\":{\"x\":0.05},\"xaxis\":{\"automargin\":true,\"gridcolor\":\"white\",\"linecolor\":\"white\",\"ticks\":\"\",\"title\":{\"standoff\":15},\"zerolinecolor\":\"white\",\"zerolinewidth\":2},\"yaxis\":{\"automargin\":true,\"gridcolor\":\"white\",\"linecolor\":\"white\",\"ticks\":\"\",\"title\":{\"standoff\":15},\"zerolinecolor\":\"white\",\"zerolinewidth\":2}}},\"title\":{\"text\":\"Susceptible BreakOut in Argentina\"}},                        {\"responsive\": true}                    ).then(function(){\n",
       "                            \n",
       "var gd = document.getElementById('906b082c-5993-4acf-b521-f8f984edec46');\n",
       "var x = new MutationObserver(function (mutations, observer) {{\n",
       "        var display = window.getComputedStyle(gd).display;\n",
       "        if (!display || display === 'none') {{\n",
       "            console.log([gd, 'removed!']);\n",
       "            Plotly.purge(gd);\n",
       "            observer.disconnect();\n",
       "        }}\n",
       "}});\n",
       "\n",
       "// Listen for the removal of the full notebook cells\n",
       "var notebookContainer = gd.closest('#notebook-container');\n",
       "if (notebookContainer) {{\n",
       "    x.observe(notebookContainer, {childList: true});\n",
       "}}\n",
       "\n",
       "// Listen for the clearing of the current output cell\n",
       "var outputEl = gd.closest('.output');\n",
       "if (outputEl) {{\n",
       "    x.observe(outputEl, {childList: true});\n",
       "}}\n",
       "\n",
       "                        })                };                });            </script>        </div>"
      ]
     },
     "metadata": {},
     "output_type": "display_data"
    }
   ],
   "source": [
    "import plotly.graph_objects as go\n",
    "\n",
    "colors = ['lightslategray',] * 5\n",
    "colors[1] = 'crimson'\n",
    "\n",
    "fig = go.Figure()\n",
    "\n",
    "fig.add_trace(go.Bar(x = df['Country'],y=df['Susceptible_BreakOut_for_Omicorn_Infection'], name='Susceptible BreakOut for Omicorn Infection'))\n",
    "\n",
    "fig.add_trace(go.Bar(x = df['Country'],y=df['Susceptible_BreakOut_for_Omicorn_Severe_Disease'], name='Susceptible BreakOut for Omicorn Severe Disease'))\n",
    "\n",
    "\n",
    "fig.add_trace(go.Bar(x = df['Country'],y=df['Susceptible_BreakOut_for_Alpha_Ancestral_Severe_Disease'], name='Susceptible BreakOut for Alpha Ancestral Severe Disease'))\n",
    "\n",
    "fig.add_trace(go.Bar(x = df['Country'],y=df['Susceptible_BreakOut_for_Alpha_Ancestral_Infection'], name='Susceptible BreakOut for Alpha Ancestral Infection'))\n",
    "\n",
    "fig.add_trace(go.Bar(x = df['Country'],y=df['Susceptible_BreakOut_for_Beta_Gamma_Delta_Severe_Disease'], name='Susceptible BreakOut for Beta Gamma Delta Severe Disease'))\n",
    "\n",
    "fig.add_trace(go.Bar(x = df['Country'],y=df['Susceptible_BreakOut_for_Beta_Gamma_Delta_Infection'], name='Susceptible BreakOut for Beta Gamma Delta Infection'))\n",
    "\n",
    "\n",
    "fig.update_layout(title_text='Susceptible BreakOut in Argentina')\n"
   ]
  },
  {
   "cell_type": "code",
   "execution_count": null,
   "id": "32687c4e",
   "metadata": {},
   "outputs": [],
   "source": []
  },
  {
   "cell_type": "code",
   "execution_count": null,
   "id": "9302fb8d",
   "metadata": {},
   "outputs": [],
   "source": []
  },
  {
   "cell_type": "code",
   "execution_count": null,
   "id": "6af12b78",
   "metadata": {},
   "outputs": [],
   "source": [
    "test = df_1.groupby([\"Country\", \"Vaccine_Manufacturer\"])"
   ]
  },
  {
   "cell_type": "code",
   "execution_count": null,
   "id": "24c93df9",
   "metadata": {},
   "outputs": [],
   "source": [
    "test.first()"
   ]
  },
  {
   "cell_type": "code",
   "execution_count": null,
   "id": "52d15f9d",
   "metadata": {},
   "outputs": [],
   "source": [
    "import seaborn as sns\n",
    "import matplotlib.pyplot as plt\n"
   ]
  },
  {
   "cell_type": "code",
   "execution_count": null,
   "id": "e5210138",
   "metadata": {},
   "outputs": [],
   "source": [
    "df_1.info()"
   ]
  },
  {
   "cell_type": "code",
   "execution_count": null,
   "id": "5c8cab75",
   "metadata": {},
   "outputs": [],
   "source": [
    "# g = df.groupby('Vaccine_Manufacturer')['Total_Vaccinations'].value_counts().reset_index(name='t')\n",
    "# g['size'] = df.groupby('c')['type'].transform('size')\n"
   ]
  },
  {
   "cell_type": "code",
   "execution_count": null,
   "id": "8c9690c4",
   "metadata": {},
   "outputs": [],
   "source": [
    "df_1.groupby(['Country'])['Total_Vaccinations'].transform(lambda x: x/x.sum())\n"
   ]
  },
  {
   "cell_type": "code",
   "execution_count": null,
   "id": "a41d420f",
   "metadata": {},
   "outputs": [],
   "source": [
    "df_1"
   ]
  },
  {
   "cell_type": "code",
   "execution_count": null,
   "id": "7528e87a",
   "metadata": {},
   "outputs": [],
   "source": [
    "df_1.groupby(['Country', 'Vaccine_Manufacturer'])['Total_Vaccinations'].sum().rename(\"Courses\").groupby(level = 0).transform(lambda x: x/x.sum())\n"
   ]
  },
  {
   "cell_type": "code",
   "execution_count": null,
   "id": "a13cd018",
   "metadata": {},
   "outputs": [],
   "source": [
    "df_3 = df_1[total]\n"
   ]
  },
  {
   "cell_type": "code",
   "execution_count": null,
   "id": "42403dee",
   "metadata": {},
   "outputs": [],
   "source": []
  }
 ],
 "metadata": {
  "kernelspec": {
   "display_name": "Python 3 (ipykernel)",
   "language": "python",
   "name": "python3"
  },
  "language_info": {
   "codemirror_mode": {
    "name": "ipython",
    "version": 3
   },
   "file_extension": ".py",
   "mimetype": "text/x-python",
   "name": "python",
   "nbconvert_exporter": "python",
   "pygments_lexer": "ipython3",
   "version": "3.9.12"
  }
 },
 "nbformat": 4,
 "nbformat_minor": 5
}
